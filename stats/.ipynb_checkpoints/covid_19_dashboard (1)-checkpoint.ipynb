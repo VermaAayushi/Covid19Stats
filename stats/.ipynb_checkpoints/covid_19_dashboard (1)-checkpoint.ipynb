{
 "cells": [
  {
   "cell_type": "markdown",
   "metadata": {
    "id": "0g_5GpPAF2I2"
   },
   "source": [
    "# COVID-19 Interactive Analysis Dashboard"
   ]
  },
  {
   "cell_type": "code",
   "execution_count": 28,
   "metadata": {
    "executionInfo": {
     "elapsed": 3029,
     "status": "ok",
     "timestamp": 1606304381712,
     "user": {
      "displayName": "Tanvi.Pathak Btech2018",
      "photoUrl": "",
      "userId": "14428118753927477441"
     },
     "user_tz": -330
    },
    "id": "JYPTfWtaF2I4"
   },
   "outputs": [],
   "source": [
    "# importing libraries\n",
    "\n",
    "from __future__ import print_function\n",
    "from ipywidgets import interact, interactive, fixed, interact_manual\n",
    "from IPython.core.display import display, HTML\n",
    "\n",
    "import numpy as np\n",
    "import pandas as pd\n",
    "import matplotlib.pyplot as plt\n",
    "import plotly.express as px\n",
    "import folium\n",
    "import plotly.graph_objects as go\n",
    "import seaborn as sns\n",
    "import ipywidgets as widgets"
   ]
  },
  {
   "cell_type": "code",
   "execution_count": 29,
   "metadata": {
    "executionInfo": {
     "elapsed": 4368,
     "status": "ok",
     "timestamp": 1606304383058,
     "user": {
      "displayName": "Tanvi.Pathak Btech2018",
      "photoUrl": "",
      "userId": "14428118753927477441"
     },
     "user_tz": -330
    },
    "id": "Bl-E42JrF2I8"
   },
   "outputs": [],
   "source": [
    "# loading data right from the source:\n",
    "death_df = pd.read_csv('https://raw.githubusercontent.com/CSSEGISandData/COVID-19/master/csse_covid_19_data/csse_covid_19_time_series/time_series_covid19_deaths_global.csv')\n",
    "confirmed_df = pd.read_csv('https://raw.githubusercontent.com/CSSEGISandData/COVID-19/master/csse_covid_19_data/csse_covid_19_time_series/time_series_covid19_confirmed_global.csv')\n",
    "recovered_df = pd.read_csv('https://raw.githubusercontent.com/CSSEGISandData/COVID-19/master/csse_covid_19_data/csse_covid_19_time_series/time_series_covid19_recovered_global.csv')\n",
    "country_df = pd.read_csv('https://raw.githubusercontent.com/CSSEGISandData/COVID-19/web-data/data/cases_country.csv')"
   ]
  },
  {
   "cell_type": "code",
   "execution_count": 30,
   "metadata": {
    "colab": {
     "base_uri": "https://localhost:8080/",
     "height": 251
    },
    "executionInfo": {
     "elapsed": 4357,
     "status": "ok",
     "timestamp": 1606304383060,
     "user": {
      "displayName": "Tanvi.Pathak Btech2018",
      "photoUrl": "",
      "userId": "14428118753927477441"
     },
     "user_tz": -330
    },
    "id": "xwK_DSonF2I_",
    "outputId": "e0654547-f552-492d-e27c-4788fbb826a9"
   },
   "outputs": [
    {
     "data": {
      "text/html": [
       "<div>\n",
       "<style scoped>\n",
       "    .dataframe tbody tr th:only-of-type {\n",
       "        vertical-align: middle;\n",
       "    }\n",
       "\n",
       "    .dataframe tbody tr th {\n",
       "        vertical-align: top;\n",
       "    }\n",
       "\n",
       "    .dataframe thead th {\n",
       "        text-align: right;\n",
       "    }\n",
       "</style>\n",
       "<table border=\"1\" class=\"dataframe\">\n",
       "  <thead>\n",
       "    <tr style=\"text-align: right;\">\n",
       "      <th></th>\n",
       "      <th>Province/State</th>\n",
       "      <th>Country/Region</th>\n",
       "      <th>Lat</th>\n",
       "      <th>Long</th>\n",
       "      <th>1/22/20</th>\n",
       "      <th>1/23/20</th>\n",
       "      <th>1/24/20</th>\n",
       "      <th>1/25/20</th>\n",
       "      <th>1/26/20</th>\n",
       "      <th>1/27/20</th>\n",
       "      <th>...</th>\n",
       "      <th>11/15/20</th>\n",
       "      <th>11/16/20</th>\n",
       "      <th>11/17/20</th>\n",
       "      <th>11/18/20</th>\n",
       "      <th>11/19/20</th>\n",
       "      <th>11/20/20</th>\n",
       "      <th>11/21/20</th>\n",
       "      <th>11/22/20</th>\n",
       "      <th>11/23/20</th>\n",
       "      <th>11/24/20</th>\n",
       "    </tr>\n",
       "  </thead>\n",
       "  <tbody>\n",
       "    <tr>\n",
       "      <th>0</th>\n",
       "      <td>NaN</td>\n",
       "      <td>Afghanistan</td>\n",
       "      <td>33.93911</td>\n",
       "      <td>67.709953</td>\n",
       "      <td>0</td>\n",
       "      <td>0</td>\n",
       "      <td>0</td>\n",
       "      <td>0</td>\n",
       "      <td>0</td>\n",
       "      <td>0</td>\n",
       "      <td>...</td>\n",
       "      <td>43240</td>\n",
       "      <td>43403</td>\n",
       "      <td>43628</td>\n",
       "      <td>43851</td>\n",
       "      <td>44228</td>\n",
       "      <td>44443</td>\n",
       "      <td>44503</td>\n",
       "      <td>44706</td>\n",
       "      <td>44988</td>\n",
       "      <td>45280</td>\n",
       "    </tr>\n",
       "    <tr>\n",
       "      <th>1</th>\n",
       "      <td>NaN</td>\n",
       "      <td>Albania</td>\n",
       "      <td>41.15330</td>\n",
       "      <td>20.168300</td>\n",
       "      <td>0</td>\n",
       "      <td>0</td>\n",
       "      <td>0</td>\n",
       "      <td>0</td>\n",
       "      <td>0</td>\n",
       "      <td>0</td>\n",
       "      <td>...</td>\n",
       "      <td>27830</td>\n",
       "      <td>28432</td>\n",
       "      <td>29126</td>\n",
       "      <td>29837</td>\n",
       "      <td>30623</td>\n",
       "      <td>31459</td>\n",
       "      <td>32196</td>\n",
       "      <td>32761</td>\n",
       "      <td>33556</td>\n",
       "      <td>34300</td>\n",
       "    </tr>\n",
       "    <tr>\n",
       "      <th>2</th>\n",
       "      <td>NaN</td>\n",
       "      <td>Algeria</td>\n",
       "      <td>28.03390</td>\n",
       "      <td>1.659600</td>\n",
       "      <td>0</td>\n",
       "      <td>0</td>\n",
       "      <td>0</td>\n",
       "      <td>0</td>\n",
       "      <td>0</td>\n",
       "      <td>0</td>\n",
       "      <td>...</td>\n",
       "      <td>67679</td>\n",
       "      <td>68589</td>\n",
       "      <td>69591</td>\n",
       "      <td>70629</td>\n",
       "      <td>71652</td>\n",
       "      <td>72755</td>\n",
       "      <td>73774</td>\n",
       "      <td>74862</td>\n",
       "      <td>75867</td>\n",
       "      <td>77000</td>\n",
       "    </tr>\n",
       "    <tr>\n",
       "      <th>3</th>\n",
       "      <td>NaN</td>\n",
       "      <td>Andorra</td>\n",
       "      <td>42.50630</td>\n",
       "      <td>1.521800</td>\n",
       "      <td>0</td>\n",
       "      <td>0</td>\n",
       "      <td>0</td>\n",
       "      <td>0</td>\n",
       "      <td>0</td>\n",
       "      <td>0</td>\n",
       "      <td>...</td>\n",
       "      <td>5872</td>\n",
       "      <td>5914</td>\n",
       "      <td>5951</td>\n",
       "      <td>6018</td>\n",
       "      <td>6066</td>\n",
       "      <td>6142</td>\n",
       "      <td>6207</td>\n",
       "      <td>6256</td>\n",
       "      <td>6304</td>\n",
       "      <td>6351</td>\n",
       "    </tr>\n",
       "    <tr>\n",
       "      <th>4</th>\n",
       "      <td>NaN</td>\n",
       "      <td>Angola</td>\n",
       "      <td>-11.20270</td>\n",
       "      <td>17.873900</td>\n",
       "      <td>0</td>\n",
       "      <td>0</td>\n",
       "      <td>0</td>\n",
       "      <td>0</td>\n",
       "      <td>0</td>\n",
       "      <td>0</td>\n",
       "      <td>...</td>\n",
       "      <td>13451</td>\n",
       "      <td>13615</td>\n",
       "      <td>13818</td>\n",
       "      <td>13922</td>\n",
       "      <td>14134</td>\n",
       "      <td>14267</td>\n",
       "      <td>14413</td>\n",
       "      <td>14493</td>\n",
       "      <td>14634</td>\n",
       "      <td>14742</td>\n",
       "    </tr>\n",
       "  </tbody>\n",
       "</table>\n",
       "<p>5 rows × 312 columns</p>\n",
       "</div>"
      ],
      "text/plain": [
       "  Province/State Country/Region       Lat       Long  1/22/20  1/23/20  \\\n",
       "0            NaN    Afghanistan  33.93911  67.709953        0        0   \n",
       "1            NaN        Albania  41.15330  20.168300        0        0   \n",
       "2            NaN        Algeria  28.03390   1.659600        0        0   \n",
       "3            NaN        Andorra  42.50630   1.521800        0        0   \n",
       "4            NaN         Angola -11.20270  17.873900        0        0   \n",
       "\n",
       "   1/24/20  1/25/20  1/26/20  1/27/20  ...  11/15/20  11/16/20  11/17/20  \\\n",
       "0        0        0        0        0  ...     43240     43403     43628   \n",
       "1        0        0        0        0  ...     27830     28432     29126   \n",
       "2        0        0        0        0  ...     67679     68589     69591   \n",
       "3        0        0        0        0  ...      5872      5914      5951   \n",
       "4        0        0        0        0  ...     13451     13615     13818   \n",
       "\n",
       "   11/18/20  11/19/20  11/20/20  11/21/20  11/22/20  11/23/20  11/24/20  \n",
       "0     43851     44228     44443     44503     44706     44988     45280  \n",
       "1     29837     30623     31459     32196     32761     33556     34300  \n",
       "2     70629     71652     72755     73774     74862     75867     77000  \n",
       "3      6018      6066      6142      6207      6256      6304      6351  \n",
       "4     13922     14134     14267     14413     14493     14634     14742  \n",
       "\n",
       "[5 rows x 312 columns]"
      ]
     },
     "execution_count": 30,
     "metadata": {},
     "output_type": "execute_result"
    }
   ],
   "source": [
    "confirmed_df.head()"
   ]
  },
  {
   "cell_type": "code",
   "execution_count": 31,
   "metadata": {
    "colab": {
     "base_uri": "https://localhost:8080/",
     "height": 251
    },
    "executionInfo": {
     "elapsed": 4345,
     "status": "ok",
     "timestamp": 1606304383062,
     "user": {
      "displayName": "Tanvi.Pathak Btech2018",
      "photoUrl": "",
      "userId": "14428118753927477441"
     },
     "user_tz": -330
    },
    "id": "MoYrEnk3F2JC",
    "outputId": "9e223a4f-5e9b-4b23-cf79-46d93ea0b97b"
   },
   "outputs": [
    {
     "data": {
      "text/html": [
       "<div>\n",
       "<style scoped>\n",
       "    .dataframe tbody tr th:only-of-type {\n",
       "        vertical-align: middle;\n",
       "    }\n",
       "\n",
       "    .dataframe tbody tr th {\n",
       "        vertical-align: top;\n",
       "    }\n",
       "\n",
       "    .dataframe thead th {\n",
       "        text-align: right;\n",
       "    }\n",
       "</style>\n",
       "<table border=\"1\" class=\"dataframe\">\n",
       "  <thead>\n",
       "    <tr style=\"text-align: right;\">\n",
       "      <th></th>\n",
       "      <th>Province/State</th>\n",
       "      <th>Country/Region</th>\n",
       "      <th>Lat</th>\n",
       "      <th>Long</th>\n",
       "      <th>1/22/20</th>\n",
       "      <th>1/23/20</th>\n",
       "      <th>1/24/20</th>\n",
       "      <th>1/25/20</th>\n",
       "      <th>1/26/20</th>\n",
       "      <th>1/27/20</th>\n",
       "      <th>...</th>\n",
       "      <th>11/15/20</th>\n",
       "      <th>11/16/20</th>\n",
       "      <th>11/17/20</th>\n",
       "      <th>11/18/20</th>\n",
       "      <th>11/19/20</th>\n",
       "      <th>11/20/20</th>\n",
       "      <th>11/21/20</th>\n",
       "      <th>11/22/20</th>\n",
       "      <th>11/23/20</th>\n",
       "      <th>11/24/20</th>\n",
       "    </tr>\n",
       "  </thead>\n",
       "  <tbody>\n",
       "    <tr>\n",
       "      <th>0</th>\n",
       "      <td>NaN</td>\n",
       "      <td>Afghanistan</td>\n",
       "      <td>33.93911</td>\n",
       "      <td>67.709953</td>\n",
       "      <td>0</td>\n",
       "      <td>0</td>\n",
       "      <td>0</td>\n",
       "      <td>0</td>\n",
       "      <td>0</td>\n",
       "      <td>0</td>\n",
       "      <td>...</td>\n",
       "      <td>35092</td>\n",
       "      <td>35137</td>\n",
       "      <td>35160</td>\n",
       "      <td>35295</td>\n",
       "      <td>35350</td>\n",
       "      <td>35370</td>\n",
       "      <td>35422</td>\n",
       "      <td>35934</td>\n",
       "      <td>35976</td>\n",
       "      <td>36122</td>\n",
       "    </tr>\n",
       "    <tr>\n",
       "      <th>1</th>\n",
       "      <td>NaN</td>\n",
       "      <td>Albania</td>\n",
       "      <td>41.15330</td>\n",
       "      <td>20.168300</td>\n",
       "      <td>0</td>\n",
       "      <td>0</td>\n",
       "      <td>0</td>\n",
       "      <td>0</td>\n",
       "      <td>0</td>\n",
       "      <td>0</td>\n",
       "      <td>...</td>\n",
       "      <td>12889</td>\n",
       "      <td>13453</td>\n",
       "      <td>13804</td>\n",
       "      <td>14216</td>\n",
       "      <td>14565</td>\n",
       "      <td>15055</td>\n",
       "      <td>15469</td>\n",
       "      <td>15842</td>\n",
       "      <td>16230</td>\n",
       "      <td>16666</td>\n",
       "    </tr>\n",
       "    <tr>\n",
       "      <th>2</th>\n",
       "      <td>NaN</td>\n",
       "      <td>Algeria</td>\n",
       "      <td>28.03390</td>\n",
       "      <td>1.659600</td>\n",
       "      <td>0</td>\n",
       "      <td>0</td>\n",
       "      <td>0</td>\n",
       "      <td>0</td>\n",
       "      <td>0</td>\n",
       "      <td>0</td>\n",
       "      <td>...</td>\n",
       "      <td>44633</td>\n",
       "      <td>45148</td>\n",
       "      <td>45148</td>\n",
       "      <td>46326</td>\n",
       "      <td>46962</td>\n",
       "      <td>47581</td>\n",
       "      <td>48183</td>\n",
       "      <td>48794</td>\n",
       "      <td>49421</td>\n",
       "      <td>50070</td>\n",
       "    </tr>\n",
       "    <tr>\n",
       "      <th>3</th>\n",
       "      <td>NaN</td>\n",
       "      <td>Andorra</td>\n",
       "      <td>42.50630</td>\n",
       "      <td>1.521800</td>\n",
       "      <td>0</td>\n",
       "      <td>0</td>\n",
       "      <td>0</td>\n",
       "      <td>0</td>\n",
       "      <td>0</td>\n",
       "      <td>0</td>\n",
       "      <td>...</td>\n",
       "      <td>4747</td>\n",
       "      <td>4830</td>\n",
       "      <td>4965</td>\n",
       "      <td>5055</td>\n",
       "      <td>5127</td>\n",
       "      <td>5239</td>\n",
       "      <td>5290</td>\n",
       "      <td>5358</td>\n",
       "      <td>5405</td>\n",
       "      <td>5503</td>\n",
       "    </tr>\n",
       "    <tr>\n",
       "      <th>4</th>\n",
       "      <td>NaN</td>\n",
       "      <td>Angola</td>\n",
       "      <td>-11.20270</td>\n",
       "      <td>17.873900</td>\n",
       "      <td>0</td>\n",
       "      <td>0</td>\n",
       "      <td>0</td>\n",
       "      <td>0</td>\n",
       "      <td>0</td>\n",
       "      <td>0</td>\n",
       "      <td>...</td>\n",
       "      <td>6444</td>\n",
       "      <td>6523</td>\n",
       "      <td>6582</td>\n",
       "      <td>6623</td>\n",
       "      <td>7062</td>\n",
       "      <td>7117</td>\n",
       "      <td>7273</td>\n",
       "      <td>7346</td>\n",
       "      <td>7351</td>\n",
       "      <td>7444</td>\n",
       "    </tr>\n",
       "  </tbody>\n",
       "</table>\n",
       "<p>5 rows × 312 columns</p>\n",
       "</div>"
      ],
      "text/plain": [
       "  Province/State Country/Region       Lat       Long  1/22/20  1/23/20  \\\n",
       "0            NaN    Afghanistan  33.93911  67.709953        0        0   \n",
       "1            NaN        Albania  41.15330  20.168300        0        0   \n",
       "2            NaN        Algeria  28.03390   1.659600        0        0   \n",
       "3            NaN        Andorra  42.50630   1.521800        0        0   \n",
       "4            NaN         Angola -11.20270  17.873900        0        0   \n",
       "\n",
       "   1/24/20  1/25/20  1/26/20  1/27/20  ...  11/15/20  11/16/20  11/17/20  \\\n",
       "0        0        0        0        0  ...     35092     35137     35160   \n",
       "1        0        0        0        0  ...     12889     13453     13804   \n",
       "2        0        0        0        0  ...     44633     45148     45148   \n",
       "3        0        0        0        0  ...      4747      4830      4965   \n",
       "4        0        0        0        0  ...      6444      6523      6582   \n",
       "\n",
       "   11/18/20  11/19/20  11/20/20  11/21/20  11/22/20  11/23/20  11/24/20  \n",
       "0     35295     35350     35370     35422     35934     35976     36122  \n",
       "1     14216     14565     15055     15469     15842     16230     16666  \n",
       "2     46326     46962     47581     48183     48794     49421     50070  \n",
       "3      5055      5127      5239      5290      5358      5405      5503  \n",
       "4      6623      7062      7117      7273      7346      7351      7444  \n",
       "\n",
       "[5 rows x 312 columns]"
      ]
     },
     "execution_count": 31,
     "metadata": {},
     "output_type": "execute_result"
    }
   ],
   "source": [
    "recovered_df.head()"
   ]
  },
  {
   "cell_type": "code",
   "execution_count": 32,
   "metadata": {
    "colab": {
     "base_uri": "https://localhost:8080/",
     "height": 251
    },
    "executionInfo": {
     "elapsed": 4335,
     "status": "ok",
     "timestamp": 1606304383064,
     "user": {
      "displayName": "Tanvi.Pathak Btech2018",
      "photoUrl": "",
      "userId": "14428118753927477441"
     },
     "user_tz": -330
    },
    "id": "7zSsisRWF2JF",
    "outputId": "460876ee-c954-46c9-f5c4-022e3ca8e0cb"
   },
   "outputs": [
    {
     "data": {
      "text/html": [
       "<div>\n",
       "<style scoped>\n",
       "    .dataframe tbody tr th:only-of-type {\n",
       "        vertical-align: middle;\n",
       "    }\n",
       "\n",
       "    .dataframe tbody tr th {\n",
       "        vertical-align: top;\n",
       "    }\n",
       "\n",
       "    .dataframe thead th {\n",
       "        text-align: right;\n",
       "    }\n",
       "</style>\n",
       "<table border=\"1\" class=\"dataframe\">\n",
       "  <thead>\n",
       "    <tr style=\"text-align: right;\">\n",
       "      <th></th>\n",
       "      <th>Province/State</th>\n",
       "      <th>Country/Region</th>\n",
       "      <th>Lat</th>\n",
       "      <th>Long</th>\n",
       "      <th>1/22/20</th>\n",
       "      <th>1/23/20</th>\n",
       "      <th>1/24/20</th>\n",
       "      <th>1/25/20</th>\n",
       "      <th>1/26/20</th>\n",
       "      <th>1/27/20</th>\n",
       "      <th>...</th>\n",
       "      <th>11/15/20</th>\n",
       "      <th>11/16/20</th>\n",
       "      <th>11/17/20</th>\n",
       "      <th>11/18/20</th>\n",
       "      <th>11/19/20</th>\n",
       "      <th>11/20/20</th>\n",
       "      <th>11/21/20</th>\n",
       "      <th>11/22/20</th>\n",
       "      <th>11/23/20</th>\n",
       "      <th>11/24/20</th>\n",
       "    </tr>\n",
       "  </thead>\n",
       "  <tbody>\n",
       "    <tr>\n",
       "      <th>0</th>\n",
       "      <td>NaN</td>\n",
       "      <td>Afghanistan</td>\n",
       "      <td>33.93911</td>\n",
       "      <td>67.709953</td>\n",
       "      <td>0</td>\n",
       "      <td>0</td>\n",
       "      <td>0</td>\n",
       "      <td>0</td>\n",
       "      <td>0</td>\n",
       "      <td>0</td>\n",
       "      <td>...</td>\n",
       "      <td>1617</td>\n",
       "      <td>1626</td>\n",
       "      <td>1638</td>\n",
       "      <td>1645</td>\n",
       "      <td>1650</td>\n",
       "      <td>1661</td>\n",
       "      <td>1675</td>\n",
       "      <td>1687</td>\n",
       "      <td>1695</td>\n",
       "      <td>1712</td>\n",
       "    </tr>\n",
       "    <tr>\n",
       "      <th>1</th>\n",
       "      <td>NaN</td>\n",
       "      <td>Albania</td>\n",
       "      <td>41.15330</td>\n",
       "      <td>20.168300</td>\n",
       "      <td>0</td>\n",
       "      <td>0</td>\n",
       "      <td>0</td>\n",
       "      <td>0</td>\n",
       "      <td>0</td>\n",
       "      <td>0</td>\n",
       "      <td>...</td>\n",
       "      <td>623</td>\n",
       "      <td>631</td>\n",
       "      <td>637</td>\n",
       "      <td>646</td>\n",
       "      <td>657</td>\n",
       "      <td>672</td>\n",
       "      <td>685</td>\n",
       "      <td>699</td>\n",
       "      <td>716</td>\n",
       "      <td>735</td>\n",
       "    </tr>\n",
       "    <tr>\n",
       "      <th>2</th>\n",
       "      <td>NaN</td>\n",
       "      <td>Algeria</td>\n",
       "      <td>28.03390</td>\n",
       "      <td>1.659600</td>\n",
       "      <td>0</td>\n",
       "      <td>0</td>\n",
       "      <td>0</td>\n",
       "      <td>0</td>\n",
       "      <td>0</td>\n",
       "      <td>0</td>\n",
       "      <td>...</td>\n",
       "      <td>2154</td>\n",
       "      <td>2168</td>\n",
       "      <td>2186</td>\n",
       "      <td>2206</td>\n",
       "      <td>2224</td>\n",
       "      <td>2236</td>\n",
       "      <td>2255</td>\n",
       "      <td>2272</td>\n",
       "      <td>2294</td>\n",
       "      <td>2309</td>\n",
       "    </tr>\n",
       "    <tr>\n",
       "      <th>3</th>\n",
       "      <td>NaN</td>\n",
       "      <td>Andorra</td>\n",
       "      <td>42.50630</td>\n",
       "      <td>1.521800</td>\n",
       "      <td>0</td>\n",
       "      <td>0</td>\n",
       "      <td>0</td>\n",
       "      <td>0</td>\n",
       "      <td>0</td>\n",
       "      <td>0</td>\n",
       "      <td>...</td>\n",
       "      <td>76</td>\n",
       "      <td>76</td>\n",
       "      <td>76</td>\n",
       "      <td>76</td>\n",
       "      <td>76</td>\n",
       "      <td>76</td>\n",
       "      <td>76</td>\n",
       "      <td>76</td>\n",
       "      <td>76</td>\n",
       "      <td>76</td>\n",
       "    </tr>\n",
       "    <tr>\n",
       "      <th>4</th>\n",
       "      <td>NaN</td>\n",
       "      <td>Angola</td>\n",
       "      <td>-11.20270</td>\n",
       "      <td>17.873900</td>\n",
       "      <td>0</td>\n",
       "      <td>0</td>\n",
       "      <td>0</td>\n",
       "      <td>0</td>\n",
       "      <td>0</td>\n",
       "      <td>0</td>\n",
       "      <td>...</td>\n",
       "      <td>322</td>\n",
       "      <td>324</td>\n",
       "      <td>328</td>\n",
       "      <td>332</td>\n",
       "      <td>333</td>\n",
       "      <td>334</td>\n",
       "      <td>336</td>\n",
       "      <td>337</td>\n",
       "      <td>337</td>\n",
       "      <td>338</td>\n",
       "    </tr>\n",
       "  </tbody>\n",
       "</table>\n",
       "<p>5 rows × 312 columns</p>\n",
       "</div>"
      ],
      "text/plain": [
       "  Province/State Country/Region       Lat       Long  1/22/20  1/23/20  \\\n",
       "0            NaN    Afghanistan  33.93911  67.709953        0        0   \n",
       "1            NaN        Albania  41.15330  20.168300        0        0   \n",
       "2            NaN        Algeria  28.03390   1.659600        0        0   \n",
       "3            NaN        Andorra  42.50630   1.521800        0        0   \n",
       "4            NaN         Angola -11.20270  17.873900        0        0   \n",
       "\n",
       "   1/24/20  1/25/20  1/26/20  1/27/20  ...  11/15/20  11/16/20  11/17/20  \\\n",
       "0        0        0        0        0  ...      1617      1626      1638   \n",
       "1        0        0        0        0  ...       623       631       637   \n",
       "2        0        0        0        0  ...      2154      2168      2186   \n",
       "3        0        0        0        0  ...        76        76        76   \n",
       "4        0        0        0        0  ...       322       324       328   \n",
       "\n",
       "   11/18/20  11/19/20  11/20/20  11/21/20  11/22/20  11/23/20  11/24/20  \n",
       "0      1645      1650      1661      1675      1687      1695      1712  \n",
       "1       646       657       672       685       699       716       735  \n",
       "2      2206      2224      2236      2255      2272      2294      2309  \n",
       "3        76        76        76        76        76        76        76  \n",
       "4       332       333       334       336       337       337       338  \n",
       "\n",
       "[5 rows x 312 columns]"
      ]
     },
     "execution_count": 32,
     "metadata": {},
     "output_type": "execute_result"
    }
   ],
   "source": [
    "death_df.head()"
   ]
  },
  {
   "cell_type": "code",
   "execution_count": 33,
   "metadata": {
    "colab": {
     "base_uri": "https://localhost:8080/",
     "height": 309
    },
    "executionInfo": {
     "elapsed": 4328,
     "status": "ok",
     "timestamp": 1606304383070,
     "user": {
      "displayName": "Tanvi.Pathak Btech2018",
      "photoUrl": "",
      "userId": "14428118753927477441"
     },
     "user_tz": -330
    },
    "id": "h7rP9x6-F2JJ",
    "outputId": "1a4a32e7-1515-4663-969a-0bbbd3dc2326"
   },
   "outputs": [
    {
     "data": {
      "text/html": [
       "<div>\n",
       "<style scoped>\n",
       "    .dataframe tbody tr th:only-of-type {\n",
       "        vertical-align: middle;\n",
       "    }\n",
       "\n",
       "    .dataframe tbody tr th {\n",
       "        vertical-align: top;\n",
       "    }\n",
       "\n",
       "    .dataframe thead th {\n",
       "        text-align: right;\n",
       "    }\n",
       "</style>\n",
       "<table border=\"1\" class=\"dataframe\">\n",
       "  <thead>\n",
       "    <tr style=\"text-align: right;\">\n",
       "      <th></th>\n",
       "      <th>Country_Region</th>\n",
       "      <th>Last_Update</th>\n",
       "      <th>Lat</th>\n",
       "      <th>Long_</th>\n",
       "      <th>Confirmed</th>\n",
       "      <th>Deaths</th>\n",
       "      <th>Recovered</th>\n",
       "      <th>Active</th>\n",
       "      <th>Incident_Rate</th>\n",
       "      <th>People_Tested</th>\n",
       "      <th>People_Hospitalized</th>\n",
       "      <th>Mortality_Rate</th>\n",
       "      <th>UID</th>\n",
       "      <th>ISO3</th>\n",
       "    </tr>\n",
       "  </thead>\n",
       "  <tbody>\n",
       "    <tr>\n",
       "      <th>0</th>\n",
       "      <td>Afghanistan</td>\n",
       "      <td>2020-11-25 12:26:29</td>\n",
       "      <td>33.93911</td>\n",
       "      <td>67.709953</td>\n",
       "      <td>45490.0</td>\n",
       "      <td>1725.0</td>\n",
       "      <td>36145.0</td>\n",
       "      <td>7620.0</td>\n",
       "      <td>116.855738</td>\n",
       "      <td>NaN</td>\n",
       "      <td>NaN</td>\n",
       "      <td>3.792042</td>\n",
       "      <td>4</td>\n",
       "      <td>AFG</td>\n",
       "    </tr>\n",
       "    <tr>\n",
       "      <th>1</th>\n",
       "      <td>Albania</td>\n",
       "      <td>2020-11-25 12:26:29</td>\n",
       "      <td>41.15330</td>\n",
       "      <td>20.168300</td>\n",
       "      <td>34300.0</td>\n",
       "      <td>735.0</td>\n",
       "      <td>16666.0</td>\n",
       "      <td>16899.0</td>\n",
       "      <td>1191.882688</td>\n",
       "      <td>NaN</td>\n",
       "      <td>NaN</td>\n",
       "      <td>2.142857</td>\n",
       "      <td>8</td>\n",
       "      <td>ALB</td>\n",
       "    </tr>\n",
       "    <tr>\n",
       "      <th>2</th>\n",
       "      <td>Algeria</td>\n",
       "      <td>2020-11-25 12:26:29</td>\n",
       "      <td>28.03390</td>\n",
       "      <td>1.659600</td>\n",
       "      <td>77000.0</td>\n",
       "      <td>2309.0</td>\n",
       "      <td>50070.0</td>\n",
       "      <td>24621.0</td>\n",
       "      <td>175.594455</td>\n",
       "      <td>NaN</td>\n",
       "      <td>NaN</td>\n",
       "      <td>2.998701</td>\n",
       "      <td>12</td>\n",
       "      <td>DZA</td>\n",
       "    </tr>\n",
       "    <tr>\n",
       "      <th>3</th>\n",
       "      <td>Andorra</td>\n",
       "      <td>2020-11-25 12:26:29</td>\n",
       "      <td>42.50630</td>\n",
       "      <td>1.521800</td>\n",
       "      <td>6351.0</td>\n",
       "      <td>76.0</td>\n",
       "      <td>5503.0</td>\n",
       "      <td>772.0</td>\n",
       "      <td>8219.763153</td>\n",
       "      <td>NaN</td>\n",
       "      <td>NaN</td>\n",
       "      <td>1.196662</td>\n",
       "      <td>20</td>\n",
       "      <td>AND</td>\n",
       "    </tr>\n",
       "    <tr>\n",
       "      <th>4</th>\n",
       "      <td>Angola</td>\n",
       "      <td>2020-11-25 12:26:29</td>\n",
       "      <td>-11.20270</td>\n",
       "      <td>17.873900</td>\n",
       "      <td>14742.0</td>\n",
       "      <td>338.0</td>\n",
       "      <td>7444.0</td>\n",
       "      <td>6960.0</td>\n",
       "      <td>44.854499</td>\n",
       "      <td>NaN</td>\n",
       "      <td>NaN</td>\n",
       "      <td>2.292769</td>\n",
       "      <td>24</td>\n",
       "      <td>AGO</td>\n",
       "    </tr>\n",
       "  </tbody>\n",
       "</table>\n",
       "</div>"
      ],
      "text/plain": [
       "  Country_Region          Last_Update       Lat      Long_  Confirmed  Deaths  \\\n",
       "0    Afghanistan  2020-11-25 12:26:29  33.93911  67.709953    45490.0  1725.0   \n",
       "1        Albania  2020-11-25 12:26:29  41.15330  20.168300    34300.0   735.0   \n",
       "2        Algeria  2020-11-25 12:26:29  28.03390   1.659600    77000.0  2309.0   \n",
       "3        Andorra  2020-11-25 12:26:29  42.50630   1.521800     6351.0    76.0   \n",
       "4         Angola  2020-11-25 12:26:29 -11.20270  17.873900    14742.0   338.0   \n",
       "\n",
       "   Recovered   Active  Incident_Rate  People_Tested  People_Hospitalized  \\\n",
       "0    36145.0   7620.0     116.855738            NaN                  NaN   \n",
       "1    16666.0  16899.0    1191.882688            NaN                  NaN   \n",
       "2    50070.0  24621.0     175.594455            NaN                  NaN   \n",
       "3     5503.0    772.0    8219.763153            NaN                  NaN   \n",
       "4     7444.0   6960.0      44.854499            NaN                  NaN   \n",
       "\n",
       "   Mortality_Rate  UID ISO3  \n",
       "0        3.792042    4  AFG  \n",
       "1        2.142857    8  ALB  \n",
       "2        2.998701   12  DZA  \n",
       "3        1.196662   20  AND  \n",
       "4        2.292769   24  AGO  "
      ]
     },
     "execution_count": 33,
     "metadata": {},
     "output_type": "execute_result"
    }
   ],
   "source": [
    "country_df.head()"
   ]
  },
  {
   "cell_type": "code",
   "execution_count": 34,
   "metadata": {
    "executionInfo": {
     "elapsed": 4324,
     "status": "ok",
     "timestamp": 1606304383071,
     "user": {
      "displayName": "Tanvi.Pathak Btech2018",
      "photoUrl": "",
      "userId": "14428118753927477441"
     },
     "user_tz": -330
    },
    "id": "H574__w3F2JM"
   },
   "outputs": [],
   "source": [
    "# data cleaning\n",
    "\n",
    "# renaming the df column names to lowercase\n",
    "country_df.columns = map(str.lower, country_df.columns)\n",
    "confirmed_df.columns = map(str.lower, confirmed_df.columns)\n",
    "death_df.columns = map(str.lower, death_df.columns)\n",
    "recovered_df.columns = map(str.lower, recovered_df.columns)\n",
    "\n",
    "# changing province/state to state and country/region to country\n",
    "confirmed_df = confirmed_df.rename(columns={'province/state': 'state', 'country/region': 'country'})\n",
    "recovered_df = confirmed_df.rename(columns={'province/state': 'state', 'country/region': 'country'})\n",
    "death_df = death_df.rename(columns={'province/state': 'state', 'country/region': 'country'})\n",
    "country_df = country_df.rename(columns={'country_region': 'country'})\n",
    "# country_df.head()"
   ]
  },
  {
   "cell_type": "code",
   "execution_count": 35,
   "metadata": {
    "executionInfo": {
     "elapsed": 4323,
     "status": "ok",
     "timestamp": 1606304383074,
     "user": {
      "displayName": "Tanvi.Pathak Btech2018",
      "photoUrl": "",
      "userId": "14428118753927477441"
     },
     "user_tz": -330
    },
    "id": "8SixWHCKF2JR"
   },
   "outputs": [],
   "source": [
    "# total number of confirmed, death and recovered cases\n",
    "confirmed_total = int(country_df['confirmed'].sum())\n",
    "deaths_total = int(country_df['deaths'].sum())\n",
    "recovered_total = int(country_df['recovered'].sum())\n",
    "active_total = int(country_df['active'].sum())"
   ]
  },
  {
   "cell_type": "code",
   "execution_count": 36,
   "metadata": {
    "colab": {
     "base_uri": "https://localhost:8080/",
     "height": 114
    },
    "executionInfo": {
     "elapsed": 4314,
     "status": "ok",
     "timestamp": 1606304383075,
     "user": {
      "displayName": "Tanvi.Pathak Btech2018",
      "photoUrl": "",
      "userId": "14428118753927477441"
     },
     "user_tz": -330
    },
    "id": "BdWb7BRyF2JU",
    "outputId": "bc001441-5756-4470-8491-8f4b5f23f744"
   },
   "outputs": [
    {
     "data": {
      "text/html": [
       "<div style = 'background-color: #090C02; padding: 30px '><span style='color: #FFE5D9; font-size:30px;'> Confirmed: 59905468</span><span style='color: #ED1C24; font-size:30px;margin-left:20px;'> Deaths: 1412223</span><span style='color: #D8E2DC; font-size:30px; margin-left:20px;'> Recovered: 38377692</span></div>"
      ],
      "text/plain": [
       "<IPython.core.display.HTML object>"
      ]
     },
     "metadata": {},
     "output_type": "display_data"
    }
   ],
   "source": [
    "# displaying the total stats\n",
    "\n",
    "display(HTML(\"<div style = 'background-color: #090C02; padding: 30px '>\" +\n",
    "             \"<span style='color: #FFE5D9; font-size:30px;'> Confirmed: \"  + str(confirmed_total) +\"</span>\" +\n",
    "             \"<span style='color: #ED1C24; font-size:30px;margin-left:20px;'> Deaths: \" + str(deaths_total) + \"</span>\"+\n",
    "             \"<span style='color: #D8E2DC; font-size:30px; margin-left:20px;'> Recovered: \" + str(recovered_total) + \"</span>\"+\n",
    "             \"</div>\")\n",
    "       )"
   ]
  },
  {
   "cell_type": "code",
   "execution_count": 37,
   "metadata": {
    "colab": {
     "base_uri": "https://localhost:8080/",
     "height": 469,
     "referenced_widgets": [
      "6697ac5f14c1410881cf72b314fd4de4",
      "79884e2be9a84c7b87ab2483f20a421b",
      "6286eb4d3bd14981ba8c7ebec88d610a",
      "d05eb3a6c979454a959886ee8d5d4916",
      "4c7fec780a80491390907f393c589dfd",
      "198ad92e113b4944835c6f2f71a404ee",
      "c6bf324fd1514ce4a38f3424419e4bce",
      "3fd9b35b4ddd4fa18e7824d404343a4b",
      "38ba2d1cffdd4ac2b0dbcf07f6832402",
      "b068b728fa97418090c014f1c16aa083"
     ]
    },
    "executionInfo": {
     "elapsed": 6108,
     "status": "ok",
     "timestamp": 1606304384884,
     "user": {
      "displayName": "Tanvi.Pathak Btech2018",
      "photoUrl": "",
      "userId": "14428118753927477441"
     },
     "user_tz": -330
    },
    "id": "ta40iBfBF2Ja",
    "outputId": "831ea71a-972b-44c6-afef-12d3074d8ca9"
   },
   "outputs": [
    {
     "data": {
      "application/vnd.jupyter.widget-view+json": {
       "model_id": "3fa5042489fa494dae51790a48e03ba1",
       "version_major": 2,
       "version_minor": 0
      },
      "text/plain": [
       "interactive(children=(Text(value='10', description='n'), Output()), _dom_classes=('widget-interact',))"
      ]
     },
     "metadata": {},
     "output_type": "display_data"
    },
    {
     "data": {
      "application/vnd.jupyter.widget-view+json": {
       "model_id": "e029ccf5fa7e49ada651f12e062f0a7c",
       "version_major": 2,
       "version_minor": 0
      },
      "text/plain": [
       "VBox(children=(FigureWidget({\n",
       "    'data': [], 'layout': {'template': '...'}\n",
       "}),), layout=Layout(border='solid …"
      ]
     },
     "metadata": {},
     "output_type": "display_data"
    }
   ],
   "source": [
    "# sorting the values by confirmed descednding order\n",
    "# country_df.sort_values('confirmed', ascending= False).head(10).style.background_gradient(cmap='copper')\n",
    "fig = go.FigureWidget( layout=go.Layout() )\n",
    "def highlight_col(x):\n",
    "    r = 'background-color: red'\n",
    "    y = 'background-color: purple'\n",
    "    g = 'background-color: grey'\n",
    "    df1 = pd.DataFrame('', index=x.index, columns=x.columns)\n",
    "    df1.iloc[:, 4] = y\n",
    "    df1.iloc[:, 5] = r\n",
    "    df1.iloc[:, 6] = g\n",
    "    \n",
    "    return df1\n",
    "\n",
    "def show_latest_cases(n):\n",
    "    n = int(n)\n",
    "    return country_df.sort_values('confirmed', ascending= False).head(n).style.apply(highlight_col, axis=None)\n",
    "\n",
    "interact(show_latest_cases, n='10')\n",
    "\n",
    "ipywLayout = widgets.Layout(border='solid 2px green')\n",
    "ipywLayout.display='none' # uncomment this, run cell again - then the graph/figure disappears\n",
    "widgets.VBox([fig], layout=ipywLayout)"
   ]
  },
  {
   "cell_type": "code",
   "execution_count": 38,
   "metadata": {
    "executionInfo": {
     "elapsed": 6106,
     "status": "ok",
     "timestamp": 1606304384886,
     "user": {
      "displayName": "Tanvi.Pathak Btech2018",
      "photoUrl": "",
      "userId": "14428118753927477441"
     },
     "user_tz": -330
    },
    "id": "1_m58a1UF2Jd"
   },
   "outputs": [],
   "source": [
    "sorted_country_df = country_df.sort_values('confirmed', ascending= False)"
   ]
  },
  {
   "cell_type": "markdown",
   "metadata": {
    "id": "QiS3HdhMF2Jh"
   },
   "source": [
    "# Slide to check for the worst hit countries"
   ]
  },
  {
   "cell_type": "code",
   "execution_count": 40,
   "metadata": {
    "colab": {
     "base_uri": "https://localhost:8080/",
     "height": 574,
     "referenced_widgets": [
      "5c531a36c4c74368bc75073f9cc5e3ad",
      "a6a0e941e8124e05a8e11bd66a725206",
      "b95be6051b9146fea099e1a3eb335eaf",
      "38aee6fe45904f2dabaf990f18126d04",
      "861ad3fe96fa4205bd4d77a598290010",
      "c8458bfc1e7645c0a6e965a43881aba0",
      "e5023dba823241eda00168718a7418de",
      "b881b4231781412eb3163bf42ac82f4f",
      "a1dbdb3daa0941d08ce19be7ae5b3632",
      "b068b728fa97418090c014f1c16aa083"
     ]
    },
    "executionInfo": {
     "elapsed": 6094,
     "status": "ok",
     "timestamp": 1606304384887,
     "user": {
      "displayName": "Tanvi.Pathak Btech2018",
      "photoUrl": "",
      "userId": "14428118753927477441"
     },
     "user_tz": -330
    },
    "id": "wNhlsRmIF2Jh",
    "outputId": "a5649745-8b04-4eef-f6a4-733ba74fedf0"
   },
   "outputs": [
    {
     "data": {
      "application/vnd.jupyter.widget-view+json": {
       "model_id": "b6d9af1d38904ac79a9d6d059d1e34bf",
       "version_major": 2,
       "version_minor": 0
      },
      "text/plain": [
       "interactive(children=(IntSlider(value=10, description='n', max=30, min=-10), Output()), _dom_classes=('widget-…"
      ]
     },
     "metadata": {},
     "output_type": "display_data"
    },
    {
     "data": {
      "application/vnd.jupyter.widget-view+json": {
       "model_id": "791a5647aa3f46a09b0c251febf21e6f",
       "version_major": 2,
       "version_minor": 0
      },
      "text/plain": [
       "VBox(children=(FigureWidget({\n",
       "    'data': [], 'layout': {'autosize': True, 'template': '...'}\n",
       "}),), layout=Lay…"
      ]
     },
     "metadata": {},
     "output_type": "display_data"
    }
   ],
   "source": [
    "# # plotting the 20 worst hit countries\n",
    "\n",
    "def bubble_chart(n):\n",
    "    fig = px.scatter(sorted_country_df.head(n), x=\"country\", y=\"confirmed\", size=\"confirmed\", color=\"country\",\n",
    "               hover_name=\"country\", size_max=60)\n",
    "    fig.update_layout(\n",
    "    title=str(n) +\" Worst hit countries\",\n",
    "    xaxis_title=\"Countries\",\n",
    "    yaxis_title=\"Confirmed Cases\",\n",
    "    width = 700\n",
    "    )\n",
    "    fig.show();\n",
    "\n",
    "interact(bubble_chart, n=10)\n",
    "\n",
    "ipywLayout = widgets.Layout(border='solid 2px green')\n",
    "ipywLayout.display='none'\n",
    "widgets.VBox([fig], layout=ipywLayout)"
   ]
  },
  {
   "cell_type": "code",
   "execution_count": 41,
   "metadata": {
    "executionInfo": {
     "elapsed": 6092,
     "status": "ok",
     "timestamp": 1606304384889,
     "user": {
      "displayName": "Tanvi.Pathak Btech2018",
      "photoUrl": "",
      "userId": "14428118753927477441"
     },
     "user_tz": -330
    },
    "id": "sdWVaH8oF2Jk"
   },
   "outputs": [],
   "source": [
    "\n",
    "\n",
    "def plot_cases_of_a_country(country):\n",
    "    labels = ['confirmed', 'deaths']\n",
    "    colors = ['blue', 'red']\n",
    "    mode_size = [6, 8]\n",
    "    line_size = [4, 5]\n",
    "    \n",
    "    df_list = [confirmed_df, death_df]\n",
    "    \n",
    "    fig = go.Figure();\n",
    "    \n",
    "    for i, df in enumerate(df_list):\n",
    "        if country == 'World' or country == 'world':\n",
    "            x_data = np.array(list(df.iloc[:, 20:].columns))\n",
    "            y_data = np.sum(np.asarray(df.iloc[:,4:]),axis = 0)\n",
    "            \n",
    "        else:    \n",
    "            x_data = np.array(list(df.iloc[:, 20:].columns))\n",
    "            y_data = np.sum(np.asarray(df[df['country'] == country].iloc[:,20:]),axis = 0)\n",
    "            \n",
    "        fig.add_trace(go.Scatter(x=x_data, y=y_data, mode='lines+markers',\n",
    "        name=labels[i],\n",
    "        line=dict(color=colors[i], width=line_size[i]),\n",
    "        connectgaps=True,\n",
    "        text = \"Total \" + str(labels[i]) +\": \"+ str(y_data[-1])\n",
    "        ));\n",
    "    \n",
    "    fig.update_layout(\n",
    "        title=\"COVID 19 cases of \" + country,\n",
    "        xaxis_title='Date',\n",
    "        yaxis_title='No. of Confirmed Cases',\n",
    "        margin=dict(l=20, r=20, t=40, b=20),\n",
    "        paper_bgcolor=\"lightgrey\",\n",
    "        width = 800,\n",
    "        \n",
    "    );\n",
    "    \n",
    "    fig.update_yaxes(type=\"linear\")\n",
    "    fig.show();\n"
   ]
  },
  {
   "cell_type": "markdown",
   "metadata": {
    "id": "f6C7J_5uF2Jo"
   },
   "source": [
    "# Check the details of your country or the World\n",
    "\n",
    "* Enter the name of your country(in capitalized format(e.g. Italy)) and world for total cases"
   ]
  },
  {
   "cell_type": "code",
   "execution_count": 42,
   "metadata": {
    "colab": {
     "base_uri": "https://localhost:8080/",
     "height": 49,
     "referenced_widgets": [
      "83fb3f1b05554bd4bf823e9db231f4df",
      "b8966c5a98d54c53aca325fd566f5e20",
      "508e974fdc684963b0a2e3f5bbe79750",
      "76636939f2834dd9ab335aed7b0733e8",
      "a4f51b5ec6f641c7af4b9f03d65a1662",
      "4c28c6ad1715415ca2d5229bc10a5f86",
      "0cb3c753b06b40b4834b2aa0be8bbea8",
      "8e8e6851e7f4415d899b59489d81bed7",
      "155e0bf398394e08a819a927b989854b",
      "b068b728fa97418090c014f1c16aa083"
     ]
    },
    "executionInfo": {
     "elapsed": 6082,
     "status": "ok",
     "timestamp": 1606304384890,
     "user": {
      "displayName": "Tanvi.Pathak Btech2018",
      "photoUrl": "",
      "userId": "14428118753927477441"
     },
     "user_tz": -330
    },
    "id": "hyhxX50uF2Jp",
    "outputId": "f2e72b61-94cc-4d1b-a9ca-0b8a41417a90"
   },
   "outputs": [
    {
     "data": {
      "application/vnd.jupyter.widget-view+json": {
       "model_id": "b22dfec6533e4897afe40255205f51c7",
       "version_major": 2,
       "version_minor": 0
      },
      "text/plain": [
       "interactive(children=(Text(value='World', description='country'), Output()), _dom_classes=('widget-interact',)…"
      ]
     },
     "metadata": {},
     "output_type": "display_data"
    },
    {
     "data": {
      "application/vnd.jupyter.widget-view+json": {
       "model_id": "ce9bfd70e4aa4d3f982d8c1a3e2bc92a",
       "version_major": 2,
       "version_minor": 0
      },
      "text/plain": [
       "VBox(children=(FigureWidget({\n",
       "    'data': [], 'layout': {'autosize': True, 'template': '...'}\n",
       "}),), layout=Lay…"
      ]
     },
     "metadata": {},
     "output_type": "display_data"
    }
   ],
   "source": [
    "interact(plot_cases_of_a_country, country='World')\n",
    "\n",
    "ipywLayout = widgets.Layout(border='solid 2px green')\n",
    "ipywLayout.display='none' # uncomment this, run cell again - then the graph/figure disappears\n",
    "widgets.VBox([fig], layout=ipywLayout)"
   ]
  },
  {
   "cell_type": "markdown",
   "metadata": {
    "id": "-5d2o2dLF2Js"
   },
   "source": [
    "# 10 worst hit countries - Confirmed cases"
   ]
  },
  {
   "cell_type": "code",
   "execution_count": 43,
   "metadata": {
    "colab": {
     "base_uri": "https://localhost:8080/",
     "height": 517
    },
    "executionInfo": {
     "elapsed": 6067,
     "status": "ok",
     "timestamp": 1606304384891,
     "user": {
      "displayName": "Tanvi.Pathak Btech2018",
      "photoUrl": "",
      "userId": "14428118753927477441"
     },
     "user_tz": -330
    },
    "id": "-eNaimn2F2Jt",
    "outputId": "4071465c-ea04-4248-cf14-34206c5463b4"
   },
   "outputs": [
    {
     "data": {
      "application/vnd.plotly.v1+json": {
       "config": {
        "plotlyServerURL": "https://plot.ly"
       },
       "data": [
        {
         "alignmentgroup": "True",
         "hovertemplate": "country=%{x}<br>confirmed=%{y}<extra></extra>",
         "legendgroup": "",
         "marker": {
          "color": "pink"
         },
         "name": "",
         "offsetgroup": "",
         "orientation": "v",
         "showlegend": false,
         "textposition": "auto",
         "type": "bar",
         "x": [
          "US",
          "India",
          "Brazil",
          "France",
          "Russia",
          "Spain",
          "United Kingdom",
          "Italy",
          "Argentina",
          "Colombia"
         ],
         "xaxis": "x",
         "y": [
          12598660,
          9222216,
          6118708,
          2206126,
          2144229,
          1594844,
          1542623,
          1455022,
          1381795,
          1262494
         ],
         "yaxis": "y"
        }
       ],
       "layout": {
        "barmode": "relative",
        "height": 500,
        "legend": {
         "tracegroupgap": 0
        },
        "template": {
         "data": {
          "bar": [
           {
            "error_x": {
             "color": "#2a3f5f"
            },
            "error_y": {
             "color": "#2a3f5f"
            },
            "marker": {
             "line": {
              "color": "#E5ECF6",
              "width": 0.5
             }
            },
            "type": "bar"
           }
          ],
          "barpolar": [
           {
            "marker": {
             "line": {
              "color": "#E5ECF6",
              "width": 0.5
             }
            },
            "type": "barpolar"
           }
          ],
          "carpet": [
           {
            "aaxis": {
             "endlinecolor": "#2a3f5f",
             "gridcolor": "white",
             "linecolor": "white",
             "minorgridcolor": "white",
             "startlinecolor": "#2a3f5f"
            },
            "baxis": {
             "endlinecolor": "#2a3f5f",
             "gridcolor": "white",
             "linecolor": "white",
             "minorgridcolor": "white",
             "startlinecolor": "#2a3f5f"
            },
            "type": "carpet"
           }
          ],
          "choropleth": [
           {
            "colorbar": {
             "outlinewidth": 0,
             "ticks": ""
            },
            "type": "choropleth"
           }
          ],
          "contour": [
           {
            "colorbar": {
             "outlinewidth": 0,
             "ticks": ""
            },
            "colorscale": [
             [
              0,
              "#0d0887"
             ],
             [
              0.1111111111111111,
              "#46039f"
             ],
             [
              0.2222222222222222,
              "#7201a8"
             ],
             [
              0.3333333333333333,
              "#9c179e"
             ],
             [
              0.4444444444444444,
              "#bd3786"
             ],
             [
              0.5555555555555556,
              "#d8576b"
             ],
             [
              0.6666666666666666,
              "#ed7953"
             ],
             [
              0.7777777777777778,
              "#fb9f3a"
             ],
             [
              0.8888888888888888,
              "#fdca26"
             ],
             [
              1,
              "#f0f921"
             ]
            ],
            "type": "contour"
           }
          ],
          "contourcarpet": [
           {
            "colorbar": {
             "outlinewidth": 0,
             "ticks": ""
            },
            "type": "contourcarpet"
           }
          ],
          "heatmap": [
           {
            "colorbar": {
             "outlinewidth": 0,
             "ticks": ""
            },
            "colorscale": [
             [
              0,
              "#0d0887"
             ],
             [
              0.1111111111111111,
              "#46039f"
             ],
             [
              0.2222222222222222,
              "#7201a8"
             ],
             [
              0.3333333333333333,
              "#9c179e"
             ],
             [
              0.4444444444444444,
              "#bd3786"
             ],
             [
              0.5555555555555556,
              "#d8576b"
             ],
             [
              0.6666666666666666,
              "#ed7953"
             ],
             [
              0.7777777777777778,
              "#fb9f3a"
             ],
             [
              0.8888888888888888,
              "#fdca26"
             ],
             [
              1,
              "#f0f921"
             ]
            ],
            "type": "heatmap"
           }
          ],
          "heatmapgl": [
           {
            "colorbar": {
             "outlinewidth": 0,
             "ticks": ""
            },
            "colorscale": [
             [
              0,
              "#0d0887"
             ],
             [
              0.1111111111111111,
              "#46039f"
             ],
             [
              0.2222222222222222,
              "#7201a8"
             ],
             [
              0.3333333333333333,
              "#9c179e"
             ],
             [
              0.4444444444444444,
              "#bd3786"
             ],
             [
              0.5555555555555556,
              "#d8576b"
             ],
             [
              0.6666666666666666,
              "#ed7953"
             ],
             [
              0.7777777777777778,
              "#fb9f3a"
             ],
             [
              0.8888888888888888,
              "#fdca26"
             ],
             [
              1,
              "#f0f921"
             ]
            ],
            "type": "heatmapgl"
           }
          ],
          "histogram": [
           {
            "marker": {
             "colorbar": {
              "outlinewidth": 0,
              "ticks": ""
             }
            },
            "type": "histogram"
           }
          ],
          "histogram2d": [
           {
            "colorbar": {
             "outlinewidth": 0,
             "ticks": ""
            },
            "colorscale": [
             [
              0,
              "#0d0887"
             ],
             [
              0.1111111111111111,
              "#46039f"
             ],
             [
              0.2222222222222222,
              "#7201a8"
             ],
             [
              0.3333333333333333,
              "#9c179e"
             ],
             [
              0.4444444444444444,
              "#bd3786"
             ],
             [
              0.5555555555555556,
              "#d8576b"
             ],
             [
              0.6666666666666666,
              "#ed7953"
             ],
             [
              0.7777777777777778,
              "#fb9f3a"
             ],
             [
              0.8888888888888888,
              "#fdca26"
             ],
             [
              1,
              "#f0f921"
             ]
            ],
            "type": "histogram2d"
           }
          ],
          "histogram2dcontour": [
           {
            "colorbar": {
             "outlinewidth": 0,
             "ticks": ""
            },
            "colorscale": [
             [
              0,
              "#0d0887"
             ],
             [
              0.1111111111111111,
              "#46039f"
             ],
             [
              0.2222222222222222,
              "#7201a8"
             ],
             [
              0.3333333333333333,
              "#9c179e"
             ],
             [
              0.4444444444444444,
              "#bd3786"
             ],
             [
              0.5555555555555556,
              "#d8576b"
             ],
             [
              0.6666666666666666,
              "#ed7953"
             ],
             [
              0.7777777777777778,
              "#fb9f3a"
             ],
             [
              0.8888888888888888,
              "#fdca26"
             ],
             [
              1,
              "#f0f921"
             ]
            ],
            "type": "histogram2dcontour"
           }
          ],
          "mesh3d": [
           {
            "colorbar": {
             "outlinewidth": 0,
             "ticks": ""
            },
            "type": "mesh3d"
           }
          ],
          "parcoords": [
           {
            "line": {
             "colorbar": {
              "outlinewidth": 0,
              "ticks": ""
             }
            },
            "type": "parcoords"
           }
          ],
          "pie": [
           {
            "automargin": true,
            "type": "pie"
           }
          ],
          "scatter": [
           {
            "marker": {
             "colorbar": {
              "outlinewidth": 0,
              "ticks": ""
             }
            },
            "type": "scatter"
           }
          ],
          "scatter3d": [
           {
            "line": {
             "colorbar": {
              "outlinewidth": 0,
              "ticks": ""
             }
            },
            "marker": {
             "colorbar": {
              "outlinewidth": 0,
              "ticks": ""
             }
            },
            "type": "scatter3d"
           }
          ],
          "scattercarpet": [
           {
            "marker": {
             "colorbar": {
              "outlinewidth": 0,
              "ticks": ""
             }
            },
            "type": "scattercarpet"
           }
          ],
          "scattergeo": [
           {
            "marker": {
             "colorbar": {
              "outlinewidth": 0,
              "ticks": ""
             }
            },
            "type": "scattergeo"
           }
          ],
          "scattergl": [
           {
            "marker": {
             "colorbar": {
              "outlinewidth": 0,
              "ticks": ""
             }
            },
            "type": "scattergl"
           }
          ],
          "scattermapbox": [
           {
            "marker": {
             "colorbar": {
              "outlinewidth": 0,
              "ticks": ""
             }
            },
            "type": "scattermapbox"
           }
          ],
          "scatterpolar": [
           {
            "marker": {
             "colorbar": {
              "outlinewidth": 0,
              "ticks": ""
             }
            },
            "type": "scatterpolar"
           }
          ],
          "scatterpolargl": [
           {
            "marker": {
             "colorbar": {
              "outlinewidth": 0,
              "ticks": ""
             }
            },
            "type": "scatterpolargl"
           }
          ],
          "scatterternary": [
           {
            "marker": {
             "colorbar": {
              "outlinewidth": 0,
              "ticks": ""
             }
            },
            "type": "scatterternary"
           }
          ],
          "surface": [
           {
            "colorbar": {
             "outlinewidth": 0,
             "ticks": ""
            },
            "colorscale": [
             [
              0,
              "#0d0887"
             ],
             [
              0.1111111111111111,
              "#46039f"
             ],
             [
              0.2222222222222222,
              "#7201a8"
             ],
             [
              0.3333333333333333,
              "#9c179e"
             ],
             [
              0.4444444444444444,
              "#bd3786"
             ],
             [
              0.5555555555555556,
              "#d8576b"
             ],
             [
              0.6666666666666666,
              "#ed7953"
             ],
             [
              0.7777777777777778,
              "#fb9f3a"
             ],
             [
              0.8888888888888888,
              "#fdca26"
             ],
             [
              1,
              "#f0f921"
             ]
            ],
            "type": "surface"
           }
          ],
          "table": [
           {
            "cells": {
             "fill": {
              "color": "#EBF0F8"
             },
             "line": {
              "color": "white"
             }
            },
            "header": {
             "fill": {
              "color": "#C8D4E3"
             },
             "line": {
              "color": "white"
             }
            },
            "type": "table"
           }
          ]
         },
         "layout": {
          "annotationdefaults": {
           "arrowcolor": "#2a3f5f",
           "arrowhead": 0,
           "arrowwidth": 1
          },
          "coloraxis": {
           "colorbar": {
            "outlinewidth": 0,
            "ticks": ""
           }
          },
          "colorscale": {
           "diverging": [
            [
             0,
             "#8e0152"
            ],
            [
             0.1,
             "#c51b7d"
            ],
            [
             0.2,
             "#de77ae"
            ],
            [
             0.3,
             "#f1b6da"
            ],
            [
             0.4,
             "#fde0ef"
            ],
            [
             0.5,
             "#f7f7f7"
            ],
            [
             0.6,
             "#e6f5d0"
            ],
            [
             0.7,
             "#b8e186"
            ],
            [
             0.8,
             "#7fbc41"
            ],
            [
             0.9,
             "#4d9221"
            ],
            [
             1,
             "#276419"
            ]
           ],
           "sequential": [
            [
             0,
             "#0d0887"
            ],
            [
             0.1111111111111111,
             "#46039f"
            ],
            [
             0.2222222222222222,
             "#7201a8"
            ],
            [
             0.3333333333333333,
             "#9c179e"
            ],
            [
             0.4444444444444444,
             "#bd3786"
            ],
            [
             0.5555555555555556,
             "#d8576b"
            ],
            [
             0.6666666666666666,
             "#ed7953"
            ],
            [
             0.7777777777777778,
             "#fb9f3a"
            ],
            [
             0.8888888888888888,
             "#fdca26"
            ],
            [
             1,
             "#f0f921"
            ]
           ],
           "sequentialminus": [
            [
             0,
             "#0d0887"
            ],
            [
             0.1111111111111111,
             "#46039f"
            ],
            [
             0.2222222222222222,
             "#7201a8"
            ],
            [
             0.3333333333333333,
             "#9c179e"
            ],
            [
             0.4444444444444444,
             "#bd3786"
            ],
            [
             0.5555555555555556,
             "#d8576b"
            ],
            [
             0.6666666666666666,
             "#ed7953"
            ],
            [
             0.7777777777777778,
             "#fb9f3a"
            ],
            [
             0.8888888888888888,
             "#fdca26"
            ],
            [
             1,
             "#f0f921"
            ]
           ]
          },
          "colorway": [
           "#636efa",
           "#EF553B",
           "#00cc96",
           "#ab63fa",
           "#FFA15A",
           "#19d3f3",
           "#FF6692",
           "#B6E880",
           "#FF97FF",
           "#FECB52"
          ],
          "font": {
           "color": "#2a3f5f"
          },
          "geo": {
           "bgcolor": "white",
           "lakecolor": "white",
           "landcolor": "#E5ECF6",
           "showlakes": true,
           "showland": true,
           "subunitcolor": "white"
          },
          "hoverlabel": {
           "align": "left"
          },
          "hovermode": "closest",
          "mapbox": {
           "style": "light"
          },
          "paper_bgcolor": "white",
          "plot_bgcolor": "#E5ECF6",
          "polar": {
           "angularaxis": {
            "gridcolor": "white",
            "linecolor": "white",
            "ticks": ""
           },
           "bgcolor": "#E5ECF6",
           "radialaxis": {
            "gridcolor": "white",
            "linecolor": "white",
            "ticks": ""
           }
          },
          "scene": {
           "xaxis": {
            "backgroundcolor": "#E5ECF6",
            "gridcolor": "white",
            "gridwidth": 2,
            "linecolor": "white",
            "showbackground": true,
            "ticks": "",
            "zerolinecolor": "white"
           },
           "yaxis": {
            "backgroundcolor": "#E5ECF6",
            "gridcolor": "white",
            "gridwidth": 2,
            "linecolor": "white",
            "showbackground": true,
            "ticks": "",
            "zerolinecolor": "white"
           },
           "zaxis": {
            "backgroundcolor": "#E5ECF6",
            "gridcolor": "white",
            "gridwidth": 2,
            "linecolor": "white",
            "showbackground": true,
            "ticks": "",
            "zerolinecolor": "white"
           }
          },
          "shapedefaults": {
           "line": {
            "color": "#2a3f5f"
           }
          },
          "ternary": {
           "aaxis": {
            "gridcolor": "white",
            "linecolor": "white",
            "ticks": ""
           },
           "baxis": {
            "gridcolor": "white",
            "linecolor": "white",
            "ticks": ""
           },
           "bgcolor": "#E5ECF6",
           "caxis": {
            "gridcolor": "white",
            "linecolor": "white",
            "ticks": ""
           }
          },
          "title": {
           "x": 0.05
          },
          "xaxis": {
           "automargin": true,
           "gridcolor": "white",
           "linecolor": "white",
           "ticks": "",
           "title": {
            "standoff": 15
           },
           "zerolinecolor": "white",
           "zerolinewidth": 2
          },
          "yaxis": {
           "automargin": true,
           "gridcolor": "white",
           "linecolor": "white",
           "ticks": "",
           "title": {
            "standoff": 15
           },
           "zerolinecolor": "white",
           "zerolinewidth": 2
          }
         }
        },
        "title": {
         "text": "Top 10 worst affected countries"
        },
        "width": 800,
        "xaxis": {
         "anchor": "y",
         "domain": [
          0,
          1
         ],
         "title": {
          "text": "country"
         }
        },
        "yaxis": {
         "anchor": "x",
         "domain": [
          0,
          1
         ],
         "title": {
          "text": "confirmed"
         }
        }
       }
      },
      "text/html": [
       "<div>                            <div id=\"ef01dc64-7ed2-477a-ba3b-5eef305b1582\" class=\"plotly-graph-div\" style=\"height:500px; width:800px;\"></div>            <script type=\"text/javascript\">                require([\"plotly\"], function(Plotly) {                    window.PLOTLYENV=window.PLOTLYENV || {};                                    if (document.getElementById(\"ef01dc64-7ed2-477a-ba3b-5eef305b1582\")) {                    Plotly.newPlot(                        \"ef01dc64-7ed2-477a-ba3b-5eef305b1582\",                        [{\"alignmentgroup\": \"True\", \"hovertemplate\": \"country=%{x}<br>confirmed=%{y}<extra></extra>\", \"legendgroup\": \"\", \"marker\": {\"color\": \"pink\"}, \"name\": \"\", \"offsetgroup\": \"\", \"orientation\": \"v\", \"showlegend\": false, \"textposition\": \"auto\", \"type\": \"bar\", \"x\": [\"US\", \"India\", \"Brazil\", \"France\", \"Russia\", \"Spain\", \"United Kingdom\", \"Italy\", \"Argentina\", \"Colombia\"], \"xaxis\": \"x\", \"y\": [12598660.0, 9222216.0, 6118708.0, 2206126.0, 2144229.0, 1594844.0, 1542623.0, 1455022.0, 1381795.0, 1262494.0], \"yaxis\": \"y\"}],                        {\"barmode\": \"relative\", \"height\": 500, \"legend\": {\"tracegroupgap\": 0}, \"template\": {\"data\": {\"bar\": [{\"error_x\": {\"color\": \"#2a3f5f\"}, \"error_y\": {\"color\": \"#2a3f5f\"}, \"marker\": {\"line\": {\"color\": \"#E5ECF6\", \"width\": 0.5}}, \"type\": \"bar\"}], \"barpolar\": [{\"marker\": {\"line\": {\"color\": \"#E5ECF6\", \"width\": 0.5}}, \"type\": \"barpolar\"}], \"carpet\": [{\"aaxis\": {\"endlinecolor\": \"#2a3f5f\", \"gridcolor\": \"white\", \"linecolor\": \"white\", \"minorgridcolor\": \"white\", \"startlinecolor\": \"#2a3f5f\"}, \"baxis\": {\"endlinecolor\": \"#2a3f5f\", \"gridcolor\": \"white\", \"linecolor\": \"white\", \"minorgridcolor\": \"white\", \"startlinecolor\": \"#2a3f5f\"}, \"type\": \"carpet\"}], \"choropleth\": [{\"colorbar\": {\"outlinewidth\": 0, \"ticks\": \"\"}, \"type\": \"choropleth\"}], \"contour\": [{\"colorbar\": {\"outlinewidth\": 0, \"ticks\": \"\"}, \"colorscale\": [[0.0, \"#0d0887\"], [0.1111111111111111, \"#46039f\"], [0.2222222222222222, \"#7201a8\"], [0.3333333333333333, \"#9c179e\"], [0.4444444444444444, \"#bd3786\"], [0.5555555555555556, \"#d8576b\"], [0.6666666666666666, \"#ed7953\"], [0.7777777777777778, \"#fb9f3a\"], [0.8888888888888888, \"#fdca26\"], [1.0, \"#f0f921\"]], \"type\": \"contour\"}], \"contourcarpet\": [{\"colorbar\": {\"outlinewidth\": 0, \"ticks\": \"\"}, \"type\": \"contourcarpet\"}], \"heatmap\": [{\"colorbar\": {\"outlinewidth\": 0, \"ticks\": \"\"}, \"colorscale\": [[0.0, \"#0d0887\"], [0.1111111111111111, \"#46039f\"], [0.2222222222222222, \"#7201a8\"], [0.3333333333333333, \"#9c179e\"], [0.4444444444444444, \"#bd3786\"], [0.5555555555555556, \"#d8576b\"], [0.6666666666666666, \"#ed7953\"], [0.7777777777777778, \"#fb9f3a\"], [0.8888888888888888, \"#fdca26\"], [1.0, \"#f0f921\"]], \"type\": \"heatmap\"}], \"heatmapgl\": [{\"colorbar\": {\"outlinewidth\": 0, \"ticks\": \"\"}, \"colorscale\": [[0.0, \"#0d0887\"], [0.1111111111111111, \"#46039f\"], [0.2222222222222222, \"#7201a8\"], [0.3333333333333333, \"#9c179e\"], [0.4444444444444444, \"#bd3786\"], [0.5555555555555556, \"#d8576b\"], [0.6666666666666666, \"#ed7953\"], [0.7777777777777778, \"#fb9f3a\"], [0.8888888888888888, \"#fdca26\"], [1.0, \"#f0f921\"]], \"type\": \"heatmapgl\"}], \"histogram\": [{\"marker\": {\"colorbar\": {\"outlinewidth\": 0, \"ticks\": \"\"}}, \"type\": \"histogram\"}], \"histogram2d\": [{\"colorbar\": {\"outlinewidth\": 0, \"ticks\": \"\"}, \"colorscale\": [[0.0, \"#0d0887\"], [0.1111111111111111, \"#46039f\"], [0.2222222222222222, \"#7201a8\"], [0.3333333333333333, \"#9c179e\"], [0.4444444444444444, \"#bd3786\"], [0.5555555555555556, \"#d8576b\"], [0.6666666666666666, \"#ed7953\"], [0.7777777777777778, \"#fb9f3a\"], [0.8888888888888888, \"#fdca26\"], [1.0, \"#f0f921\"]], \"type\": \"histogram2d\"}], \"histogram2dcontour\": [{\"colorbar\": {\"outlinewidth\": 0, \"ticks\": \"\"}, \"colorscale\": [[0.0, \"#0d0887\"], [0.1111111111111111, \"#46039f\"], [0.2222222222222222, \"#7201a8\"], [0.3333333333333333, \"#9c179e\"], [0.4444444444444444, \"#bd3786\"], [0.5555555555555556, \"#d8576b\"], [0.6666666666666666, \"#ed7953\"], [0.7777777777777778, \"#fb9f3a\"], [0.8888888888888888, \"#fdca26\"], [1.0, \"#f0f921\"]], \"type\": \"histogram2dcontour\"}], \"mesh3d\": [{\"colorbar\": {\"outlinewidth\": 0, \"ticks\": \"\"}, \"type\": \"mesh3d\"}], \"parcoords\": [{\"line\": {\"colorbar\": {\"outlinewidth\": 0, \"ticks\": \"\"}}, \"type\": \"parcoords\"}], \"pie\": [{\"automargin\": true, \"type\": \"pie\"}], \"scatter\": [{\"marker\": {\"colorbar\": {\"outlinewidth\": 0, \"ticks\": \"\"}}, \"type\": \"scatter\"}], \"scatter3d\": [{\"line\": {\"colorbar\": {\"outlinewidth\": 0, \"ticks\": \"\"}}, \"marker\": {\"colorbar\": {\"outlinewidth\": 0, \"ticks\": \"\"}}, \"type\": \"scatter3d\"}], \"scattercarpet\": [{\"marker\": {\"colorbar\": {\"outlinewidth\": 0, \"ticks\": \"\"}}, \"type\": \"scattercarpet\"}], \"scattergeo\": [{\"marker\": {\"colorbar\": {\"outlinewidth\": 0, \"ticks\": \"\"}}, \"type\": \"scattergeo\"}], \"scattergl\": [{\"marker\": {\"colorbar\": {\"outlinewidth\": 0, \"ticks\": \"\"}}, \"type\": \"scattergl\"}], \"scattermapbox\": [{\"marker\": {\"colorbar\": {\"outlinewidth\": 0, \"ticks\": \"\"}}, \"type\": \"scattermapbox\"}], \"scatterpolar\": [{\"marker\": {\"colorbar\": {\"outlinewidth\": 0, \"ticks\": \"\"}}, \"type\": \"scatterpolar\"}], \"scatterpolargl\": [{\"marker\": {\"colorbar\": {\"outlinewidth\": 0, \"ticks\": \"\"}}, \"type\": \"scatterpolargl\"}], \"scatterternary\": [{\"marker\": {\"colorbar\": {\"outlinewidth\": 0, \"ticks\": \"\"}}, \"type\": \"scatterternary\"}], \"surface\": [{\"colorbar\": {\"outlinewidth\": 0, \"ticks\": \"\"}, \"colorscale\": [[0.0, \"#0d0887\"], [0.1111111111111111, \"#46039f\"], [0.2222222222222222, \"#7201a8\"], [0.3333333333333333, \"#9c179e\"], [0.4444444444444444, \"#bd3786\"], [0.5555555555555556, \"#d8576b\"], [0.6666666666666666, \"#ed7953\"], [0.7777777777777778, \"#fb9f3a\"], [0.8888888888888888, \"#fdca26\"], [1.0, \"#f0f921\"]], \"type\": \"surface\"}], \"table\": [{\"cells\": {\"fill\": {\"color\": \"#EBF0F8\"}, \"line\": {\"color\": \"white\"}}, \"header\": {\"fill\": {\"color\": \"#C8D4E3\"}, \"line\": {\"color\": \"white\"}}, \"type\": \"table\"}]}, \"layout\": {\"annotationdefaults\": {\"arrowcolor\": \"#2a3f5f\", \"arrowhead\": 0, \"arrowwidth\": 1}, \"coloraxis\": {\"colorbar\": {\"outlinewidth\": 0, \"ticks\": \"\"}}, \"colorscale\": {\"diverging\": [[0, \"#8e0152\"], [0.1, \"#c51b7d\"], [0.2, \"#de77ae\"], [0.3, \"#f1b6da\"], [0.4, \"#fde0ef\"], [0.5, \"#f7f7f7\"], [0.6, \"#e6f5d0\"], [0.7, \"#b8e186\"], [0.8, \"#7fbc41\"], [0.9, \"#4d9221\"], [1, \"#276419\"]], \"sequential\": [[0.0, \"#0d0887\"], [0.1111111111111111, \"#46039f\"], [0.2222222222222222, \"#7201a8\"], [0.3333333333333333, \"#9c179e\"], [0.4444444444444444, \"#bd3786\"], [0.5555555555555556, \"#d8576b\"], [0.6666666666666666, \"#ed7953\"], [0.7777777777777778, \"#fb9f3a\"], [0.8888888888888888, \"#fdca26\"], [1.0, \"#f0f921\"]], \"sequentialminus\": [[0.0, \"#0d0887\"], [0.1111111111111111, \"#46039f\"], [0.2222222222222222, \"#7201a8\"], [0.3333333333333333, \"#9c179e\"], [0.4444444444444444, \"#bd3786\"], [0.5555555555555556, \"#d8576b\"], [0.6666666666666666, \"#ed7953\"], [0.7777777777777778, \"#fb9f3a\"], [0.8888888888888888, \"#fdca26\"], [1.0, \"#f0f921\"]]}, \"colorway\": [\"#636efa\", \"#EF553B\", \"#00cc96\", \"#ab63fa\", \"#FFA15A\", \"#19d3f3\", \"#FF6692\", \"#B6E880\", \"#FF97FF\", \"#FECB52\"], \"font\": {\"color\": \"#2a3f5f\"}, \"geo\": {\"bgcolor\": \"white\", \"lakecolor\": \"white\", \"landcolor\": \"#E5ECF6\", \"showlakes\": true, \"showland\": true, \"subunitcolor\": \"white\"}, \"hoverlabel\": {\"align\": \"left\"}, \"hovermode\": \"closest\", \"mapbox\": {\"style\": \"light\"}, \"paper_bgcolor\": \"white\", \"plot_bgcolor\": \"#E5ECF6\", \"polar\": {\"angularaxis\": {\"gridcolor\": \"white\", \"linecolor\": \"white\", \"ticks\": \"\"}, \"bgcolor\": \"#E5ECF6\", \"radialaxis\": {\"gridcolor\": \"white\", \"linecolor\": \"white\", \"ticks\": \"\"}}, \"scene\": {\"xaxis\": {\"backgroundcolor\": \"#E5ECF6\", \"gridcolor\": \"white\", \"gridwidth\": 2, \"linecolor\": \"white\", \"showbackground\": true, \"ticks\": \"\", \"zerolinecolor\": \"white\"}, \"yaxis\": {\"backgroundcolor\": \"#E5ECF6\", \"gridcolor\": \"white\", \"gridwidth\": 2, \"linecolor\": \"white\", \"showbackground\": true, \"ticks\": \"\", \"zerolinecolor\": \"white\"}, \"zaxis\": {\"backgroundcolor\": \"#E5ECF6\", \"gridcolor\": \"white\", \"gridwidth\": 2, \"linecolor\": \"white\", \"showbackground\": true, \"ticks\": \"\", \"zerolinecolor\": \"white\"}}, \"shapedefaults\": {\"line\": {\"color\": \"#2a3f5f\"}}, \"ternary\": {\"aaxis\": {\"gridcolor\": \"white\", \"linecolor\": \"white\", \"ticks\": \"\"}, \"baxis\": {\"gridcolor\": \"white\", \"linecolor\": \"white\", \"ticks\": \"\"}, \"bgcolor\": \"#E5ECF6\", \"caxis\": {\"gridcolor\": \"white\", \"linecolor\": \"white\", \"ticks\": \"\"}}, \"title\": {\"x\": 0.05}, \"xaxis\": {\"automargin\": true, \"gridcolor\": \"white\", \"linecolor\": \"white\", \"ticks\": \"\", \"title\": {\"standoff\": 15}, \"zerolinecolor\": \"white\", \"zerolinewidth\": 2}, \"yaxis\": {\"automargin\": true, \"gridcolor\": \"white\", \"linecolor\": \"white\", \"ticks\": \"\", \"title\": {\"standoff\": 15}, \"zerolinecolor\": \"white\", \"zerolinewidth\": 2}}}, \"title\": {\"text\": \"Top 10 worst affected countries\"}, \"width\": 800, \"xaxis\": {\"anchor\": \"y\", \"domain\": [0.0, 1.0], \"title\": {\"text\": \"country\"}}, \"yaxis\": {\"anchor\": \"x\", \"domain\": [0.0, 1.0], \"title\": {\"text\": \"confirmed\"}}},                        {\"responsive\": true}                    ).then(function(){\n",
       "                            \n",
       "var gd = document.getElementById('ef01dc64-7ed2-477a-ba3b-5eef305b1582');\n",
       "var x = new MutationObserver(function (mutations, observer) {{\n",
       "        var display = window.getComputedStyle(gd).display;\n",
       "        if (!display || display === 'none') {{\n",
       "            console.log([gd, 'removed!']);\n",
       "            Plotly.purge(gd);\n",
       "            observer.disconnect();\n",
       "        }}\n",
       "}});\n",
       "\n",
       "// Listen for the removal of the full notebook cells\n",
       "var notebookContainer = gd.closest('#notebook-container');\n",
       "if (notebookContainer) {{\n",
       "    x.observe(notebookContainer, {childList: true});\n",
       "}}\n",
       "\n",
       "// Listen for the clearing of the current output cell\n",
       "var outputEl = gd.closest('.output');\n",
       "if (outputEl) {{\n",
       "    x.observe(outputEl, {childList: true});\n",
       "}}\n",
       "\n",
       "                        })                };                });            </script>        </div>"
      ]
     },
     "metadata": {},
     "output_type": "display_data"
    }
   ],
   "source": [
    "px.bar(\n",
    "    sorted_country_df.head(10),\n",
    "    x = \"country\",\n",
    "    y = \"confirmed\",\n",
    "    title= \"Top 10 worst affected countries\", # the axis names\n",
    "    color_discrete_sequence=[\"pink\"], \n",
    "    height=500,\n",
    "    width=800\n",
    ")"
   ]
  },
  {
   "cell_type": "markdown",
   "metadata": {
    "id": "itVJS3rZF2Jw"
   },
   "source": [
    "# 10 worst hit countries - Death cases"
   ]
  },
  {
   "cell_type": "code",
   "execution_count": 44,
   "metadata": {
    "colab": {
     "base_uri": "https://localhost:8080/",
     "height": 517
    },
    "executionInfo": {
     "elapsed": 6434,
     "status": "ok",
     "timestamp": 1606304385269,
     "user": {
      "displayName": "Tanvi.Pathak Btech2018",
      "photoUrl": "",
      "userId": "14428118753927477441"
     },
     "user_tz": -330
    },
    "id": "iL8_OF2xF2Jw",
    "outputId": "f0c6f7ba-5402-4eb7-d122-734bc88fdba9"
   },
   "outputs": [
    {
     "data": {
      "application/vnd.plotly.v1+json": {
       "config": {
        "plotlyServerURL": "https://plot.ly"
       },
       "data": [
        {
         "alignmentgroup": "True",
         "hovertemplate": "country=%{x}<br>deaths=%{y}<extra></extra>",
         "legendgroup": "",
         "marker": {
          "color": "pink"
         },
         "name": "",
         "offsetgroup": "",
         "orientation": "v",
         "showlegend": false,
         "textposition": "auto",
         "type": "bar",
         "x": [
          "US",
          "India",
          "Brazil",
          "France",
          "Russia",
          "Spain",
          "United Kingdom",
          "Italy",
          "Argentina",
          "Colombia"
         ],
         "xaxis": "x",
         "y": [
          259976,
          134699,
          170115,
          50327,
          37173,
          43668,
          55935,
          51306,
          37432,
          35677
         ],
         "yaxis": "y"
        }
       ],
       "layout": {
        "barmode": "relative",
        "height": 500,
        "legend": {
         "tracegroupgap": 0
        },
        "template": {
         "data": {
          "bar": [
           {
            "error_x": {
             "color": "#2a3f5f"
            },
            "error_y": {
             "color": "#2a3f5f"
            },
            "marker": {
             "line": {
              "color": "#E5ECF6",
              "width": 0.5
             }
            },
            "type": "bar"
           }
          ],
          "barpolar": [
           {
            "marker": {
             "line": {
              "color": "#E5ECF6",
              "width": 0.5
             }
            },
            "type": "barpolar"
           }
          ],
          "carpet": [
           {
            "aaxis": {
             "endlinecolor": "#2a3f5f",
             "gridcolor": "white",
             "linecolor": "white",
             "minorgridcolor": "white",
             "startlinecolor": "#2a3f5f"
            },
            "baxis": {
             "endlinecolor": "#2a3f5f",
             "gridcolor": "white",
             "linecolor": "white",
             "minorgridcolor": "white",
             "startlinecolor": "#2a3f5f"
            },
            "type": "carpet"
           }
          ],
          "choropleth": [
           {
            "colorbar": {
             "outlinewidth": 0,
             "ticks": ""
            },
            "type": "choropleth"
           }
          ],
          "contour": [
           {
            "colorbar": {
             "outlinewidth": 0,
             "ticks": ""
            },
            "colorscale": [
             [
              0,
              "#0d0887"
             ],
             [
              0.1111111111111111,
              "#46039f"
             ],
             [
              0.2222222222222222,
              "#7201a8"
             ],
             [
              0.3333333333333333,
              "#9c179e"
             ],
             [
              0.4444444444444444,
              "#bd3786"
             ],
             [
              0.5555555555555556,
              "#d8576b"
             ],
             [
              0.6666666666666666,
              "#ed7953"
             ],
             [
              0.7777777777777778,
              "#fb9f3a"
             ],
             [
              0.8888888888888888,
              "#fdca26"
             ],
             [
              1,
              "#f0f921"
             ]
            ],
            "type": "contour"
           }
          ],
          "contourcarpet": [
           {
            "colorbar": {
             "outlinewidth": 0,
             "ticks": ""
            },
            "type": "contourcarpet"
           }
          ],
          "heatmap": [
           {
            "colorbar": {
             "outlinewidth": 0,
             "ticks": ""
            },
            "colorscale": [
             [
              0,
              "#0d0887"
             ],
             [
              0.1111111111111111,
              "#46039f"
             ],
             [
              0.2222222222222222,
              "#7201a8"
             ],
             [
              0.3333333333333333,
              "#9c179e"
             ],
             [
              0.4444444444444444,
              "#bd3786"
             ],
             [
              0.5555555555555556,
              "#d8576b"
             ],
             [
              0.6666666666666666,
              "#ed7953"
             ],
             [
              0.7777777777777778,
              "#fb9f3a"
             ],
             [
              0.8888888888888888,
              "#fdca26"
             ],
             [
              1,
              "#f0f921"
             ]
            ],
            "type": "heatmap"
           }
          ],
          "heatmapgl": [
           {
            "colorbar": {
             "outlinewidth": 0,
             "ticks": ""
            },
            "colorscale": [
             [
              0,
              "#0d0887"
             ],
             [
              0.1111111111111111,
              "#46039f"
             ],
             [
              0.2222222222222222,
              "#7201a8"
             ],
             [
              0.3333333333333333,
              "#9c179e"
             ],
             [
              0.4444444444444444,
              "#bd3786"
             ],
             [
              0.5555555555555556,
              "#d8576b"
             ],
             [
              0.6666666666666666,
              "#ed7953"
             ],
             [
              0.7777777777777778,
              "#fb9f3a"
             ],
             [
              0.8888888888888888,
              "#fdca26"
             ],
             [
              1,
              "#f0f921"
             ]
            ],
            "type": "heatmapgl"
           }
          ],
          "histogram": [
           {
            "marker": {
             "colorbar": {
              "outlinewidth": 0,
              "ticks": ""
             }
            },
            "type": "histogram"
           }
          ],
          "histogram2d": [
           {
            "colorbar": {
             "outlinewidth": 0,
             "ticks": ""
            },
            "colorscale": [
             [
              0,
              "#0d0887"
             ],
             [
              0.1111111111111111,
              "#46039f"
             ],
             [
              0.2222222222222222,
              "#7201a8"
             ],
             [
              0.3333333333333333,
              "#9c179e"
             ],
             [
              0.4444444444444444,
              "#bd3786"
             ],
             [
              0.5555555555555556,
              "#d8576b"
             ],
             [
              0.6666666666666666,
              "#ed7953"
             ],
             [
              0.7777777777777778,
              "#fb9f3a"
             ],
             [
              0.8888888888888888,
              "#fdca26"
             ],
             [
              1,
              "#f0f921"
             ]
            ],
            "type": "histogram2d"
           }
          ],
          "histogram2dcontour": [
           {
            "colorbar": {
             "outlinewidth": 0,
             "ticks": ""
            },
            "colorscale": [
             [
              0,
              "#0d0887"
             ],
             [
              0.1111111111111111,
              "#46039f"
             ],
             [
              0.2222222222222222,
              "#7201a8"
             ],
             [
              0.3333333333333333,
              "#9c179e"
             ],
             [
              0.4444444444444444,
              "#bd3786"
             ],
             [
              0.5555555555555556,
              "#d8576b"
             ],
             [
              0.6666666666666666,
              "#ed7953"
             ],
             [
              0.7777777777777778,
              "#fb9f3a"
             ],
             [
              0.8888888888888888,
              "#fdca26"
             ],
             [
              1,
              "#f0f921"
             ]
            ],
            "type": "histogram2dcontour"
           }
          ],
          "mesh3d": [
           {
            "colorbar": {
             "outlinewidth": 0,
             "ticks": ""
            },
            "type": "mesh3d"
           }
          ],
          "parcoords": [
           {
            "line": {
             "colorbar": {
              "outlinewidth": 0,
              "ticks": ""
             }
            },
            "type": "parcoords"
           }
          ],
          "pie": [
           {
            "automargin": true,
            "type": "pie"
           }
          ],
          "scatter": [
           {
            "marker": {
             "colorbar": {
              "outlinewidth": 0,
              "ticks": ""
             }
            },
            "type": "scatter"
           }
          ],
          "scatter3d": [
           {
            "line": {
             "colorbar": {
              "outlinewidth": 0,
              "ticks": ""
             }
            },
            "marker": {
             "colorbar": {
              "outlinewidth": 0,
              "ticks": ""
             }
            },
            "type": "scatter3d"
           }
          ],
          "scattercarpet": [
           {
            "marker": {
             "colorbar": {
              "outlinewidth": 0,
              "ticks": ""
             }
            },
            "type": "scattercarpet"
           }
          ],
          "scattergeo": [
           {
            "marker": {
             "colorbar": {
              "outlinewidth": 0,
              "ticks": ""
             }
            },
            "type": "scattergeo"
           }
          ],
          "scattergl": [
           {
            "marker": {
             "colorbar": {
              "outlinewidth": 0,
              "ticks": ""
             }
            },
            "type": "scattergl"
           }
          ],
          "scattermapbox": [
           {
            "marker": {
             "colorbar": {
              "outlinewidth": 0,
              "ticks": ""
             }
            },
            "type": "scattermapbox"
           }
          ],
          "scatterpolar": [
           {
            "marker": {
             "colorbar": {
              "outlinewidth": 0,
              "ticks": ""
             }
            },
            "type": "scatterpolar"
           }
          ],
          "scatterpolargl": [
           {
            "marker": {
             "colorbar": {
              "outlinewidth": 0,
              "ticks": ""
             }
            },
            "type": "scatterpolargl"
           }
          ],
          "scatterternary": [
           {
            "marker": {
             "colorbar": {
              "outlinewidth": 0,
              "ticks": ""
             }
            },
            "type": "scatterternary"
           }
          ],
          "surface": [
           {
            "colorbar": {
             "outlinewidth": 0,
             "ticks": ""
            },
            "colorscale": [
             [
              0,
              "#0d0887"
             ],
             [
              0.1111111111111111,
              "#46039f"
             ],
             [
              0.2222222222222222,
              "#7201a8"
             ],
             [
              0.3333333333333333,
              "#9c179e"
             ],
             [
              0.4444444444444444,
              "#bd3786"
             ],
             [
              0.5555555555555556,
              "#d8576b"
             ],
             [
              0.6666666666666666,
              "#ed7953"
             ],
             [
              0.7777777777777778,
              "#fb9f3a"
             ],
             [
              0.8888888888888888,
              "#fdca26"
             ],
             [
              1,
              "#f0f921"
             ]
            ],
            "type": "surface"
           }
          ],
          "table": [
           {
            "cells": {
             "fill": {
              "color": "#EBF0F8"
             },
             "line": {
              "color": "white"
             }
            },
            "header": {
             "fill": {
              "color": "#C8D4E3"
             },
             "line": {
              "color": "white"
             }
            },
            "type": "table"
           }
          ]
         },
         "layout": {
          "annotationdefaults": {
           "arrowcolor": "#2a3f5f",
           "arrowhead": 0,
           "arrowwidth": 1
          },
          "coloraxis": {
           "colorbar": {
            "outlinewidth": 0,
            "ticks": ""
           }
          },
          "colorscale": {
           "diverging": [
            [
             0,
             "#8e0152"
            ],
            [
             0.1,
             "#c51b7d"
            ],
            [
             0.2,
             "#de77ae"
            ],
            [
             0.3,
             "#f1b6da"
            ],
            [
             0.4,
             "#fde0ef"
            ],
            [
             0.5,
             "#f7f7f7"
            ],
            [
             0.6,
             "#e6f5d0"
            ],
            [
             0.7,
             "#b8e186"
            ],
            [
             0.8,
             "#7fbc41"
            ],
            [
             0.9,
             "#4d9221"
            ],
            [
             1,
             "#276419"
            ]
           ],
           "sequential": [
            [
             0,
             "#0d0887"
            ],
            [
             0.1111111111111111,
             "#46039f"
            ],
            [
             0.2222222222222222,
             "#7201a8"
            ],
            [
             0.3333333333333333,
             "#9c179e"
            ],
            [
             0.4444444444444444,
             "#bd3786"
            ],
            [
             0.5555555555555556,
             "#d8576b"
            ],
            [
             0.6666666666666666,
             "#ed7953"
            ],
            [
             0.7777777777777778,
             "#fb9f3a"
            ],
            [
             0.8888888888888888,
             "#fdca26"
            ],
            [
             1,
             "#f0f921"
            ]
           ],
           "sequentialminus": [
            [
             0,
             "#0d0887"
            ],
            [
             0.1111111111111111,
             "#46039f"
            ],
            [
             0.2222222222222222,
             "#7201a8"
            ],
            [
             0.3333333333333333,
             "#9c179e"
            ],
            [
             0.4444444444444444,
             "#bd3786"
            ],
            [
             0.5555555555555556,
             "#d8576b"
            ],
            [
             0.6666666666666666,
             "#ed7953"
            ],
            [
             0.7777777777777778,
             "#fb9f3a"
            ],
            [
             0.8888888888888888,
             "#fdca26"
            ],
            [
             1,
             "#f0f921"
            ]
           ]
          },
          "colorway": [
           "#636efa",
           "#EF553B",
           "#00cc96",
           "#ab63fa",
           "#FFA15A",
           "#19d3f3",
           "#FF6692",
           "#B6E880",
           "#FF97FF",
           "#FECB52"
          ],
          "font": {
           "color": "#2a3f5f"
          },
          "geo": {
           "bgcolor": "white",
           "lakecolor": "white",
           "landcolor": "#E5ECF6",
           "showlakes": true,
           "showland": true,
           "subunitcolor": "white"
          },
          "hoverlabel": {
           "align": "left"
          },
          "hovermode": "closest",
          "mapbox": {
           "style": "light"
          },
          "paper_bgcolor": "white",
          "plot_bgcolor": "#E5ECF6",
          "polar": {
           "angularaxis": {
            "gridcolor": "white",
            "linecolor": "white",
            "ticks": ""
           },
           "bgcolor": "#E5ECF6",
           "radialaxis": {
            "gridcolor": "white",
            "linecolor": "white",
            "ticks": ""
           }
          },
          "scene": {
           "xaxis": {
            "backgroundcolor": "#E5ECF6",
            "gridcolor": "white",
            "gridwidth": 2,
            "linecolor": "white",
            "showbackground": true,
            "ticks": "",
            "zerolinecolor": "white"
           },
           "yaxis": {
            "backgroundcolor": "#E5ECF6",
            "gridcolor": "white",
            "gridwidth": 2,
            "linecolor": "white",
            "showbackground": true,
            "ticks": "",
            "zerolinecolor": "white"
           },
           "zaxis": {
            "backgroundcolor": "#E5ECF6",
            "gridcolor": "white",
            "gridwidth": 2,
            "linecolor": "white",
            "showbackground": true,
            "ticks": "",
            "zerolinecolor": "white"
           }
          },
          "shapedefaults": {
           "line": {
            "color": "#2a3f5f"
           }
          },
          "ternary": {
           "aaxis": {
            "gridcolor": "white",
            "linecolor": "white",
            "ticks": ""
           },
           "baxis": {
            "gridcolor": "white",
            "linecolor": "white",
            "ticks": ""
           },
           "bgcolor": "#E5ECF6",
           "caxis": {
            "gridcolor": "white",
            "linecolor": "white",
            "ticks": ""
           }
          },
          "title": {
           "x": 0.05
          },
          "xaxis": {
           "automargin": true,
           "gridcolor": "white",
           "linecolor": "white",
           "ticks": "",
           "title": {
            "standoff": 15
           },
           "zerolinecolor": "white",
           "zerolinewidth": 2
          },
          "yaxis": {
           "automargin": true,
           "gridcolor": "white",
           "linecolor": "white",
           "ticks": "",
           "title": {
            "standoff": 15
           },
           "zerolinecolor": "white",
           "zerolinewidth": 2
          }
         }
        },
        "title": {
         "text": "Top 10 worst affected countries"
        },
        "width": 800,
        "xaxis": {
         "anchor": "y",
         "domain": [
          0,
          1
         ],
         "title": {
          "text": "country"
         }
        },
        "yaxis": {
         "anchor": "x",
         "domain": [
          0,
          1
         ],
         "title": {
          "text": "deaths"
         }
        }
       }
      },
      "text/html": [
       "<div>                            <div id=\"3ceccd44-c1ab-4c1c-8c39-6906b20e567b\" class=\"plotly-graph-div\" style=\"height:500px; width:800px;\"></div>            <script type=\"text/javascript\">                require([\"plotly\"], function(Plotly) {                    window.PLOTLYENV=window.PLOTLYENV || {};                                    if (document.getElementById(\"3ceccd44-c1ab-4c1c-8c39-6906b20e567b\")) {                    Plotly.newPlot(                        \"3ceccd44-c1ab-4c1c-8c39-6906b20e567b\",                        [{\"alignmentgroup\": \"True\", \"hovertemplate\": \"country=%{x}<br>deaths=%{y}<extra></extra>\", \"legendgroup\": \"\", \"marker\": {\"color\": \"pink\"}, \"name\": \"\", \"offsetgroup\": \"\", \"orientation\": \"v\", \"showlegend\": false, \"textposition\": \"auto\", \"type\": \"bar\", \"x\": [\"US\", \"India\", \"Brazil\", \"France\", \"Russia\", \"Spain\", \"United Kingdom\", \"Italy\", \"Argentina\", \"Colombia\"], \"xaxis\": \"x\", \"y\": [259976.0, 134699.0, 170115.0, 50327.0, 37173.0, 43668.0, 55935.0, 51306.0, 37432.0, 35677.0], \"yaxis\": \"y\"}],                        {\"barmode\": \"relative\", \"height\": 500, \"legend\": {\"tracegroupgap\": 0}, \"template\": {\"data\": {\"bar\": [{\"error_x\": {\"color\": \"#2a3f5f\"}, \"error_y\": {\"color\": \"#2a3f5f\"}, \"marker\": {\"line\": {\"color\": \"#E5ECF6\", \"width\": 0.5}}, \"type\": \"bar\"}], \"barpolar\": [{\"marker\": {\"line\": {\"color\": \"#E5ECF6\", \"width\": 0.5}}, \"type\": \"barpolar\"}], \"carpet\": [{\"aaxis\": {\"endlinecolor\": \"#2a3f5f\", \"gridcolor\": \"white\", \"linecolor\": \"white\", \"minorgridcolor\": \"white\", \"startlinecolor\": \"#2a3f5f\"}, \"baxis\": {\"endlinecolor\": \"#2a3f5f\", \"gridcolor\": \"white\", \"linecolor\": \"white\", \"minorgridcolor\": \"white\", \"startlinecolor\": \"#2a3f5f\"}, \"type\": \"carpet\"}], \"choropleth\": [{\"colorbar\": {\"outlinewidth\": 0, \"ticks\": \"\"}, \"type\": \"choropleth\"}], \"contour\": [{\"colorbar\": {\"outlinewidth\": 0, \"ticks\": \"\"}, \"colorscale\": [[0.0, \"#0d0887\"], [0.1111111111111111, \"#46039f\"], [0.2222222222222222, \"#7201a8\"], [0.3333333333333333, \"#9c179e\"], [0.4444444444444444, \"#bd3786\"], [0.5555555555555556, \"#d8576b\"], [0.6666666666666666, \"#ed7953\"], [0.7777777777777778, \"#fb9f3a\"], [0.8888888888888888, \"#fdca26\"], [1.0, \"#f0f921\"]], \"type\": \"contour\"}], \"contourcarpet\": [{\"colorbar\": {\"outlinewidth\": 0, \"ticks\": \"\"}, \"type\": \"contourcarpet\"}], \"heatmap\": [{\"colorbar\": {\"outlinewidth\": 0, \"ticks\": \"\"}, \"colorscale\": [[0.0, \"#0d0887\"], [0.1111111111111111, \"#46039f\"], [0.2222222222222222, \"#7201a8\"], [0.3333333333333333, \"#9c179e\"], [0.4444444444444444, \"#bd3786\"], [0.5555555555555556, \"#d8576b\"], [0.6666666666666666, \"#ed7953\"], [0.7777777777777778, \"#fb9f3a\"], [0.8888888888888888, \"#fdca26\"], [1.0, \"#f0f921\"]], \"type\": \"heatmap\"}], \"heatmapgl\": [{\"colorbar\": {\"outlinewidth\": 0, \"ticks\": \"\"}, \"colorscale\": [[0.0, \"#0d0887\"], [0.1111111111111111, \"#46039f\"], [0.2222222222222222, \"#7201a8\"], [0.3333333333333333, \"#9c179e\"], [0.4444444444444444, \"#bd3786\"], [0.5555555555555556, \"#d8576b\"], [0.6666666666666666, \"#ed7953\"], [0.7777777777777778, \"#fb9f3a\"], [0.8888888888888888, \"#fdca26\"], [1.0, \"#f0f921\"]], \"type\": \"heatmapgl\"}], \"histogram\": [{\"marker\": {\"colorbar\": {\"outlinewidth\": 0, \"ticks\": \"\"}}, \"type\": \"histogram\"}], \"histogram2d\": [{\"colorbar\": {\"outlinewidth\": 0, \"ticks\": \"\"}, \"colorscale\": [[0.0, \"#0d0887\"], [0.1111111111111111, \"#46039f\"], [0.2222222222222222, \"#7201a8\"], [0.3333333333333333, \"#9c179e\"], [0.4444444444444444, \"#bd3786\"], [0.5555555555555556, \"#d8576b\"], [0.6666666666666666, \"#ed7953\"], [0.7777777777777778, \"#fb9f3a\"], [0.8888888888888888, \"#fdca26\"], [1.0, \"#f0f921\"]], \"type\": \"histogram2d\"}], \"histogram2dcontour\": [{\"colorbar\": {\"outlinewidth\": 0, \"ticks\": \"\"}, \"colorscale\": [[0.0, \"#0d0887\"], [0.1111111111111111, \"#46039f\"], [0.2222222222222222, \"#7201a8\"], [0.3333333333333333, \"#9c179e\"], [0.4444444444444444, \"#bd3786\"], [0.5555555555555556, \"#d8576b\"], [0.6666666666666666, \"#ed7953\"], [0.7777777777777778, \"#fb9f3a\"], [0.8888888888888888, \"#fdca26\"], [1.0, \"#f0f921\"]], \"type\": \"histogram2dcontour\"}], \"mesh3d\": [{\"colorbar\": {\"outlinewidth\": 0, \"ticks\": \"\"}, \"type\": \"mesh3d\"}], \"parcoords\": [{\"line\": {\"colorbar\": {\"outlinewidth\": 0, \"ticks\": \"\"}}, \"type\": \"parcoords\"}], \"pie\": [{\"automargin\": true, \"type\": \"pie\"}], \"scatter\": [{\"marker\": {\"colorbar\": {\"outlinewidth\": 0, \"ticks\": \"\"}}, \"type\": \"scatter\"}], \"scatter3d\": [{\"line\": {\"colorbar\": {\"outlinewidth\": 0, \"ticks\": \"\"}}, \"marker\": {\"colorbar\": {\"outlinewidth\": 0, \"ticks\": \"\"}}, \"type\": \"scatter3d\"}], \"scattercarpet\": [{\"marker\": {\"colorbar\": {\"outlinewidth\": 0, \"ticks\": \"\"}}, \"type\": \"scattercarpet\"}], \"scattergeo\": [{\"marker\": {\"colorbar\": {\"outlinewidth\": 0, \"ticks\": \"\"}}, \"type\": \"scattergeo\"}], \"scattergl\": [{\"marker\": {\"colorbar\": {\"outlinewidth\": 0, \"ticks\": \"\"}}, \"type\": \"scattergl\"}], \"scattermapbox\": [{\"marker\": {\"colorbar\": {\"outlinewidth\": 0, \"ticks\": \"\"}}, \"type\": \"scattermapbox\"}], \"scatterpolar\": [{\"marker\": {\"colorbar\": {\"outlinewidth\": 0, \"ticks\": \"\"}}, \"type\": \"scatterpolar\"}], \"scatterpolargl\": [{\"marker\": {\"colorbar\": {\"outlinewidth\": 0, \"ticks\": \"\"}}, \"type\": \"scatterpolargl\"}], \"scatterternary\": [{\"marker\": {\"colorbar\": {\"outlinewidth\": 0, \"ticks\": \"\"}}, \"type\": \"scatterternary\"}], \"surface\": [{\"colorbar\": {\"outlinewidth\": 0, \"ticks\": \"\"}, \"colorscale\": [[0.0, \"#0d0887\"], [0.1111111111111111, \"#46039f\"], [0.2222222222222222, \"#7201a8\"], [0.3333333333333333, \"#9c179e\"], [0.4444444444444444, \"#bd3786\"], [0.5555555555555556, \"#d8576b\"], [0.6666666666666666, \"#ed7953\"], [0.7777777777777778, \"#fb9f3a\"], [0.8888888888888888, \"#fdca26\"], [1.0, \"#f0f921\"]], \"type\": \"surface\"}], \"table\": [{\"cells\": {\"fill\": {\"color\": \"#EBF0F8\"}, \"line\": {\"color\": \"white\"}}, \"header\": {\"fill\": {\"color\": \"#C8D4E3\"}, \"line\": {\"color\": \"white\"}}, \"type\": \"table\"}]}, \"layout\": {\"annotationdefaults\": {\"arrowcolor\": \"#2a3f5f\", \"arrowhead\": 0, \"arrowwidth\": 1}, \"coloraxis\": {\"colorbar\": {\"outlinewidth\": 0, \"ticks\": \"\"}}, \"colorscale\": {\"diverging\": [[0, \"#8e0152\"], [0.1, \"#c51b7d\"], [0.2, \"#de77ae\"], [0.3, \"#f1b6da\"], [0.4, \"#fde0ef\"], [0.5, \"#f7f7f7\"], [0.6, \"#e6f5d0\"], [0.7, \"#b8e186\"], [0.8, \"#7fbc41\"], [0.9, \"#4d9221\"], [1, \"#276419\"]], \"sequential\": [[0.0, \"#0d0887\"], [0.1111111111111111, \"#46039f\"], [0.2222222222222222, \"#7201a8\"], [0.3333333333333333, \"#9c179e\"], [0.4444444444444444, \"#bd3786\"], [0.5555555555555556, \"#d8576b\"], [0.6666666666666666, \"#ed7953\"], [0.7777777777777778, \"#fb9f3a\"], [0.8888888888888888, \"#fdca26\"], [1.0, \"#f0f921\"]], \"sequentialminus\": [[0.0, \"#0d0887\"], [0.1111111111111111, \"#46039f\"], [0.2222222222222222, \"#7201a8\"], [0.3333333333333333, \"#9c179e\"], [0.4444444444444444, \"#bd3786\"], [0.5555555555555556, \"#d8576b\"], [0.6666666666666666, \"#ed7953\"], [0.7777777777777778, \"#fb9f3a\"], [0.8888888888888888, \"#fdca26\"], [1.0, \"#f0f921\"]]}, \"colorway\": [\"#636efa\", \"#EF553B\", \"#00cc96\", \"#ab63fa\", \"#FFA15A\", \"#19d3f3\", \"#FF6692\", \"#B6E880\", \"#FF97FF\", \"#FECB52\"], \"font\": {\"color\": \"#2a3f5f\"}, \"geo\": {\"bgcolor\": \"white\", \"lakecolor\": \"white\", \"landcolor\": \"#E5ECF6\", \"showlakes\": true, \"showland\": true, \"subunitcolor\": \"white\"}, \"hoverlabel\": {\"align\": \"left\"}, \"hovermode\": \"closest\", \"mapbox\": {\"style\": \"light\"}, \"paper_bgcolor\": \"white\", \"plot_bgcolor\": \"#E5ECF6\", \"polar\": {\"angularaxis\": {\"gridcolor\": \"white\", \"linecolor\": \"white\", \"ticks\": \"\"}, \"bgcolor\": \"#E5ECF6\", \"radialaxis\": {\"gridcolor\": \"white\", \"linecolor\": \"white\", \"ticks\": \"\"}}, \"scene\": {\"xaxis\": {\"backgroundcolor\": \"#E5ECF6\", \"gridcolor\": \"white\", \"gridwidth\": 2, \"linecolor\": \"white\", \"showbackground\": true, \"ticks\": \"\", \"zerolinecolor\": \"white\"}, \"yaxis\": {\"backgroundcolor\": \"#E5ECF6\", \"gridcolor\": \"white\", \"gridwidth\": 2, \"linecolor\": \"white\", \"showbackground\": true, \"ticks\": \"\", \"zerolinecolor\": \"white\"}, \"zaxis\": {\"backgroundcolor\": \"#E5ECF6\", \"gridcolor\": \"white\", \"gridwidth\": 2, \"linecolor\": \"white\", \"showbackground\": true, \"ticks\": \"\", \"zerolinecolor\": \"white\"}}, \"shapedefaults\": {\"line\": {\"color\": \"#2a3f5f\"}}, \"ternary\": {\"aaxis\": {\"gridcolor\": \"white\", \"linecolor\": \"white\", \"ticks\": \"\"}, \"baxis\": {\"gridcolor\": \"white\", \"linecolor\": \"white\", \"ticks\": \"\"}, \"bgcolor\": \"#E5ECF6\", \"caxis\": {\"gridcolor\": \"white\", \"linecolor\": \"white\", \"ticks\": \"\"}}, \"title\": {\"x\": 0.05}, \"xaxis\": {\"automargin\": true, \"gridcolor\": \"white\", \"linecolor\": \"white\", \"ticks\": \"\", \"title\": {\"standoff\": 15}, \"zerolinecolor\": \"white\", \"zerolinewidth\": 2}, \"yaxis\": {\"automargin\": true, \"gridcolor\": \"white\", \"linecolor\": \"white\", \"ticks\": \"\", \"title\": {\"standoff\": 15}, \"zerolinecolor\": \"white\", \"zerolinewidth\": 2}}}, \"title\": {\"text\": \"Top 10 worst affected countries\"}, \"width\": 800, \"xaxis\": {\"anchor\": \"y\", \"domain\": [0.0, 1.0], \"title\": {\"text\": \"country\"}}, \"yaxis\": {\"anchor\": \"x\", \"domain\": [0.0, 1.0], \"title\": {\"text\": \"deaths\"}}},                        {\"responsive\": true}                    ).then(function(){\n",
       "                            \n",
       "var gd = document.getElementById('3ceccd44-c1ab-4c1c-8c39-6906b20e567b');\n",
       "var x = new MutationObserver(function (mutations, observer) {{\n",
       "        var display = window.getComputedStyle(gd).display;\n",
       "        if (!display || display === 'none') {{\n",
       "            console.log([gd, 'removed!']);\n",
       "            Plotly.purge(gd);\n",
       "            observer.disconnect();\n",
       "        }}\n",
       "}});\n",
       "\n",
       "// Listen for the removal of the full notebook cells\n",
       "var notebookContainer = gd.closest('#notebook-container');\n",
       "if (notebookContainer) {{\n",
       "    x.observe(notebookContainer, {childList: true});\n",
       "}}\n",
       "\n",
       "// Listen for the clearing of the current output cell\n",
       "var outputEl = gd.closest('.output');\n",
       "if (outputEl) {{\n",
       "    x.observe(outputEl, {childList: true});\n",
       "}}\n",
       "\n",
       "                        })                };                });            </script>        </div>"
      ]
     },
     "metadata": {},
     "output_type": "display_data"
    }
   ],
   "source": [
    "px.bar(\n",
    "    sorted_country_df.head(10),\n",
    "    x = \"country\",\n",
    "    y = \"deaths\",\n",
    "    title= \"Top 10 worst affected countries\", # the axis names\n",
    "    color_discrete_sequence=[\"pink\"], \n",
    "    height=500,\n",
    "    width=800\n",
    ")"
   ]
  },
  {
   "cell_type": "markdown",
   "metadata": {
    "id": "P0qMhAGIF2J1"
   },
   "source": [
    "# Worst hit countries - Recovering cases"
   ]
  },
  {
   "cell_type": "code",
   "execution_count": 45,
   "metadata": {
    "colab": {
     "base_uri": "https://localhost:8080/",
     "height": 517
    },
    "executionInfo": {
     "elapsed": 7639,
     "status": "ok",
     "timestamp": 1606304386490,
     "user": {
      "displayName": "Tanvi.Pathak Btech2018",
      "photoUrl": "",
      "userId": "14428118753927477441"
     },
     "user_tz": -330
    },
    "id": "u4PLfoWcF2J2",
    "outputId": "226f31a4-5c29-4307-87a8-71f6e95e0cde"
   },
   "outputs": [
    {
     "data": {
      "application/vnd.plotly.v1+json": {
       "config": {
        "plotlyServerURL": "https://plot.ly"
       },
       "data": [
        {
         "alignmentgroup": "True",
         "hovertemplate": "country=%{x}<br>recovered=%{y}<extra></extra>",
         "legendgroup": "",
         "marker": {
          "color": "pink"
         },
         "name": "",
         "offsetgroup": "",
         "orientation": "v",
         "showlegend": false,
         "textposition": "auto",
         "type": "bar",
         "x": [
          "US",
          "India",
          "Brazil",
          "France",
          "Russia",
          "Spain",
          "United Kingdom",
          "Italy",
          "Argentina",
          "Colombia"
         ],
         "xaxis": "x",
         "y": [
          4696664,
          8642771,
          5509645,
          160257,
          1646737,
          150376,
          3410,
          605330,
          1210634,
          1167857
         ],
         "yaxis": "y"
        }
       ],
       "layout": {
        "barmode": "relative",
        "height": 500,
        "legend": {
         "tracegroupgap": 0
        },
        "template": {
         "data": {
          "bar": [
           {
            "error_x": {
             "color": "#2a3f5f"
            },
            "error_y": {
             "color": "#2a3f5f"
            },
            "marker": {
             "line": {
              "color": "#E5ECF6",
              "width": 0.5
             }
            },
            "type": "bar"
           }
          ],
          "barpolar": [
           {
            "marker": {
             "line": {
              "color": "#E5ECF6",
              "width": 0.5
             }
            },
            "type": "barpolar"
           }
          ],
          "carpet": [
           {
            "aaxis": {
             "endlinecolor": "#2a3f5f",
             "gridcolor": "white",
             "linecolor": "white",
             "minorgridcolor": "white",
             "startlinecolor": "#2a3f5f"
            },
            "baxis": {
             "endlinecolor": "#2a3f5f",
             "gridcolor": "white",
             "linecolor": "white",
             "minorgridcolor": "white",
             "startlinecolor": "#2a3f5f"
            },
            "type": "carpet"
           }
          ],
          "choropleth": [
           {
            "colorbar": {
             "outlinewidth": 0,
             "ticks": ""
            },
            "type": "choropleth"
           }
          ],
          "contour": [
           {
            "colorbar": {
             "outlinewidth": 0,
             "ticks": ""
            },
            "colorscale": [
             [
              0,
              "#0d0887"
             ],
             [
              0.1111111111111111,
              "#46039f"
             ],
             [
              0.2222222222222222,
              "#7201a8"
             ],
             [
              0.3333333333333333,
              "#9c179e"
             ],
             [
              0.4444444444444444,
              "#bd3786"
             ],
             [
              0.5555555555555556,
              "#d8576b"
             ],
             [
              0.6666666666666666,
              "#ed7953"
             ],
             [
              0.7777777777777778,
              "#fb9f3a"
             ],
             [
              0.8888888888888888,
              "#fdca26"
             ],
             [
              1,
              "#f0f921"
             ]
            ],
            "type": "contour"
           }
          ],
          "contourcarpet": [
           {
            "colorbar": {
             "outlinewidth": 0,
             "ticks": ""
            },
            "type": "contourcarpet"
           }
          ],
          "heatmap": [
           {
            "colorbar": {
             "outlinewidth": 0,
             "ticks": ""
            },
            "colorscale": [
             [
              0,
              "#0d0887"
             ],
             [
              0.1111111111111111,
              "#46039f"
             ],
             [
              0.2222222222222222,
              "#7201a8"
             ],
             [
              0.3333333333333333,
              "#9c179e"
             ],
             [
              0.4444444444444444,
              "#bd3786"
             ],
             [
              0.5555555555555556,
              "#d8576b"
             ],
             [
              0.6666666666666666,
              "#ed7953"
             ],
             [
              0.7777777777777778,
              "#fb9f3a"
             ],
             [
              0.8888888888888888,
              "#fdca26"
             ],
             [
              1,
              "#f0f921"
             ]
            ],
            "type": "heatmap"
           }
          ],
          "heatmapgl": [
           {
            "colorbar": {
             "outlinewidth": 0,
             "ticks": ""
            },
            "colorscale": [
             [
              0,
              "#0d0887"
             ],
             [
              0.1111111111111111,
              "#46039f"
             ],
             [
              0.2222222222222222,
              "#7201a8"
             ],
             [
              0.3333333333333333,
              "#9c179e"
             ],
             [
              0.4444444444444444,
              "#bd3786"
             ],
             [
              0.5555555555555556,
              "#d8576b"
             ],
             [
              0.6666666666666666,
              "#ed7953"
             ],
             [
              0.7777777777777778,
              "#fb9f3a"
             ],
             [
              0.8888888888888888,
              "#fdca26"
             ],
             [
              1,
              "#f0f921"
             ]
            ],
            "type": "heatmapgl"
           }
          ],
          "histogram": [
           {
            "marker": {
             "colorbar": {
              "outlinewidth": 0,
              "ticks": ""
             }
            },
            "type": "histogram"
           }
          ],
          "histogram2d": [
           {
            "colorbar": {
             "outlinewidth": 0,
             "ticks": ""
            },
            "colorscale": [
             [
              0,
              "#0d0887"
             ],
             [
              0.1111111111111111,
              "#46039f"
             ],
             [
              0.2222222222222222,
              "#7201a8"
             ],
             [
              0.3333333333333333,
              "#9c179e"
             ],
             [
              0.4444444444444444,
              "#bd3786"
             ],
             [
              0.5555555555555556,
              "#d8576b"
             ],
             [
              0.6666666666666666,
              "#ed7953"
             ],
             [
              0.7777777777777778,
              "#fb9f3a"
             ],
             [
              0.8888888888888888,
              "#fdca26"
             ],
             [
              1,
              "#f0f921"
             ]
            ],
            "type": "histogram2d"
           }
          ],
          "histogram2dcontour": [
           {
            "colorbar": {
             "outlinewidth": 0,
             "ticks": ""
            },
            "colorscale": [
             [
              0,
              "#0d0887"
             ],
             [
              0.1111111111111111,
              "#46039f"
             ],
             [
              0.2222222222222222,
              "#7201a8"
             ],
             [
              0.3333333333333333,
              "#9c179e"
             ],
             [
              0.4444444444444444,
              "#bd3786"
             ],
             [
              0.5555555555555556,
              "#d8576b"
             ],
             [
              0.6666666666666666,
              "#ed7953"
             ],
             [
              0.7777777777777778,
              "#fb9f3a"
             ],
             [
              0.8888888888888888,
              "#fdca26"
             ],
             [
              1,
              "#f0f921"
             ]
            ],
            "type": "histogram2dcontour"
           }
          ],
          "mesh3d": [
           {
            "colorbar": {
             "outlinewidth": 0,
             "ticks": ""
            },
            "type": "mesh3d"
           }
          ],
          "parcoords": [
           {
            "line": {
             "colorbar": {
              "outlinewidth": 0,
              "ticks": ""
             }
            },
            "type": "parcoords"
           }
          ],
          "pie": [
           {
            "automargin": true,
            "type": "pie"
           }
          ],
          "scatter": [
           {
            "marker": {
             "colorbar": {
              "outlinewidth": 0,
              "ticks": ""
             }
            },
            "type": "scatter"
           }
          ],
          "scatter3d": [
           {
            "line": {
             "colorbar": {
              "outlinewidth": 0,
              "ticks": ""
             }
            },
            "marker": {
             "colorbar": {
              "outlinewidth": 0,
              "ticks": ""
             }
            },
            "type": "scatter3d"
           }
          ],
          "scattercarpet": [
           {
            "marker": {
             "colorbar": {
              "outlinewidth": 0,
              "ticks": ""
             }
            },
            "type": "scattercarpet"
           }
          ],
          "scattergeo": [
           {
            "marker": {
             "colorbar": {
              "outlinewidth": 0,
              "ticks": ""
             }
            },
            "type": "scattergeo"
           }
          ],
          "scattergl": [
           {
            "marker": {
             "colorbar": {
              "outlinewidth": 0,
              "ticks": ""
             }
            },
            "type": "scattergl"
           }
          ],
          "scattermapbox": [
           {
            "marker": {
             "colorbar": {
              "outlinewidth": 0,
              "ticks": ""
             }
            },
            "type": "scattermapbox"
           }
          ],
          "scatterpolar": [
           {
            "marker": {
             "colorbar": {
              "outlinewidth": 0,
              "ticks": ""
             }
            },
            "type": "scatterpolar"
           }
          ],
          "scatterpolargl": [
           {
            "marker": {
             "colorbar": {
              "outlinewidth": 0,
              "ticks": ""
             }
            },
            "type": "scatterpolargl"
           }
          ],
          "scatterternary": [
           {
            "marker": {
             "colorbar": {
              "outlinewidth": 0,
              "ticks": ""
             }
            },
            "type": "scatterternary"
           }
          ],
          "surface": [
           {
            "colorbar": {
             "outlinewidth": 0,
             "ticks": ""
            },
            "colorscale": [
             [
              0,
              "#0d0887"
             ],
             [
              0.1111111111111111,
              "#46039f"
             ],
             [
              0.2222222222222222,
              "#7201a8"
             ],
             [
              0.3333333333333333,
              "#9c179e"
             ],
             [
              0.4444444444444444,
              "#bd3786"
             ],
             [
              0.5555555555555556,
              "#d8576b"
             ],
             [
              0.6666666666666666,
              "#ed7953"
             ],
             [
              0.7777777777777778,
              "#fb9f3a"
             ],
             [
              0.8888888888888888,
              "#fdca26"
             ],
             [
              1,
              "#f0f921"
             ]
            ],
            "type": "surface"
           }
          ],
          "table": [
           {
            "cells": {
             "fill": {
              "color": "#EBF0F8"
             },
             "line": {
              "color": "white"
             }
            },
            "header": {
             "fill": {
              "color": "#C8D4E3"
             },
             "line": {
              "color": "white"
             }
            },
            "type": "table"
           }
          ]
         },
         "layout": {
          "annotationdefaults": {
           "arrowcolor": "#2a3f5f",
           "arrowhead": 0,
           "arrowwidth": 1
          },
          "coloraxis": {
           "colorbar": {
            "outlinewidth": 0,
            "ticks": ""
           }
          },
          "colorscale": {
           "diverging": [
            [
             0,
             "#8e0152"
            ],
            [
             0.1,
             "#c51b7d"
            ],
            [
             0.2,
             "#de77ae"
            ],
            [
             0.3,
             "#f1b6da"
            ],
            [
             0.4,
             "#fde0ef"
            ],
            [
             0.5,
             "#f7f7f7"
            ],
            [
             0.6,
             "#e6f5d0"
            ],
            [
             0.7,
             "#b8e186"
            ],
            [
             0.8,
             "#7fbc41"
            ],
            [
             0.9,
             "#4d9221"
            ],
            [
             1,
             "#276419"
            ]
           ],
           "sequential": [
            [
             0,
             "#0d0887"
            ],
            [
             0.1111111111111111,
             "#46039f"
            ],
            [
             0.2222222222222222,
             "#7201a8"
            ],
            [
             0.3333333333333333,
             "#9c179e"
            ],
            [
             0.4444444444444444,
             "#bd3786"
            ],
            [
             0.5555555555555556,
             "#d8576b"
            ],
            [
             0.6666666666666666,
             "#ed7953"
            ],
            [
             0.7777777777777778,
             "#fb9f3a"
            ],
            [
             0.8888888888888888,
             "#fdca26"
            ],
            [
             1,
             "#f0f921"
            ]
           ],
           "sequentialminus": [
            [
             0,
             "#0d0887"
            ],
            [
             0.1111111111111111,
             "#46039f"
            ],
            [
             0.2222222222222222,
             "#7201a8"
            ],
            [
             0.3333333333333333,
             "#9c179e"
            ],
            [
             0.4444444444444444,
             "#bd3786"
            ],
            [
             0.5555555555555556,
             "#d8576b"
            ],
            [
             0.6666666666666666,
             "#ed7953"
            ],
            [
             0.7777777777777778,
             "#fb9f3a"
            ],
            [
             0.8888888888888888,
             "#fdca26"
            ],
            [
             1,
             "#f0f921"
            ]
           ]
          },
          "colorway": [
           "#636efa",
           "#EF553B",
           "#00cc96",
           "#ab63fa",
           "#FFA15A",
           "#19d3f3",
           "#FF6692",
           "#B6E880",
           "#FF97FF",
           "#FECB52"
          ],
          "font": {
           "color": "#2a3f5f"
          },
          "geo": {
           "bgcolor": "white",
           "lakecolor": "white",
           "landcolor": "#E5ECF6",
           "showlakes": true,
           "showland": true,
           "subunitcolor": "white"
          },
          "hoverlabel": {
           "align": "left"
          },
          "hovermode": "closest",
          "mapbox": {
           "style": "light"
          },
          "paper_bgcolor": "white",
          "plot_bgcolor": "#E5ECF6",
          "polar": {
           "angularaxis": {
            "gridcolor": "white",
            "linecolor": "white",
            "ticks": ""
           },
           "bgcolor": "#E5ECF6",
           "radialaxis": {
            "gridcolor": "white",
            "linecolor": "white",
            "ticks": ""
           }
          },
          "scene": {
           "xaxis": {
            "backgroundcolor": "#E5ECF6",
            "gridcolor": "white",
            "gridwidth": 2,
            "linecolor": "white",
            "showbackground": true,
            "ticks": "",
            "zerolinecolor": "white"
           },
           "yaxis": {
            "backgroundcolor": "#E5ECF6",
            "gridcolor": "white",
            "gridwidth": 2,
            "linecolor": "white",
            "showbackground": true,
            "ticks": "",
            "zerolinecolor": "white"
           },
           "zaxis": {
            "backgroundcolor": "#E5ECF6",
            "gridcolor": "white",
            "gridwidth": 2,
            "linecolor": "white",
            "showbackground": true,
            "ticks": "",
            "zerolinecolor": "white"
           }
          },
          "shapedefaults": {
           "line": {
            "color": "#2a3f5f"
           }
          },
          "ternary": {
           "aaxis": {
            "gridcolor": "white",
            "linecolor": "white",
            "ticks": ""
           },
           "baxis": {
            "gridcolor": "white",
            "linecolor": "white",
            "ticks": ""
           },
           "bgcolor": "#E5ECF6",
           "caxis": {
            "gridcolor": "white",
            "linecolor": "white",
            "ticks": ""
           }
          },
          "title": {
           "x": 0.05
          },
          "xaxis": {
           "automargin": true,
           "gridcolor": "white",
           "linecolor": "white",
           "ticks": "",
           "title": {
            "standoff": 15
           },
           "zerolinecolor": "white",
           "zerolinewidth": 2
          },
          "yaxis": {
           "automargin": true,
           "gridcolor": "white",
           "linecolor": "white",
           "ticks": "",
           "title": {
            "standoff": 15
           },
           "zerolinecolor": "white",
           "zerolinewidth": 2
          }
         }
        },
        "title": {
         "text": "Top 10 worst affected countries"
        },
        "width": 800,
        "xaxis": {
         "anchor": "y",
         "domain": [
          0,
          1
         ],
         "title": {
          "text": "country"
         }
        },
        "yaxis": {
         "anchor": "x",
         "domain": [
          0,
          1
         ],
         "title": {
          "text": "recovered"
         }
        }
       }
      },
      "text/html": [
       "<div>                            <div id=\"8fb3489d-c97a-446f-a719-8481c68594a0\" class=\"plotly-graph-div\" style=\"height:500px; width:800px;\"></div>            <script type=\"text/javascript\">                require([\"plotly\"], function(Plotly) {                    window.PLOTLYENV=window.PLOTLYENV || {};                                    if (document.getElementById(\"8fb3489d-c97a-446f-a719-8481c68594a0\")) {                    Plotly.newPlot(                        \"8fb3489d-c97a-446f-a719-8481c68594a0\",                        [{\"alignmentgroup\": \"True\", \"hovertemplate\": \"country=%{x}<br>recovered=%{y}<extra></extra>\", \"legendgroup\": \"\", \"marker\": {\"color\": \"pink\"}, \"name\": \"\", \"offsetgroup\": \"\", \"orientation\": \"v\", \"showlegend\": false, \"textposition\": \"auto\", \"type\": \"bar\", \"x\": [\"US\", \"India\", \"Brazil\", \"France\", \"Russia\", \"Spain\", \"United Kingdom\", \"Italy\", \"Argentina\", \"Colombia\"], \"xaxis\": \"x\", \"y\": [4696664.0, 8642771.0, 5509645.0, 160257.0, 1646737.0, 150376.0, 3410.0, 605330.0, 1210634.0, 1167857.0], \"yaxis\": \"y\"}],                        {\"barmode\": \"relative\", \"height\": 500, \"legend\": {\"tracegroupgap\": 0}, \"template\": {\"data\": {\"bar\": [{\"error_x\": {\"color\": \"#2a3f5f\"}, \"error_y\": {\"color\": \"#2a3f5f\"}, \"marker\": {\"line\": {\"color\": \"#E5ECF6\", \"width\": 0.5}}, \"type\": \"bar\"}], \"barpolar\": [{\"marker\": {\"line\": {\"color\": \"#E5ECF6\", \"width\": 0.5}}, \"type\": \"barpolar\"}], \"carpet\": [{\"aaxis\": {\"endlinecolor\": \"#2a3f5f\", \"gridcolor\": \"white\", \"linecolor\": \"white\", \"minorgridcolor\": \"white\", \"startlinecolor\": \"#2a3f5f\"}, \"baxis\": {\"endlinecolor\": \"#2a3f5f\", \"gridcolor\": \"white\", \"linecolor\": \"white\", \"minorgridcolor\": \"white\", \"startlinecolor\": \"#2a3f5f\"}, \"type\": \"carpet\"}], \"choropleth\": [{\"colorbar\": {\"outlinewidth\": 0, \"ticks\": \"\"}, \"type\": \"choropleth\"}], \"contour\": [{\"colorbar\": {\"outlinewidth\": 0, \"ticks\": \"\"}, \"colorscale\": [[0.0, \"#0d0887\"], [0.1111111111111111, \"#46039f\"], [0.2222222222222222, \"#7201a8\"], [0.3333333333333333, \"#9c179e\"], [0.4444444444444444, \"#bd3786\"], [0.5555555555555556, \"#d8576b\"], [0.6666666666666666, \"#ed7953\"], [0.7777777777777778, \"#fb9f3a\"], [0.8888888888888888, \"#fdca26\"], [1.0, \"#f0f921\"]], \"type\": \"contour\"}], \"contourcarpet\": [{\"colorbar\": {\"outlinewidth\": 0, \"ticks\": \"\"}, \"type\": \"contourcarpet\"}], \"heatmap\": [{\"colorbar\": {\"outlinewidth\": 0, \"ticks\": \"\"}, \"colorscale\": [[0.0, \"#0d0887\"], [0.1111111111111111, \"#46039f\"], [0.2222222222222222, \"#7201a8\"], [0.3333333333333333, \"#9c179e\"], [0.4444444444444444, \"#bd3786\"], [0.5555555555555556, \"#d8576b\"], [0.6666666666666666, \"#ed7953\"], [0.7777777777777778, \"#fb9f3a\"], [0.8888888888888888, \"#fdca26\"], [1.0, \"#f0f921\"]], \"type\": \"heatmap\"}], \"heatmapgl\": [{\"colorbar\": {\"outlinewidth\": 0, \"ticks\": \"\"}, \"colorscale\": [[0.0, \"#0d0887\"], [0.1111111111111111, \"#46039f\"], [0.2222222222222222, \"#7201a8\"], [0.3333333333333333, \"#9c179e\"], [0.4444444444444444, \"#bd3786\"], [0.5555555555555556, \"#d8576b\"], [0.6666666666666666, \"#ed7953\"], [0.7777777777777778, \"#fb9f3a\"], [0.8888888888888888, \"#fdca26\"], [1.0, \"#f0f921\"]], \"type\": \"heatmapgl\"}], \"histogram\": [{\"marker\": {\"colorbar\": {\"outlinewidth\": 0, \"ticks\": \"\"}}, \"type\": \"histogram\"}], \"histogram2d\": [{\"colorbar\": {\"outlinewidth\": 0, \"ticks\": \"\"}, \"colorscale\": [[0.0, \"#0d0887\"], [0.1111111111111111, \"#46039f\"], [0.2222222222222222, \"#7201a8\"], [0.3333333333333333, \"#9c179e\"], [0.4444444444444444, \"#bd3786\"], [0.5555555555555556, \"#d8576b\"], [0.6666666666666666, \"#ed7953\"], [0.7777777777777778, \"#fb9f3a\"], [0.8888888888888888, \"#fdca26\"], [1.0, \"#f0f921\"]], \"type\": \"histogram2d\"}], \"histogram2dcontour\": [{\"colorbar\": {\"outlinewidth\": 0, \"ticks\": \"\"}, \"colorscale\": [[0.0, \"#0d0887\"], [0.1111111111111111, \"#46039f\"], [0.2222222222222222, \"#7201a8\"], [0.3333333333333333, \"#9c179e\"], [0.4444444444444444, \"#bd3786\"], [0.5555555555555556, \"#d8576b\"], [0.6666666666666666, \"#ed7953\"], [0.7777777777777778, \"#fb9f3a\"], [0.8888888888888888, \"#fdca26\"], [1.0, \"#f0f921\"]], \"type\": \"histogram2dcontour\"}], \"mesh3d\": [{\"colorbar\": {\"outlinewidth\": 0, \"ticks\": \"\"}, \"type\": \"mesh3d\"}], \"parcoords\": [{\"line\": {\"colorbar\": {\"outlinewidth\": 0, \"ticks\": \"\"}}, \"type\": \"parcoords\"}], \"pie\": [{\"automargin\": true, \"type\": \"pie\"}], \"scatter\": [{\"marker\": {\"colorbar\": {\"outlinewidth\": 0, \"ticks\": \"\"}}, \"type\": \"scatter\"}], \"scatter3d\": [{\"line\": {\"colorbar\": {\"outlinewidth\": 0, \"ticks\": \"\"}}, \"marker\": {\"colorbar\": {\"outlinewidth\": 0, \"ticks\": \"\"}}, \"type\": \"scatter3d\"}], \"scattercarpet\": [{\"marker\": {\"colorbar\": {\"outlinewidth\": 0, \"ticks\": \"\"}}, \"type\": \"scattercarpet\"}], \"scattergeo\": [{\"marker\": {\"colorbar\": {\"outlinewidth\": 0, \"ticks\": \"\"}}, \"type\": \"scattergeo\"}], \"scattergl\": [{\"marker\": {\"colorbar\": {\"outlinewidth\": 0, \"ticks\": \"\"}}, \"type\": \"scattergl\"}], \"scattermapbox\": [{\"marker\": {\"colorbar\": {\"outlinewidth\": 0, \"ticks\": \"\"}}, \"type\": \"scattermapbox\"}], \"scatterpolar\": [{\"marker\": {\"colorbar\": {\"outlinewidth\": 0, \"ticks\": \"\"}}, \"type\": \"scatterpolar\"}], \"scatterpolargl\": [{\"marker\": {\"colorbar\": {\"outlinewidth\": 0, \"ticks\": \"\"}}, \"type\": \"scatterpolargl\"}], \"scatterternary\": [{\"marker\": {\"colorbar\": {\"outlinewidth\": 0, \"ticks\": \"\"}}, \"type\": \"scatterternary\"}], \"surface\": [{\"colorbar\": {\"outlinewidth\": 0, \"ticks\": \"\"}, \"colorscale\": [[0.0, \"#0d0887\"], [0.1111111111111111, \"#46039f\"], [0.2222222222222222, \"#7201a8\"], [0.3333333333333333, \"#9c179e\"], [0.4444444444444444, \"#bd3786\"], [0.5555555555555556, \"#d8576b\"], [0.6666666666666666, \"#ed7953\"], [0.7777777777777778, \"#fb9f3a\"], [0.8888888888888888, \"#fdca26\"], [1.0, \"#f0f921\"]], \"type\": \"surface\"}], \"table\": [{\"cells\": {\"fill\": {\"color\": \"#EBF0F8\"}, \"line\": {\"color\": \"white\"}}, \"header\": {\"fill\": {\"color\": \"#C8D4E3\"}, \"line\": {\"color\": \"white\"}}, \"type\": \"table\"}]}, \"layout\": {\"annotationdefaults\": {\"arrowcolor\": \"#2a3f5f\", \"arrowhead\": 0, \"arrowwidth\": 1}, \"coloraxis\": {\"colorbar\": {\"outlinewidth\": 0, \"ticks\": \"\"}}, \"colorscale\": {\"diverging\": [[0, \"#8e0152\"], [0.1, \"#c51b7d\"], [0.2, \"#de77ae\"], [0.3, \"#f1b6da\"], [0.4, \"#fde0ef\"], [0.5, \"#f7f7f7\"], [0.6, \"#e6f5d0\"], [0.7, \"#b8e186\"], [0.8, \"#7fbc41\"], [0.9, \"#4d9221\"], [1, \"#276419\"]], \"sequential\": [[0.0, \"#0d0887\"], [0.1111111111111111, \"#46039f\"], [0.2222222222222222, \"#7201a8\"], [0.3333333333333333, \"#9c179e\"], [0.4444444444444444, \"#bd3786\"], [0.5555555555555556, \"#d8576b\"], [0.6666666666666666, \"#ed7953\"], [0.7777777777777778, \"#fb9f3a\"], [0.8888888888888888, \"#fdca26\"], [1.0, \"#f0f921\"]], \"sequentialminus\": [[0.0, \"#0d0887\"], [0.1111111111111111, \"#46039f\"], [0.2222222222222222, \"#7201a8\"], [0.3333333333333333, \"#9c179e\"], [0.4444444444444444, \"#bd3786\"], [0.5555555555555556, \"#d8576b\"], [0.6666666666666666, \"#ed7953\"], [0.7777777777777778, \"#fb9f3a\"], [0.8888888888888888, \"#fdca26\"], [1.0, \"#f0f921\"]]}, \"colorway\": [\"#636efa\", \"#EF553B\", \"#00cc96\", \"#ab63fa\", \"#FFA15A\", \"#19d3f3\", \"#FF6692\", \"#B6E880\", \"#FF97FF\", \"#FECB52\"], \"font\": {\"color\": \"#2a3f5f\"}, \"geo\": {\"bgcolor\": \"white\", \"lakecolor\": \"white\", \"landcolor\": \"#E5ECF6\", \"showlakes\": true, \"showland\": true, \"subunitcolor\": \"white\"}, \"hoverlabel\": {\"align\": \"left\"}, \"hovermode\": \"closest\", \"mapbox\": {\"style\": \"light\"}, \"paper_bgcolor\": \"white\", \"plot_bgcolor\": \"#E5ECF6\", \"polar\": {\"angularaxis\": {\"gridcolor\": \"white\", \"linecolor\": \"white\", \"ticks\": \"\"}, \"bgcolor\": \"#E5ECF6\", \"radialaxis\": {\"gridcolor\": \"white\", \"linecolor\": \"white\", \"ticks\": \"\"}}, \"scene\": {\"xaxis\": {\"backgroundcolor\": \"#E5ECF6\", \"gridcolor\": \"white\", \"gridwidth\": 2, \"linecolor\": \"white\", \"showbackground\": true, \"ticks\": \"\", \"zerolinecolor\": \"white\"}, \"yaxis\": {\"backgroundcolor\": \"#E5ECF6\", \"gridcolor\": \"white\", \"gridwidth\": 2, \"linecolor\": \"white\", \"showbackground\": true, \"ticks\": \"\", \"zerolinecolor\": \"white\"}, \"zaxis\": {\"backgroundcolor\": \"#E5ECF6\", \"gridcolor\": \"white\", \"gridwidth\": 2, \"linecolor\": \"white\", \"showbackground\": true, \"ticks\": \"\", \"zerolinecolor\": \"white\"}}, \"shapedefaults\": {\"line\": {\"color\": \"#2a3f5f\"}}, \"ternary\": {\"aaxis\": {\"gridcolor\": \"white\", \"linecolor\": \"white\", \"ticks\": \"\"}, \"baxis\": {\"gridcolor\": \"white\", \"linecolor\": \"white\", \"ticks\": \"\"}, \"bgcolor\": \"#E5ECF6\", \"caxis\": {\"gridcolor\": \"white\", \"linecolor\": \"white\", \"ticks\": \"\"}}, \"title\": {\"x\": 0.05}, \"xaxis\": {\"automargin\": true, \"gridcolor\": \"white\", \"linecolor\": \"white\", \"ticks\": \"\", \"title\": {\"standoff\": 15}, \"zerolinecolor\": \"white\", \"zerolinewidth\": 2}, \"yaxis\": {\"automargin\": true, \"gridcolor\": \"white\", \"linecolor\": \"white\", \"ticks\": \"\", \"title\": {\"standoff\": 15}, \"zerolinecolor\": \"white\", \"zerolinewidth\": 2}}}, \"title\": {\"text\": \"Top 10 worst affected countries\"}, \"width\": 800, \"xaxis\": {\"anchor\": \"y\", \"domain\": [0.0, 1.0], \"title\": {\"text\": \"country\"}}, \"yaxis\": {\"anchor\": \"x\", \"domain\": [0.0, 1.0], \"title\": {\"text\": \"recovered\"}}},                        {\"responsive\": true}                    ).then(function(){\n",
       "                            \n",
       "var gd = document.getElementById('8fb3489d-c97a-446f-a719-8481c68594a0');\n",
       "var x = new MutationObserver(function (mutations, observer) {{\n",
       "        var display = window.getComputedStyle(gd).display;\n",
       "        if (!display || display === 'none') {{\n",
       "            console.log([gd, 'removed!']);\n",
       "            Plotly.purge(gd);\n",
       "            observer.disconnect();\n",
       "        }}\n",
       "}});\n",
       "\n",
       "// Listen for the removal of the full notebook cells\n",
       "var notebookContainer = gd.closest('#notebook-container');\n",
       "if (notebookContainer) {{\n",
       "    x.observe(notebookContainer, {childList: true});\n",
       "}}\n",
       "\n",
       "// Listen for the clearing of the current output cell\n",
       "var outputEl = gd.closest('.output');\n",
       "if (outputEl) {{\n",
       "    x.observe(outputEl, {childList: true});\n",
       "}}\n",
       "\n",
       "                        })                };                });            </script>        </div>"
      ]
     },
     "metadata": {},
     "output_type": "display_data"
    }
   ],
   "source": [
    "px.bar(\n",
    "    sorted_country_df.head(10),\n",
    "    x = \"country\",\n",
    "    y = \"recovered\",\n",
    "    title= \"Top 10 worst affected countries\", # the axis names\n",
    "    color_discrete_sequence=[\"pink\"], \n",
    "    height=500,\n",
    "    width=800\n",
    ")"
   ]
  },
  {
   "cell_type": "markdown",
   "metadata": {
    "id": "xcff9RMXF2J5"
   },
   "source": [
    "# Global spread of COVID-19"
   ]
  },
  {
   "cell_type": "code",
   "execution_count": 18,
   "metadata": {
    "colab": {
     "base_uri": "https://localhost:8080/",
     "height": 712
    },
    "executionInfo": {
     "elapsed": 2110,
     "status": "ok",
     "timestamp": 1606305446500,
     "user": {
      "displayName": "Tanvi.Pathak Btech2018",
      "photoUrl": "",
      "userId": "14428118753927477441"
     },
     "user_tz": -330
    },
    "id": "zp7LUznnF2J6",
    "outputId": "fb69c991-de2a-4269-a002-3ef9c358fd1d",
    "scrolled": true
   },
   "outputs": [
    {
     "data": {
      "text/html": [
       "<div style=\"width:100%;\"><div style=\"position:relative;width:100%;height:0;padding-bottom:60%;\"><span style=\"color:#565656\">Make this Notebook Trusted to load map: File -> Trust Notebook</span><iframe src=\"about:blank\" style=\"position:absolute;width:100%;height:100%;left:0;top:0;border:none !important;\" data-html=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 onload=\"this.contentDocument.open();this.contentDocument.write(atob(this.getAttribute('data-html')));this.contentDocument.close();\" allowfullscreen webkitallowfullscreen mozallowfullscreen></iframe></div></div>"
      ],
      "text/plain": [
       "<folium.folium.Map at 0xba00d0>"
      ]
     },
     "execution_count": 18,
     "metadata": {},
     "output_type": "execute_result"
    }
   ],
   "source": [
    "\n",
    "import math\n",
    "world_map = folium.Map(location=[11,0], tiles=\"cartodbpositron\", zoom_start=2, max_zoom = 6, min_zoom = 2)\n",
    "\n",
    "\n",
    "for i in range(0,len(confirmed_df)):\n",
    "    if (-360<confirmed_df.iloc[i]['lat']<360 and -360<confirmed_df.iloc[i]['long']<360 ):\n",
    "      folium.Circle(\n",
    "        location=[confirmed_df.iloc[i]['lat'], confirmed_df.iloc[i]['long']],\n",
    "        fill=True,\n",
    "        radius=(int((np.log(confirmed_df.iloc[i,-1]+1.00001)))+0.2)*50000,\n",
    "        color='red',\n",
    "        fill_color='indigo',\n",
    "        tooltip = \"<div style='margin: 0; background-color: black; color: white;'>\"+\n",
    "                    \"<h4 style='text-align:center;font-weight: bold'>\"+confirmed_df.iloc[i]['country'] + \"</h4>\"\n",
    "                    \"<hr style='margin:10px;color: white;'>\"+\n",
    "                    \"<ul style='color: white;;list-style-type:circle;align-item:left;padding-left:20px;padding-right:20px'>\"+\n",
    "                        \"<li>Confirmed: \"+str(confirmed_df.iloc[i,-1])+\"</li>\"+\n",
    "                        \"<li>Deaths:   \"+str(death_df.iloc[i,-1])+\"</li>\"+\n",
    "                        \"<li>Death Rate: \"+ str(np.round(death_df.iloc[i,-1]/(confirmed_df.iloc[i,-1]+1.00001)*100,2))+ \"</li>\"+\n",
    "                    \"</ul></div>\",\n",
    "        ).add_to(world_map)\n",
    "\n",
    "world_map\n"
   ]
  },
  {
   "cell_type": "code",
   "execution_count": null,
   "metadata": {
    "executionInfo": {
     "elapsed": 6301,
     "status": "aborted",
     "timestamp": 1606304386491,
     "user": {
      "displayName": "Tanvi.Pathak Btech2018",
      "photoUrl": "",
      "userId": "14428118753927477441"
     },
     "user_tz": -330
    },
    "id": "zDn5B800F2J9"
   },
   "outputs": [],
   "source": []
  }
 ],
 "metadata": {
  "colab": {
   "collapsed_sections": [],
   "name": "covid_19_dashboard.ipynb",
   "provenance": [
    {
     "file_id": "19FpY7Ri0n9LUOViO-4bRpF94U9TbVE4_",
     "timestamp": 1603014221873
    }
   ]
  },
  "kernelspec": {
   "display_name": "Python 3",
   "language": "python",
   "name": "python3"
  },
  "language_info": {
   "codemirror_mode": {
    "name": "ipython",
    "version": 3
   },
   "file_extension": ".py",
   "mimetype": "text/x-python",
   "name": "python",
   "nbconvert_exporter": "python",
   "pygments_lexer": "ipython3",
   "version": "3.8.4"
  },
  "widgets": {
   "application/vnd.jupyter.widget-state+json": {
    "0cb3c753b06b40b4834b2aa0be8bbea8": {
     "model_module": "@jupyter-widgets/base",
     "model_name": "LayoutModel",
     "state": {
      "_model_module": "@jupyter-widgets/base",
      "_model_module_version": "1.2.0",
      "_model_name": "LayoutModel",
      "_view_count": null,
      "_view_module": "@jupyter-widgets/base",
      "_view_module_version": "1.2.0",
      "_view_name": "LayoutView",
      "align_content": null,
      "align_items": null,
      "align_self": null,
      "border": null,
      "bottom": null,
      "display": null,
      "flex": null,
      "flex_flow": null,
      "grid_area": null,
      "grid_auto_columns": null,
      "grid_auto_flow": null,
      "grid_auto_rows": null,
      "grid_column": null,
      "grid_gap": null,
      "grid_row": null,
      "grid_template_areas": null,
      "grid_template_columns": null,
      "grid_template_rows": null,
      "height": null,
      "justify_content": null,
      "justify_items": null,
      "left": null,
      "margin": null,
      "max_height": null,
      "max_width": null,
      "min_height": null,
      "min_width": null,
      "object_fit": null,
      "object_position": null,
      "order": null,
      "overflow": null,
      "overflow_x": null,
      "overflow_y": null,
      "padding": null,
      "right": null,
      "top": null,
      "visibility": null,
      "width": null
     }
    },
    "155e0bf398394e08a819a927b989854b": {
     "model_module": "@jupyter-widgets/base",
     "model_name": "LayoutModel",
     "state": {
      "_model_module": "@jupyter-widgets/base",
      "_model_module_version": "1.2.0",
      "_model_name": "LayoutModel",
      "_view_count": null,
      "_view_module": "@jupyter-widgets/base",
      "_view_module_version": "1.2.0",
      "_view_name": "LayoutView",
      "align_content": null,
      "align_items": null,
      "align_self": null,
      "border": "solid 2px green",
      "bottom": null,
      "display": "none",
      "flex": null,
      "flex_flow": null,
      "grid_area": null,
      "grid_auto_columns": null,
      "grid_auto_flow": null,
      "grid_auto_rows": null,
      "grid_column": null,
      "grid_gap": null,
      "grid_row": null,
      "grid_template_areas": null,
      "grid_template_columns": null,
      "grid_template_rows": null,
      "height": null,
      "justify_content": null,
      "justify_items": null,
      "left": null,
      "margin": null,
      "max_height": null,
      "max_width": null,
      "min_height": null,
      "min_width": null,
      "object_fit": null,
      "object_position": null,
      "order": null,
      "overflow": null,
      "overflow_x": null,
      "overflow_y": null,
      "padding": null,
      "right": null,
      "top": null,
      "visibility": null,
      "width": null
     }
    },
    "198ad92e113b4944835c6f2f71a404ee": {
     "model_module": "@jupyter-widgets/base",
     "model_name": "LayoutModel",
     "state": {
      "_model_module": "@jupyter-widgets/base",
      "_model_module_version": "1.2.0",
      "_model_name": "LayoutModel",
      "_view_count": null,
      "_view_module": "@jupyter-widgets/base",
      "_view_module_version": "1.2.0",
      "_view_name": "LayoutView",
      "align_content": null,
      "align_items": null,
      "align_self": null,
      "border": null,
      "bottom": null,
      "display": null,
      "flex": null,
      "flex_flow": null,
      "grid_area": null,
      "grid_auto_columns": null,
      "grid_auto_flow": null,
      "grid_auto_rows": null,
      "grid_column": null,
      "grid_gap": null,
      "grid_row": null,
      "grid_template_areas": null,
      "grid_template_columns": null,
      "grid_template_rows": null,
      "height": null,
      "justify_content": null,
      "justify_items": null,
      "left": null,
      "margin": null,
      "max_height": null,
      "max_width": null,
      "min_height": null,
      "min_width": null,
      "object_fit": null,
      "object_position": null,
      "order": null,
      "overflow": null,
      "overflow_x": null,
      "overflow_y": null,
      "padding": null,
      "right": null,
      "top": null,
      "visibility": null,
      "width": null
     }
    },
    "38aee6fe45904f2dabaf990f18126d04": {
     "model_module": "@jupyter-widgets/output",
     "model_name": "OutputModel",
     "state": {
      "_dom_classes": [],
      "_model_module": "@jupyter-widgets/output",
      "_model_module_version": "1.0.0",
      "_model_name": "OutputModel",
      "_view_count": null,
      "_view_module": "@jupyter-widgets/output",
      "_view_module_version": "1.0.0",
      "_view_name": "OutputView",
      "layout": "IPY_MODEL_e5023dba823241eda00168718a7418de",
      "msg_id": "",
      "outputs": [
       {
        "metadata": {
         "tags": []
        },
        "output_type": "display_data",
        "text/html": "<html>\n<head><meta charset=\"utf-8\" /></head>\n<body>\n    <div>\n            <script src=\"https://cdnjs.cloudflare.com/ajax/libs/mathjax/2.7.5/MathJax.js?config=TeX-AMS-MML_SVG\"></script><script type=\"text/javascript\">if (window.MathJax) {MathJax.Hub.Config({SVG: {font: \"STIX-Web\"}});}</script>\n                <script type=\"text/javascript\">window.PlotlyConfig = {MathJaxConfig: 'local'};</script>\n        <script src=\"https://cdn.plot.ly/plotly-latest.min.js\"></script>    \n            <div id=\"1ab83931-8f09-4767-a393-9f664e8f0d36\" class=\"plotly-graph-div\" style=\"height:525px; width:700px;\"></div>\n            <script type=\"text/javascript\">\n                \n                    window.PLOTLYENV=window.PLOTLYENV || {};\n                    \n                if (document.getElementById(\"1ab83931-8f09-4767-a393-9f664e8f0d36\")) {\n                    Plotly.newPlot(\n                        '1ab83931-8f09-4767-a393-9f664e8f0d36',\n                        [{\"hoverlabel\": {\"namelength\": 0}, \"hovertemplate\": \"<b>%{hovertext}</b><br><br>country=%{x}<br>confirmed=%{marker.size}\", \"hovertext\": [\"US\"], \"legendgroup\": \"country=US\", \"marker\": {\"color\": \"#636efa\", \"size\": [12597510.0], \"sizemode\": \"area\", \"sizeref\": 3499.3083333333334, \"symbol\": \"circle\"}, \"mode\": \"markers\", \"name\": \"country=US\", \"showlegend\": true, \"type\": \"scatter\", \"x\": [\"US\"], \"xaxis\": \"x\", \"y\": [12597510.0], \"yaxis\": \"y\"}, {\"hoverlabel\": {\"namelength\": 0}, \"hovertemplate\": \"<b>%{hovertext}</b><br><br>country=%{x}<br>confirmed=%{marker.size}\", \"hovertext\": [\"India\"], \"legendgroup\": \"country=India\", \"marker\": {\"color\": \"#EF553B\", \"size\": [9222216.0], \"sizemode\": \"area\", \"sizeref\": 3499.3083333333334, \"symbol\": \"circle\"}, \"mode\": \"markers\", \"name\": \"country=India\", \"showlegend\": true, \"type\": \"scatter\", \"x\": [\"India\"], \"xaxis\": \"x\", \"y\": [9222216.0], \"yaxis\": \"y\"}, {\"hoverlabel\": {\"namelength\": 0}, \"hovertemplate\": \"<b>%{hovertext}</b><br><br>country=%{x}<br>confirmed=%{marker.size}\", \"hovertext\": [\"Brazil\"], \"legendgroup\": \"country=Brazil\", \"marker\": {\"color\": \"#00cc96\", \"size\": [6118708.0], \"sizemode\": \"area\", \"sizeref\": 3499.3083333333334, \"symbol\": \"circle\"}, \"mode\": \"markers\", \"name\": \"country=Brazil\", \"showlegend\": true, \"type\": \"scatter\", \"x\": [\"Brazil\"], \"xaxis\": \"x\", \"y\": [6118708.0], \"yaxis\": \"y\"}, {\"hoverlabel\": {\"namelength\": 0}, \"hovertemplate\": \"<b>%{hovertext}</b><br><br>country=%{x}<br>confirmed=%{marker.size}\", \"hovertext\": [\"France\"], \"legendgroup\": \"country=France\", \"marker\": {\"color\": \"#ab63fa\", \"size\": [2206126.0], \"sizemode\": \"area\", \"sizeref\": 3499.3083333333334, \"symbol\": \"circle\"}, \"mode\": \"markers\", \"name\": \"country=France\", \"showlegend\": true, \"type\": \"scatter\", \"x\": [\"France\"], \"xaxis\": \"x\", \"y\": [2206126.0], \"yaxis\": \"y\"}, {\"hoverlabel\": {\"namelength\": 0}, \"hovertemplate\": \"<b>%{hovertext}</b><br><br>country=%{x}<br>confirmed=%{marker.size}\", \"hovertext\": [\"Russia\"], \"legendgroup\": \"country=Russia\", \"marker\": {\"color\": \"#FFA15A\", \"size\": [2144229.0], \"sizemode\": \"area\", \"sizeref\": 3499.3083333333334, \"symbol\": \"circle\"}, \"mode\": \"markers\", \"name\": \"country=Russia\", \"showlegend\": true, \"type\": \"scatter\", \"x\": [\"Russia\"], \"xaxis\": \"x\", \"y\": [2144229.0], \"yaxis\": \"y\"}, {\"hoverlabel\": {\"namelength\": 0}, \"hovertemplate\": \"<b>%{hovertext}</b><br><br>country=%{x}<br>confirmed=%{marker.size}\", \"hovertext\": [\"Spain\"], \"legendgroup\": \"country=Spain\", \"marker\": {\"color\": \"#19d3f3\", \"size\": [1594844.0], \"sizemode\": \"area\", \"sizeref\": 3499.3083333333334, \"symbol\": \"circle\"}, \"mode\": \"markers\", \"name\": \"country=Spain\", \"showlegend\": true, \"type\": \"scatter\", \"x\": [\"Spain\"], \"xaxis\": \"x\", \"y\": [1594844.0], \"yaxis\": \"y\"}, {\"hoverlabel\": {\"namelength\": 0}, \"hovertemplate\": \"<b>%{hovertext}</b><br><br>country=%{x}<br>confirmed=%{marker.size}\", \"hovertext\": [\"United Kingdom\"], \"legendgroup\": \"country=United Kingdom\", \"marker\": {\"color\": \"#FF6692\", \"size\": [1542623.0], \"sizemode\": \"area\", \"sizeref\": 3499.3083333333334, \"symbol\": \"circle\"}, \"mode\": \"markers\", \"name\": \"country=United Kingdom\", \"showlegend\": true, \"type\": \"scatter\", \"x\": [\"United Kingdom\"], \"xaxis\": \"x\", \"y\": [1542623.0], \"yaxis\": \"y\"}, {\"hoverlabel\": {\"namelength\": 0}, \"hovertemplate\": \"<b>%{hovertext}</b><br><br>country=%{x}<br>confirmed=%{marker.size}\", \"hovertext\": [\"Italy\"], \"legendgroup\": \"country=Italy\", \"marker\": {\"color\": \"#B6E880\", \"size\": [1455022.0], \"sizemode\": \"area\", \"sizeref\": 3499.3083333333334, \"symbol\": \"circle\"}, \"mode\": \"markers\", \"name\": \"country=Italy\", \"showlegend\": true, \"type\": \"scatter\", \"x\": [\"Italy\"], \"xaxis\": \"x\", \"y\": [1455022.0], \"yaxis\": \"y\"}, {\"hoverlabel\": {\"namelength\": 0}, \"hovertemplate\": \"<b>%{hovertext}</b><br><br>country=%{x}<br>confirmed=%{marker.size}\", \"hovertext\": [\"Argentina\"], \"legendgroup\": \"country=Argentina\", \"marker\": {\"color\": \"#FF97FF\", \"size\": [1381795.0], \"sizemode\": \"area\", \"sizeref\": 3499.3083333333334, \"symbol\": \"circle\"}, \"mode\": \"markers\", \"name\": \"country=Argentina\", \"showlegend\": true, \"type\": \"scatter\", \"x\": [\"Argentina\"], \"xaxis\": \"x\", \"y\": [1381795.0], \"yaxis\": \"y\"}, {\"hoverlabel\": {\"namelength\": 0}, \"hovertemplate\": \"<b>%{hovertext}</b><br><br>country=%{x}<br>confirmed=%{marker.size}\", \"hovertext\": [\"Colombia\"], \"legendgroup\": \"country=Colombia\", \"marker\": {\"color\": \"#FECB52\", \"size\": [1262494.0], \"sizemode\": \"area\", \"sizeref\": 3499.3083333333334, \"symbol\": \"circle\"}, \"mode\": \"markers\", \"name\": \"country=Colombia\", \"showlegend\": true, \"type\": \"scatter\", \"x\": [\"Colombia\"], \"xaxis\": \"x\", \"y\": [1262494.0], \"yaxis\": \"y\"}],\n                        {\"legend\": {\"itemsizing\": \"constant\", \"tracegroupgap\": 0}, \"margin\": {\"t\": 60}, \"template\": {\"data\": {\"bar\": [{\"error_x\": {\"color\": \"#2a3f5f\"}, \"error_y\": {\"color\": \"#2a3f5f\"}, \"marker\": {\"line\": {\"color\": \"#E5ECF6\", \"width\": 0.5}}, \"type\": \"bar\"}], \"barpolar\": [{\"marker\": {\"line\": {\"color\": \"#E5ECF6\", \"width\": 0.5}}, \"type\": \"barpolar\"}], \"carpet\": [{\"aaxis\": {\"endlinecolor\": \"#2a3f5f\", \"gridcolor\": \"white\", \"linecolor\": \"white\", \"minorgridcolor\": \"white\", \"startlinecolor\": \"#2a3f5f\"}, \"baxis\": {\"endlinecolor\": \"#2a3f5f\", \"gridcolor\": \"white\", \"linecolor\": \"white\", \"minorgridcolor\": \"white\", \"startlinecolor\": \"#2a3f5f\"}, \"type\": \"carpet\"}], \"choropleth\": [{\"colorbar\": {\"outlinewidth\": 0, \"ticks\": \"\"}, \"type\": \"choropleth\"}], \"contour\": [{\"colorbar\": {\"outlinewidth\": 0, \"ticks\": \"\"}, \"colorscale\": [[0.0, \"#0d0887\"], [0.1111111111111111, \"#46039f\"], [0.2222222222222222, \"#7201a8\"], [0.3333333333333333, \"#9c179e\"], [0.4444444444444444, \"#bd3786\"], [0.5555555555555556, \"#d8576b\"], [0.6666666666666666, \"#ed7953\"], [0.7777777777777778, \"#fb9f3a\"], [0.8888888888888888, \"#fdca26\"], [1.0, \"#f0f921\"]], \"type\": \"contour\"}], \"contourcarpet\": [{\"colorbar\": {\"outlinewidth\": 0, \"ticks\": \"\"}, \"type\": \"contourcarpet\"}], \"heatmap\": [{\"colorbar\": {\"outlinewidth\": 0, \"ticks\": \"\"}, \"colorscale\": [[0.0, \"#0d0887\"], [0.1111111111111111, \"#46039f\"], [0.2222222222222222, \"#7201a8\"], [0.3333333333333333, \"#9c179e\"], [0.4444444444444444, \"#bd3786\"], [0.5555555555555556, \"#d8576b\"], [0.6666666666666666, \"#ed7953\"], [0.7777777777777778, \"#fb9f3a\"], [0.8888888888888888, \"#fdca26\"], [1.0, \"#f0f921\"]], \"type\": \"heatmap\"}], \"heatmapgl\": [{\"colorbar\": {\"outlinewidth\": 0, \"ticks\": \"\"}, \"colorscale\": [[0.0, \"#0d0887\"], [0.1111111111111111, \"#46039f\"], [0.2222222222222222, \"#7201a8\"], [0.3333333333333333, \"#9c179e\"], [0.4444444444444444, \"#bd3786\"], [0.5555555555555556, \"#d8576b\"], [0.6666666666666666, \"#ed7953\"], [0.7777777777777778, \"#fb9f3a\"], [0.8888888888888888, \"#fdca26\"], [1.0, \"#f0f921\"]], \"type\": \"heatmapgl\"}], \"histogram\": [{\"marker\": {\"colorbar\": {\"outlinewidth\": 0, \"ticks\": \"\"}}, \"type\": \"histogram\"}], \"histogram2d\": [{\"colorbar\": {\"outlinewidth\": 0, \"ticks\": \"\"}, \"colorscale\": [[0.0, \"#0d0887\"], [0.1111111111111111, \"#46039f\"], [0.2222222222222222, \"#7201a8\"], [0.3333333333333333, \"#9c179e\"], [0.4444444444444444, \"#bd3786\"], [0.5555555555555556, \"#d8576b\"], [0.6666666666666666, \"#ed7953\"], [0.7777777777777778, \"#fb9f3a\"], [0.8888888888888888, \"#fdca26\"], [1.0, \"#f0f921\"]], \"type\": \"histogram2d\"}], \"histogram2dcontour\": [{\"colorbar\": {\"outlinewidth\": 0, \"ticks\": \"\"}, \"colorscale\": [[0.0, \"#0d0887\"], [0.1111111111111111, \"#46039f\"], [0.2222222222222222, \"#7201a8\"], [0.3333333333333333, \"#9c179e\"], [0.4444444444444444, \"#bd3786\"], [0.5555555555555556, \"#d8576b\"], [0.6666666666666666, \"#ed7953\"], [0.7777777777777778, \"#fb9f3a\"], [0.8888888888888888, \"#fdca26\"], [1.0, \"#f0f921\"]], \"type\": \"histogram2dcontour\"}], \"mesh3d\": [{\"colorbar\": {\"outlinewidth\": 0, \"ticks\": \"\"}, \"type\": \"mesh3d\"}], \"parcoords\": [{\"line\": {\"colorbar\": {\"outlinewidth\": 0, \"ticks\": \"\"}}, \"type\": \"parcoords\"}], \"pie\": [{\"automargin\": true, \"type\": \"pie\"}], \"scatter\": [{\"marker\": {\"colorbar\": {\"outlinewidth\": 0, \"ticks\": \"\"}}, \"type\": \"scatter\"}], \"scatter3d\": [{\"line\": {\"colorbar\": {\"outlinewidth\": 0, \"ticks\": \"\"}}, \"marker\": {\"colorbar\": {\"outlinewidth\": 0, \"ticks\": \"\"}}, \"type\": \"scatter3d\"}], \"scattercarpet\": [{\"marker\": {\"colorbar\": {\"outlinewidth\": 0, \"ticks\": \"\"}}, \"type\": \"scattercarpet\"}], \"scattergeo\": [{\"marker\": {\"colorbar\": {\"outlinewidth\": 0, \"ticks\": \"\"}}, \"type\": \"scattergeo\"}], \"scattergl\": [{\"marker\": {\"colorbar\": {\"outlinewidth\": 0, \"ticks\": \"\"}}, \"type\": \"scattergl\"}], \"scattermapbox\": [{\"marker\": {\"colorbar\": {\"outlinewidth\": 0, \"ticks\": \"\"}}, \"type\": \"scattermapbox\"}], \"scatterpolar\": [{\"marker\": {\"colorbar\": {\"outlinewidth\": 0, \"ticks\": \"\"}}, \"type\": \"scatterpolar\"}], \"scatterpolargl\": [{\"marker\": {\"colorbar\": {\"outlinewidth\": 0, \"ticks\": \"\"}}, \"type\": \"scatterpolargl\"}], \"scatterternary\": [{\"marker\": {\"colorbar\": {\"outlinewidth\": 0, \"ticks\": \"\"}}, \"type\": \"scatterternary\"}], \"surface\": [{\"colorbar\": {\"outlinewidth\": 0, \"ticks\": \"\"}, \"colorscale\": [[0.0, \"#0d0887\"], [0.1111111111111111, \"#46039f\"], [0.2222222222222222, \"#7201a8\"], [0.3333333333333333, \"#9c179e\"], [0.4444444444444444, \"#bd3786\"], [0.5555555555555556, \"#d8576b\"], [0.6666666666666666, \"#ed7953\"], [0.7777777777777778, \"#fb9f3a\"], [0.8888888888888888, \"#fdca26\"], [1.0, \"#f0f921\"]], \"type\": \"surface\"}], \"table\": [{\"cells\": {\"fill\": {\"color\": \"#EBF0F8\"}, \"line\": {\"color\": \"white\"}}, \"header\": {\"fill\": {\"color\": \"#C8D4E3\"}, \"line\": {\"color\": \"white\"}}, \"type\": \"table\"}]}, \"layout\": {\"annotationdefaults\": {\"arrowcolor\": \"#2a3f5f\", \"arrowhead\": 0, \"arrowwidth\": 1}, \"coloraxis\": {\"colorbar\": {\"outlinewidth\": 0, \"ticks\": \"\"}}, \"colorscale\": {\"diverging\": [[0, \"#8e0152\"], [0.1, \"#c51b7d\"], [0.2, \"#de77ae\"], [0.3, \"#f1b6da\"], [0.4, \"#fde0ef\"], [0.5, \"#f7f7f7\"], [0.6, \"#e6f5d0\"], [0.7, \"#b8e186\"], [0.8, \"#7fbc41\"], [0.9, \"#4d9221\"], [1, \"#276419\"]], \"sequential\": [[0.0, \"#0d0887\"], [0.1111111111111111, \"#46039f\"], [0.2222222222222222, \"#7201a8\"], [0.3333333333333333, \"#9c179e\"], [0.4444444444444444, \"#bd3786\"], [0.5555555555555556, \"#d8576b\"], [0.6666666666666666, \"#ed7953\"], [0.7777777777777778, \"#fb9f3a\"], [0.8888888888888888, \"#fdca26\"], [1.0, \"#f0f921\"]], \"sequentialminus\": [[0.0, \"#0d0887\"], [0.1111111111111111, \"#46039f\"], [0.2222222222222222, \"#7201a8\"], [0.3333333333333333, \"#9c179e\"], [0.4444444444444444, \"#bd3786\"], [0.5555555555555556, \"#d8576b\"], [0.6666666666666666, \"#ed7953\"], [0.7777777777777778, \"#fb9f3a\"], [0.8888888888888888, \"#fdca26\"], [1.0, \"#f0f921\"]]}, \"colorway\": [\"#636efa\", \"#EF553B\", \"#00cc96\", \"#ab63fa\", \"#FFA15A\", \"#19d3f3\", \"#FF6692\", \"#B6E880\", \"#FF97FF\", \"#FECB52\"], \"font\": {\"color\": \"#2a3f5f\"}, \"geo\": {\"bgcolor\": \"white\", \"lakecolor\": \"white\", \"landcolor\": \"#E5ECF6\", \"showlakes\": true, \"showland\": true, \"subunitcolor\": \"white\"}, \"hoverlabel\": {\"align\": \"left\"}, \"hovermode\": \"closest\", \"mapbox\": {\"style\": \"light\"}, \"paper_bgcolor\": \"white\", \"plot_bgcolor\": \"#E5ECF6\", \"polar\": {\"angularaxis\": {\"gridcolor\": \"white\", \"linecolor\": \"white\", \"ticks\": \"\"}, \"bgcolor\": \"#E5ECF6\", \"radialaxis\": {\"gridcolor\": \"white\", \"linecolor\": \"white\", \"ticks\": \"\"}}, \"scene\": {\"xaxis\": {\"backgroundcolor\": \"#E5ECF6\", \"gridcolor\": \"white\", \"gridwidth\": 2, \"linecolor\": \"white\", \"showbackground\": true, \"ticks\": \"\", \"zerolinecolor\": \"white\"}, \"yaxis\": {\"backgroundcolor\": \"#E5ECF6\", \"gridcolor\": \"white\", \"gridwidth\": 2, \"linecolor\": \"white\", \"showbackground\": true, \"ticks\": \"\", \"zerolinecolor\": \"white\"}, \"zaxis\": {\"backgroundcolor\": \"#E5ECF6\", \"gridcolor\": \"white\", \"gridwidth\": 2, \"linecolor\": \"white\", \"showbackground\": true, \"ticks\": \"\", \"zerolinecolor\": \"white\"}}, \"shapedefaults\": {\"line\": {\"color\": \"#2a3f5f\"}}, \"ternary\": {\"aaxis\": {\"gridcolor\": \"white\", \"linecolor\": \"white\", \"ticks\": \"\"}, \"baxis\": {\"gridcolor\": \"white\", \"linecolor\": \"white\", \"ticks\": \"\"}, \"bgcolor\": \"#E5ECF6\", \"caxis\": {\"gridcolor\": \"white\", \"linecolor\": \"white\", \"ticks\": \"\"}}, \"title\": {\"x\": 0.05}, \"xaxis\": {\"automargin\": true, \"gridcolor\": \"white\", \"linecolor\": \"white\", \"ticks\": \"\", \"title\": {\"standoff\": 15}, \"zerolinecolor\": \"white\", \"zerolinewidth\": 2}, \"yaxis\": {\"automargin\": true, \"gridcolor\": \"white\", \"linecolor\": \"white\", \"ticks\": \"\", \"title\": {\"standoff\": 15}, \"zerolinecolor\": \"white\", \"zerolinewidth\": 2}}}, \"title\": {\"text\": \"10 Worst hit countries\"}, \"width\": 700, \"xaxis\": {\"anchor\": \"y\", \"categoryarray\": [\"US\", \"India\", \"Brazil\", \"France\", \"Russia\", \"Spain\", \"United Kingdom\", \"Italy\", \"Argentina\", \"Colombia\"], \"categoryorder\": \"array\", \"domain\": [0.0, 1.0], \"title\": {\"text\": \"Countries\"}}, \"yaxis\": {\"anchor\": \"x\", \"domain\": [0.0, 1.0], \"title\": {\"text\": \"Confirmed Cases\"}}},\n                        {\"responsive\": true}\n                    ).then(function(){\n                            \nvar gd = document.getElementById('1ab83931-8f09-4767-a393-9f664e8f0d36');\nvar x = new MutationObserver(function (mutations, observer) {{\n        var display = window.getComputedStyle(gd).display;\n        if (!display || display === 'none') {{\n            console.log([gd, 'removed!']);\n            Plotly.purge(gd);\n            observer.disconnect();\n        }}\n}});\n\n// Listen for the removal of the full notebook cells\nvar notebookContainer = gd.closest('#notebook-container');\nif (notebookContainer) {{\n    x.observe(notebookContainer, {childList: true});\n}}\n\n// Listen for the clearing of the current output cell\nvar outputEl = gd.closest('.output');\nif (outputEl) {{\n    x.observe(outputEl, {childList: true});\n}}\n\n                        })\n                };\n                \n            </script>\n        </div>\n</body>\n</html>"
       }
      ]
     }
    },
    "38ba2d1cffdd4ac2b0dbcf07f6832402": {
     "model_module": "@jupyter-widgets/base",
     "model_name": "LayoutModel",
     "state": {
      "_model_module": "@jupyter-widgets/base",
      "_model_module_version": "1.2.0",
      "_model_name": "LayoutModel",
      "_view_count": null,
      "_view_module": "@jupyter-widgets/base",
      "_view_module_version": "1.2.0",
      "_view_name": "LayoutView",
      "align_content": null,
      "align_items": null,
      "align_self": null,
      "border": "solid 2px green",
      "bottom": null,
      "display": "none",
      "flex": null,
      "flex_flow": null,
      "grid_area": null,
      "grid_auto_columns": null,
      "grid_auto_flow": null,
      "grid_auto_rows": null,
      "grid_column": null,
      "grid_gap": null,
      "grid_row": null,
      "grid_template_areas": null,
      "grid_template_columns": null,
      "grid_template_rows": null,
      "height": null,
      "justify_content": null,
      "justify_items": null,
      "left": null,
      "margin": null,
      "max_height": null,
      "max_width": null,
      "min_height": null,
      "min_width": null,
      "object_fit": null,
      "object_position": null,
      "order": null,
      "overflow": null,
      "overflow_x": null,
      "overflow_y": null,
      "padding": null,
      "right": null,
      "top": null,
      "visibility": null,
      "width": null
     }
    },
    "3fd9b35b4ddd4fa18e7824d404343a4b": {
     "model_module": "@jupyter-widgets/controls",
     "model_name": "VBoxModel",
     "state": {
      "_dom_classes": [],
      "_model_module": "@jupyter-widgets/controls",
      "_model_module_version": "1.5.0",
      "_model_name": "VBoxModel",
      "_view_count": null,
      "_view_module": "@jupyter-widgets/controls",
      "_view_module_version": "1.5.0",
      "_view_name": "VBoxView",
      "box_style": "",
      "children": [
       "IPY_MODEL_b068b728fa97418090c014f1c16aa083"
      ],
      "layout": "IPY_MODEL_38ba2d1cffdd4ac2b0dbcf07f6832402"
     }
    },
    "4c28c6ad1715415ca2d5229bc10a5f86": {
     "model_module": "@jupyter-widgets/base",
     "model_name": "LayoutModel",
     "state": {
      "_model_module": "@jupyter-widgets/base",
      "_model_module_version": "1.2.0",
      "_model_name": "LayoutModel",
      "_view_count": null,
      "_view_module": "@jupyter-widgets/base",
      "_view_module_version": "1.2.0",
      "_view_name": "LayoutView",
      "align_content": null,
      "align_items": null,
      "align_self": null,
      "border": null,
      "bottom": null,
      "display": null,
      "flex": null,
      "flex_flow": null,
      "grid_area": null,
      "grid_auto_columns": null,
      "grid_auto_flow": null,
      "grid_auto_rows": null,
      "grid_column": null,
      "grid_gap": null,
      "grid_row": null,
      "grid_template_areas": null,
      "grid_template_columns": null,
      "grid_template_rows": null,
      "height": null,
      "justify_content": null,
      "justify_items": null,
      "left": null,
      "margin": null,
      "max_height": null,
      "max_width": null,
      "min_height": null,
      "min_width": null,
      "object_fit": null,
      "object_position": null,
      "order": null,
      "overflow": null,
      "overflow_x": null,
      "overflow_y": null,
      "padding": null,
      "right": null,
      "top": null,
      "visibility": null,
      "width": null
     }
    },
    "4c7fec780a80491390907f393c589dfd": {
     "model_module": "@jupyter-widgets/controls",
     "model_name": "DescriptionStyleModel",
     "state": {
      "_model_module": "@jupyter-widgets/controls",
      "_model_module_version": "1.5.0",
      "_model_name": "DescriptionStyleModel",
      "_view_count": null,
      "_view_module": "@jupyter-widgets/base",
      "_view_module_version": "1.2.0",
      "_view_name": "StyleView",
      "description_width": ""
     }
    },
    "508e974fdc684963b0a2e3f5bbe79750": {
     "model_module": "@jupyter-widgets/controls",
     "model_name": "TextModel",
     "state": {
      "_dom_classes": [],
      "_model_module": "@jupyter-widgets/controls",
      "_model_module_version": "1.5.0",
      "_model_name": "TextModel",
      "_view_count": null,
      "_view_module": "@jupyter-widgets/controls",
      "_view_module_version": "1.5.0",
      "_view_name": "TextView",
      "continuous_update": true,
      "description": "country",
      "description_tooltip": null,
      "disabled": false,
      "layout": "IPY_MODEL_4c28c6ad1715415ca2d5229bc10a5f86",
      "placeholder": "​",
      "style": "IPY_MODEL_a4f51b5ec6f641c7af4b9f03d65a1662",
      "value": "World"
     }
    },
    "5c531a36c4c74368bc75073f9cc5e3ad": {
     "model_module": "@jupyter-widgets/controls",
     "model_name": "VBoxModel",
     "state": {
      "_dom_classes": [
       "widget-interact"
      ],
      "_model_module": "@jupyter-widgets/controls",
      "_model_module_version": "1.5.0",
      "_model_name": "VBoxModel",
      "_view_count": null,
      "_view_module": "@jupyter-widgets/controls",
      "_view_module_version": "1.5.0",
      "_view_name": "VBoxView",
      "box_style": "",
      "children": [
       "IPY_MODEL_b95be6051b9146fea099e1a3eb335eaf",
       "IPY_MODEL_38aee6fe45904f2dabaf990f18126d04"
      ],
      "layout": "IPY_MODEL_a6a0e941e8124e05a8e11bd66a725206"
     }
    },
    "6286eb4d3bd14981ba8c7ebec88d610a": {
     "model_module": "@jupyter-widgets/controls",
     "model_name": "TextModel",
     "state": {
      "_dom_classes": [],
      "_model_module": "@jupyter-widgets/controls",
      "_model_module_version": "1.5.0",
      "_model_name": "TextModel",
      "_view_count": null,
      "_view_module": "@jupyter-widgets/controls",
      "_view_module_version": "1.5.0",
      "_view_name": "TextView",
      "continuous_update": true,
      "description": "n",
      "description_tooltip": null,
      "disabled": false,
      "layout": "IPY_MODEL_198ad92e113b4944835c6f2f71a404ee",
      "placeholder": "​",
      "style": "IPY_MODEL_4c7fec780a80491390907f393c589dfd",
      "value": "10"
     }
    },
    "6697ac5f14c1410881cf72b314fd4de4": {
     "model_module": "@jupyter-widgets/controls",
     "model_name": "VBoxModel",
     "state": {
      "_dom_classes": [
       "widget-interact"
      ],
      "_model_module": "@jupyter-widgets/controls",
      "_model_module_version": "1.5.0",
      "_model_name": "VBoxModel",
      "_view_count": null,
      "_view_module": "@jupyter-widgets/controls",
      "_view_module_version": "1.5.0",
      "_view_name": "VBoxView",
      "box_style": "",
      "children": [
       "IPY_MODEL_6286eb4d3bd14981ba8c7ebec88d610a",
       "IPY_MODEL_d05eb3a6c979454a959886ee8d5d4916"
      ],
      "layout": "IPY_MODEL_79884e2be9a84c7b87ab2483f20a421b"
     }
    },
    "76636939f2834dd9ab335aed7b0733e8": {
     "model_module": "@jupyter-widgets/output",
     "model_name": "OutputModel",
     "state": {
      "_dom_classes": [],
      "_model_module": "@jupyter-widgets/output",
      "_model_module_version": "1.0.0",
      "_model_name": "OutputModel",
      "_view_count": null,
      "_view_module": "@jupyter-widgets/output",
      "_view_module_version": "1.0.0",
      "_view_name": "OutputView",
      "layout": "IPY_MODEL_0cb3c753b06b40b4834b2aa0be8bbea8",
      "msg_id": "",
      "outputs": [
       {
        "metadata": {
         "tags": []
        },
        "output_type": "display_data",
        "text/html": "<html>\n<head><meta charset=\"utf-8\" /></head>\n<body>\n    <div>\n            <script src=\"https://cdnjs.cloudflare.com/ajax/libs/mathjax/2.7.5/MathJax.js?config=TeX-AMS-MML_SVG\"></script><script type=\"text/javascript\">if (window.MathJax) {MathJax.Hub.Config({SVG: {font: \"STIX-Web\"}});}</script>\n                <script type=\"text/javascript\">window.PlotlyConfig = {MathJaxConfig: 'local'};</script>\n        <script src=\"https://cdn.plot.ly/plotly-latest.min.js\"></script>    \n            <div id=\"9b599862-aef2-4d11-9692-f30584ee0f17\" class=\"plotly-graph-div\" style=\"height:525px; width:800px;\"></div>\n            <script type=\"text/javascript\">\n                \n                    window.PLOTLYENV=window.PLOTLYENV || {};\n                    \n                if (document.getElementById(\"9b599862-aef2-4d11-9692-f30584ee0f17\")) {\n                    Plotly.newPlot(\n                        '9b599862-aef2-4d11-9692-f30584ee0f17',\n                        [{\"connectgaps\": true, \"line\": {\"color\": \"blue\", \"width\": 4}, \"mode\": \"lines+markers\", \"name\": \"confirmed\", \"text\": \"Total confirmed: 59759494\", \"type\": \"scatter\", \"x\": [\"2/7/20\", \"2/8/20\", \"2/9/20\", \"2/10/20\", \"2/11/20\", \"2/12/20\", \"2/13/20\", \"2/14/20\", \"2/15/20\", \"2/16/20\", \"2/17/20\", \"2/18/20\", \"2/19/20\", \"2/20/20\", \"2/21/20\", \"2/22/20\", \"2/23/20\", \"2/24/20\", \"2/25/20\", \"2/26/20\", \"2/27/20\", \"2/28/20\", \"2/29/20\", \"3/1/20\", \"3/2/20\", \"3/3/20\", \"3/4/20\", \"3/5/20\", \"3/6/20\", \"3/7/20\", \"3/8/20\", \"3/9/20\", \"3/10/20\", \"3/11/20\", \"3/12/20\", \"3/13/20\", \"3/14/20\", \"3/15/20\", \"3/16/20\", \"3/17/20\", \"3/18/20\", \"3/19/20\", \"3/20/20\", \"3/21/20\", \"3/22/20\", \"3/23/20\", \"3/24/20\", \"3/25/20\", \"3/26/20\", \"3/27/20\", \"3/28/20\", \"3/29/20\", \"3/30/20\", \"3/31/20\", \"4/1/20\", \"4/2/20\", \"4/3/20\", \"4/4/20\", \"4/5/20\", \"4/6/20\", \"4/7/20\", \"4/8/20\", \"4/9/20\", \"4/10/20\", \"4/11/20\", \"4/12/20\", \"4/13/20\", \"4/14/20\", \"4/15/20\", \"4/16/20\", \"4/17/20\", \"4/18/20\", \"4/19/20\", \"4/20/20\", \"4/21/20\", \"4/22/20\", \"4/23/20\", \"4/24/20\", \"4/25/20\", \"4/26/20\", \"4/27/20\", \"4/28/20\", \"4/29/20\", \"4/30/20\", \"5/1/20\", \"5/2/20\", \"5/3/20\", \"5/4/20\", \"5/5/20\", \"5/6/20\", \"5/7/20\", \"5/8/20\", \"5/9/20\", \"5/10/20\", \"5/11/20\", \"5/12/20\", \"5/13/20\", \"5/14/20\", \"5/15/20\", \"5/16/20\", \"5/17/20\", \"5/18/20\", \"5/19/20\", \"5/20/20\", \"5/21/20\", \"5/22/20\", \"5/23/20\", \"5/24/20\", \"5/25/20\", \"5/26/20\", \"5/27/20\", \"5/28/20\", \"5/29/20\", \"5/30/20\", \"5/31/20\", \"6/1/20\", \"6/2/20\", \"6/3/20\", \"6/4/20\", \"6/5/20\", \"6/6/20\", \"6/7/20\", \"6/8/20\", \"6/9/20\", \"6/10/20\", \"6/11/20\", \"6/12/20\", \"6/13/20\", \"6/14/20\", \"6/15/20\", \"6/16/20\", \"6/17/20\", \"6/18/20\", \"6/19/20\", \"6/20/20\", \"6/21/20\", \"6/22/20\", \"6/23/20\", \"6/24/20\", \"6/25/20\", \"6/26/20\", \"6/27/20\", \"6/28/20\", \"6/29/20\", \"6/30/20\", \"7/1/20\", \"7/2/20\", \"7/3/20\", \"7/4/20\", \"7/5/20\", \"7/6/20\", \"7/7/20\", \"7/8/20\", \"7/9/20\", \"7/10/20\", \"7/11/20\", \"7/12/20\", \"7/13/20\", \"7/14/20\", \"7/15/20\", \"7/16/20\", \"7/17/20\", \"7/18/20\", \"7/19/20\", \"7/20/20\", \"7/21/20\", \"7/22/20\", \"7/23/20\", \"7/24/20\", \"7/25/20\", \"7/26/20\", \"7/27/20\", \"7/28/20\", \"7/29/20\", \"7/30/20\", \"7/31/20\", \"8/1/20\", \"8/2/20\", \"8/3/20\", \"8/4/20\", \"8/5/20\", \"8/6/20\", \"8/7/20\", \"8/8/20\", \"8/9/20\", \"8/10/20\", \"8/11/20\", \"8/12/20\", \"8/13/20\", \"8/14/20\", \"8/15/20\", \"8/16/20\", \"8/17/20\", \"8/18/20\", \"8/19/20\", \"8/20/20\", \"8/21/20\", \"8/22/20\", \"8/23/20\", \"8/24/20\", \"8/25/20\", \"8/26/20\", \"8/27/20\", \"8/28/20\", \"8/29/20\", \"8/30/20\", \"8/31/20\", \"9/1/20\", \"9/2/20\", \"9/3/20\", \"9/4/20\", \"9/5/20\", \"9/6/20\", \"9/7/20\", \"9/8/20\", \"9/9/20\", \"9/10/20\", \"9/11/20\", \"9/12/20\", \"9/13/20\", \"9/14/20\", \"9/15/20\", \"9/16/20\", \"9/17/20\", \"9/18/20\", \"9/19/20\", \"9/20/20\", \"9/21/20\", \"9/22/20\", \"9/23/20\", \"9/24/20\", \"9/25/20\", \"9/26/20\", \"9/27/20\", \"9/28/20\", \"9/29/20\", \"9/30/20\", \"10/1/20\", \"10/2/20\", \"10/3/20\", \"10/4/20\", \"10/5/20\", \"10/6/20\", \"10/7/20\", \"10/8/20\", \"10/9/20\", \"10/10/20\", \"10/11/20\", \"10/12/20\", \"10/13/20\", \"10/14/20\", \"10/15/20\", \"10/16/20\", \"10/17/20\", \"10/18/20\", \"10/19/20\", \"10/20/20\", \"10/21/20\", \"10/22/20\", \"10/23/20\", \"10/24/20\", \"10/25/20\", \"10/26/20\", \"10/27/20\", \"10/28/20\", \"10/29/20\", \"10/30/20\", \"10/31/20\", \"11/1/20\", \"11/2/20\", \"11/3/20\", \"11/4/20\", \"11/5/20\", \"11/6/20\", \"11/7/20\", \"11/8/20\", \"11/9/20\", \"11/10/20\", \"11/11/20\", \"11/12/20\", \"11/13/20\", \"11/14/20\", \"11/15/20\", \"11/16/20\", \"11/17/20\", \"11/18/20\", \"11/19/20\", \"11/20/20\", \"11/21/20\", \"11/22/20\", \"11/23/20\", \"11/24/20\"], \"y\": [555, 654, 941, 1434, 2118, 2927, 5578, 6167, 8235, 9927, 12038, 16787, 19887, 23898, 27643, 30803, 34396, 37130, 40160, 42769, 44811, 45229, 60382, 66909, 69051, 71235, 73270, 75152, 75652, 76212, 76841, 78602, 78982, 79546, 80399, 81376, 82736, 84121, 86014, 88397, 90375, 92959, 95276, 98040, 102040, 106102, 110062, 114025, 119036, 126717, 132506, 146887, 157965, 169258, 184002, 199933, 219466, 246622, 277257, 309226, 343487, 386866, 428373, 479398, 542071, 607102, 674494, 733841, 799151, 875928, 952518, 1033847, 1117073, 1197444, 1269433, 1342654, 1420406, 1504616, 1591030, 1678519, 1754685, 1850006, 1920169, 1991488, 2073518, 2170317, 2257993, 2331463, 2411443, 2485944, 2561845, 2639881, 2727877, 2812249, 2895701, 2967636, 3037354, 3112833, 3190288, 3273674, 3360911, 3440893, 3517407, 3594487, 3674966, 3764866, 3853887, 3945034, 4029948, 4105178, 4182075, 4266337, 4351181, 4447797, 4544182, 4638407, 4716032, 4804738, 4901982, 5004350, 5111155, 5217120, 5321713, 5416111, 5502536, 5595775, 5698778, 5818280, 5939226, 6076216, 6182737, 6277895, 6399352, 6517555, 6644487, 6775570, 6910031, 7021876, 7124371, 7249121, 7383821, 7521848, 7650495, 7785959, 7918363, 8037712, 8179510, 8322662, 8462740, 8642310, 8799299, 8927506, 9065633, 9231445, 9402382, 9580562, 9772031, 9949617, 10112567, 10268168, 10442242, 10659654, 10868268, 11070283, 11264003, 11446596, 11611757, 11823330, 12036294, 12263701, 12496158, 12712445, 12905274, 13096904, 13318693, 13549927, 13802335, 14044251, 14280857, 14494483, 14700686, 14934114, 15215565, 15498103, 15778784, 16033403, 16246636, 16472296, 16724733, 17014951, 17295151, 17586232, 17836822, 18064208, 18265467, 18523956, 18797027, 19081745, 19362805, 19620999, 19844872, 20071179, 20326294, 20604159, 20890120, 21194748, 21441963, 21653787, 21864416, 22120469, 22395099, 22662438, 22932328, 23197063, 23402719, 23627760, 23871497, 24160926, 24439419, 24721815, 24982139, 25207961, 25471181, 25734627, 26017788, 26298587, 26611448, 26873829, 27096335, 27329623, 27571192, 27855918, 28154919, 28474744, 28751941, 28987746, 29267418, 29551476, 29856310, 30170279, 30493785, 30773352, 31016379, 31314834, 31594602, 31861824, 32224421, 32552288, 32829197, 33070312, 33346336, 33631070, 33957884, 34275807, 34571172, 34889804, 35138269, 35467660, 35793012, 36142566, 36504174, 36863620, 37193872, 37463568, 37788829, 38117691, 38498286, 38905694, 39316324, 39657368, 39943263, 40391772, 40780443, 41224485, 41696807, 42192016, 42603760, 42957052, 43494699, 43964015, 44473376, 45024129, 45594086, 46070463, 46503704, 47012165, 47527270, 48124824, 48718539, 49360492, 49871598, 50436547, 50938348, 51494283, 52139269, 52786566, 53435351, 54029326, 54502332, 55030781, 55638883, 56262553, 56913120, 57579266, 58165570, 58649369, 59171078, 59759494]}, {\"connectgaps\": true, \"line\": {\"color\": \"red\", \"width\": 5}, \"mode\": \"lines+markers\", \"name\": \"deaths\", \"text\": \"Total deaths: 1409252\", \"type\": \"scatter\", \"x\": [\"2/7/20\", \"2/8/20\", \"2/9/20\", \"2/10/20\", \"2/11/20\", \"2/12/20\", \"2/13/20\", \"2/14/20\", \"2/15/20\", \"2/16/20\", \"2/17/20\", \"2/18/20\", \"2/19/20\", \"2/20/20\", \"2/21/20\", \"2/22/20\", \"2/23/20\", \"2/24/20\", \"2/25/20\", \"2/26/20\", \"2/27/20\", \"2/28/20\", \"2/29/20\", \"3/1/20\", \"3/2/20\", \"3/3/20\", \"3/4/20\", \"3/5/20\", \"3/6/20\", \"3/7/20\", \"3/8/20\", \"3/9/20\", \"3/10/20\", \"3/11/20\", \"3/12/20\", \"3/13/20\", \"3/14/20\", \"3/15/20\", \"3/16/20\", \"3/17/20\", \"3/18/20\", \"3/19/20\", \"3/20/20\", \"3/21/20\", \"3/22/20\", \"3/23/20\", \"3/24/20\", \"3/25/20\", \"3/26/20\", \"3/27/20\", \"3/28/20\", \"3/29/20\", \"3/30/20\", \"3/31/20\", \"4/1/20\", \"4/2/20\", \"4/3/20\", \"4/4/20\", \"4/5/20\", \"4/6/20\", \"4/7/20\", \"4/8/20\", \"4/9/20\", \"4/10/20\", \"4/11/20\", \"4/12/20\", \"4/13/20\", \"4/14/20\", \"4/15/20\", \"4/16/20\", \"4/17/20\", \"4/18/20\", \"4/19/20\", \"4/20/20\", \"4/21/20\", \"4/22/20\", \"4/23/20\", \"4/24/20\", \"4/25/20\", \"4/26/20\", \"4/27/20\", \"4/28/20\", \"4/29/20\", \"4/30/20\", \"5/1/20\", \"5/2/20\", \"5/3/20\", \"5/4/20\", \"5/5/20\", \"5/6/20\", \"5/7/20\", \"5/8/20\", \"5/9/20\", \"5/10/20\", \"5/11/20\", \"5/12/20\", \"5/13/20\", \"5/14/20\", \"5/15/20\", \"5/16/20\", \"5/17/20\", \"5/18/20\", \"5/19/20\", \"5/20/20\", \"5/21/20\", \"5/22/20\", \"5/23/20\", \"5/24/20\", \"5/25/20\", \"5/26/20\", \"5/27/20\", \"5/28/20\", \"5/29/20\", \"5/30/20\", \"5/31/20\", \"6/1/20\", \"6/2/20\", \"6/3/20\", \"6/4/20\", \"6/5/20\", \"6/6/20\", \"6/7/20\", \"6/8/20\", \"6/9/20\", \"6/10/20\", \"6/11/20\", \"6/12/20\", \"6/13/20\", \"6/14/20\", \"6/15/20\", \"6/16/20\", \"6/17/20\", \"6/18/20\", \"6/19/20\", \"6/20/20\", \"6/21/20\", \"6/22/20\", \"6/23/20\", \"6/24/20\", \"6/25/20\", \"6/26/20\", \"6/27/20\", \"6/28/20\", \"6/29/20\", \"6/30/20\", \"7/1/20\", \"7/2/20\", \"7/3/20\", \"7/4/20\", \"7/5/20\", \"7/6/20\", \"7/7/20\", \"7/8/20\", \"7/9/20\", \"7/10/20\", \"7/11/20\", \"7/12/20\", \"7/13/20\", \"7/14/20\", \"7/15/20\", \"7/16/20\", \"7/17/20\", \"7/18/20\", \"7/19/20\", \"7/20/20\", \"7/21/20\", \"7/22/20\", \"7/23/20\", \"7/24/20\", \"7/25/20\", \"7/26/20\", \"7/27/20\", \"7/28/20\", \"7/29/20\", \"7/30/20\", \"7/31/20\", \"8/1/20\", \"8/2/20\", \"8/3/20\", \"8/4/20\", \"8/5/20\", \"8/6/20\", \"8/7/20\", \"8/8/20\", \"8/9/20\", \"8/10/20\", \"8/11/20\", \"8/12/20\", \"8/13/20\", \"8/14/20\", \"8/15/20\", \"8/16/20\", \"8/17/20\", \"8/18/20\", \"8/19/20\", \"8/20/20\", \"8/21/20\", \"8/22/20\", \"8/23/20\", \"8/24/20\", \"8/25/20\", \"8/26/20\", \"8/27/20\", \"8/28/20\", \"8/29/20\", \"8/30/20\", \"8/31/20\", \"9/1/20\", \"9/2/20\", \"9/3/20\", \"9/4/20\", \"9/5/20\", \"9/6/20\", \"9/7/20\", \"9/8/20\", \"9/9/20\", \"9/10/20\", \"9/11/20\", \"9/12/20\", \"9/13/20\", \"9/14/20\", \"9/15/20\", \"9/16/20\", \"9/17/20\", \"9/18/20\", \"9/19/20\", \"9/20/20\", \"9/21/20\", \"9/22/20\", \"9/23/20\", \"9/24/20\", \"9/25/20\", \"9/26/20\", \"9/27/20\", \"9/28/20\", \"9/29/20\", \"9/30/20\", \"10/1/20\", \"10/2/20\", \"10/3/20\", \"10/4/20\", \"10/5/20\", \"10/6/20\", \"10/7/20\", \"10/8/20\", \"10/9/20\", \"10/10/20\", \"10/11/20\", \"10/12/20\", \"10/13/20\", \"10/14/20\", \"10/15/20\", \"10/16/20\", \"10/17/20\", \"10/18/20\", \"10/19/20\", \"10/20/20\", \"10/21/20\", \"10/22/20\", \"10/23/20\", \"10/24/20\", \"10/25/20\", \"10/26/20\", \"10/27/20\", \"10/28/20\", \"10/29/20\", \"10/30/20\", \"10/31/20\", \"11/1/20\", \"11/2/20\", \"11/3/20\", \"11/4/20\", \"11/5/20\", \"11/6/20\", \"11/7/20\", \"11/8/20\", \"11/9/20\", \"11/10/20\", \"11/11/20\", \"11/12/20\", \"11/13/20\", \"11/14/20\", \"11/15/20\", \"11/16/20\", \"11/17/20\", \"11/18/20\", \"11/19/20\", \"11/20/20\", \"11/21/20\", \"11/22/20\", \"11/23/20\", \"11/24/20\"], \"y\": [17, 18, 26, 42, 56, 82, 131, 133, 171, 213, 259, 362, 426, 492, 564, 634, 719, 806, 906, 1013, 1113, 1118, 1371, 1523, 1666, 1770, 1868, 2008, 2123, 2248, 2252, 2459, 2470, 2630, 2710, 2771, 2814, 2873, 2942, 2996, 3085, 3160, 3255, 3348, 3460, 3559, 3803, 3987, 4267, 4611, 4917, 5414, 5834, 6475, 7153, 7964, 8867, 9980, 11461, 13181, 14855, 16797, 19081, 21881, 24901, 28394, 32108, 35584, 39636, 44388, 49894, 56132, 62237, 68401, 73568, 79515, 87745, 94505, 102269, 109670, 115900, 121719, 127627, 134606, 142951, 150247, 158614, 164636, 169897, 175755, 182940, 189671, 196509, 203172, 208809, 212748, 217421, 223968, 230702, 236698, 241847, 247325, 250797, 254896, 260783, 267326, 272618, 278098, 282385, 285979, 289447, 294969, 300046, 305227, 310343, 314519, 317804, 321499, 326219, 330979, 335704, 340899, 344815, 347937, 349138, 353258, 358394, 363017, 367604, 371669, 374645, 377722, 382445, 387881, 392997, 397563, 401413, 404157, 407836, 412671, 417730, 422412, 426627, 430818, 434230, 437649, 444367, 449456, 454436, 460587, 464790, 468799, 472358, 477580, 482751, 487444, 492146, 496609, 499752, 503476, 508425, 513353, 518416, 523351, 527719, 531192, 535019, 541034, 546307, 551715, 557007, 561795, 565787, 569601, 575190, 580628, 586385, 593044, 598659, 602717, 606895, 613058, 619984, 629879, 635912, 641447, 645118, 650292, 656599, 663171, 669184, 675387, 680873, 685148, 689472, 696389, 703356, 709848, 716146, 721574, 726131, 731040, 737475, 744095, 750306, 760437, 765782, 769985, 774127, 781012, 787749, 793786, 799284, 804858, 808715, 813080, 819456, 825747, 831632, 837148, 842535, 846446, 850659, 857145, 863160, 868871, 874785, 879716, 883492, 892813, 897757, 903836, 909636, 915518, 920392, 924049, 928485, 935035, 940796, 946251, 951954, 957192, 960902, 965023, 971005, 976617, 983336, 989239, 994526, 998144, 1002070, 1008163, 1014565, 1023258, 1028247, 1033592, 1037368, 1044377, 1050159, 1055982, 1062229, 1068322, 1073154, 1077072, 1081015, 1086471, 1092490, 1098593, 1104715, 1110228, 1113613, 1118616, 1125203, 1131797, 1137676, 1144608, 1150298, 1154438, 1160070, 1167477, 1174564, 1181617, 1189170, 1195710, 1200634, 1206745, 1215196, 1226213, 1234264, 1243868, 1251414, 1257163, 1264277, 1274255, 1284695, 1294430, 1303984, 1312968, 1319227, 1327066, 1338150, 1349473, 1360446, 1372286, 1381071, 1388152, 1396467, 1409252]}],\n                        {\"margin\": {\"b\": 20, \"l\": 20, \"r\": 20, \"t\": 40}, \"paper_bgcolor\": \"lightgrey\", \"template\": {\"data\": {\"bar\": [{\"error_x\": {\"color\": \"#2a3f5f\"}, \"error_y\": {\"color\": \"#2a3f5f\"}, \"marker\": {\"line\": {\"color\": \"#E5ECF6\", \"width\": 0.5}}, \"type\": \"bar\"}], \"barpolar\": [{\"marker\": {\"line\": {\"color\": \"#E5ECF6\", \"width\": 0.5}}, \"type\": \"barpolar\"}], \"carpet\": [{\"aaxis\": {\"endlinecolor\": \"#2a3f5f\", \"gridcolor\": \"white\", \"linecolor\": \"white\", \"minorgridcolor\": \"white\", \"startlinecolor\": \"#2a3f5f\"}, \"baxis\": {\"endlinecolor\": \"#2a3f5f\", \"gridcolor\": \"white\", \"linecolor\": \"white\", \"minorgridcolor\": \"white\", \"startlinecolor\": \"#2a3f5f\"}, \"type\": \"carpet\"}], \"choropleth\": [{\"colorbar\": {\"outlinewidth\": 0, \"ticks\": \"\"}, \"type\": \"choropleth\"}], \"contour\": [{\"colorbar\": {\"outlinewidth\": 0, \"ticks\": \"\"}, \"colorscale\": [[0.0, \"#0d0887\"], [0.1111111111111111, \"#46039f\"], [0.2222222222222222, \"#7201a8\"], [0.3333333333333333, \"#9c179e\"], [0.4444444444444444, \"#bd3786\"], [0.5555555555555556, \"#d8576b\"], [0.6666666666666666, \"#ed7953\"], [0.7777777777777778, \"#fb9f3a\"], [0.8888888888888888, \"#fdca26\"], [1.0, \"#f0f921\"]], \"type\": \"contour\"}], \"contourcarpet\": [{\"colorbar\": {\"outlinewidth\": 0, \"ticks\": \"\"}, \"type\": \"contourcarpet\"}], \"heatmap\": [{\"colorbar\": {\"outlinewidth\": 0, \"ticks\": \"\"}, \"colorscale\": [[0.0, \"#0d0887\"], [0.1111111111111111, \"#46039f\"], [0.2222222222222222, \"#7201a8\"], [0.3333333333333333, \"#9c179e\"], [0.4444444444444444, \"#bd3786\"], [0.5555555555555556, \"#d8576b\"], [0.6666666666666666, \"#ed7953\"], [0.7777777777777778, \"#fb9f3a\"], [0.8888888888888888, \"#fdca26\"], [1.0, \"#f0f921\"]], \"type\": \"heatmap\"}], \"heatmapgl\": [{\"colorbar\": {\"outlinewidth\": 0, \"ticks\": \"\"}, \"colorscale\": [[0.0, \"#0d0887\"], [0.1111111111111111, \"#46039f\"], [0.2222222222222222, \"#7201a8\"], [0.3333333333333333, \"#9c179e\"], [0.4444444444444444, \"#bd3786\"], [0.5555555555555556, \"#d8576b\"], [0.6666666666666666, \"#ed7953\"], [0.7777777777777778, \"#fb9f3a\"], [0.8888888888888888, \"#fdca26\"], [1.0, \"#f0f921\"]], \"type\": \"heatmapgl\"}], \"histogram\": [{\"marker\": {\"colorbar\": {\"outlinewidth\": 0, \"ticks\": \"\"}}, \"type\": \"histogram\"}], \"histogram2d\": [{\"colorbar\": {\"outlinewidth\": 0, \"ticks\": \"\"}, \"colorscale\": [[0.0, \"#0d0887\"], [0.1111111111111111, \"#46039f\"], [0.2222222222222222, \"#7201a8\"], [0.3333333333333333, \"#9c179e\"], [0.4444444444444444, \"#bd3786\"], [0.5555555555555556, \"#d8576b\"], [0.6666666666666666, \"#ed7953\"], [0.7777777777777778, \"#fb9f3a\"], [0.8888888888888888, \"#fdca26\"], [1.0, \"#f0f921\"]], \"type\": \"histogram2d\"}], \"histogram2dcontour\": [{\"colorbar\": {\"outlinewidth\": 0, \"ticks\": \"\"}, \"colorscale\": [[0.0, \"#0d0887\"], [0.1111111111111111, \"#46039f\"], [0.2222222222222222, \"#7201a8\"], [0.3333333333333333, \"#9c179e\"], [0.4444444444444444, \"#bd3786\"], [0.5555555555555556, \"#d8576b\"], [0.6666666666666666, \"#ed7953\"], [0.7777777777777778, \"#fb9f3a\"], [0.8888888888888888, \"#fdca26\"], [1.0, \"#f0f921\"]], \"type\": \"histogram2dcontour\"}], \"mesh3d\": [{\"colorbar\": {\"outlinewidth\": 0, \"ticks\": \"\"}, \"type\": \"mesh3d\"}], \"parcoords\": [{\"line\": {\"colorbar\": {\"outlinewidth\": 0, \"ticks\": \"\"}}, \"type\": \"parcoords\"}], \"pie\": [{\"automargin\": true, \"type\": \"pie\"}], \"scatter\": [{\"marker\": {\"colorbar\": {\"outlinewidth\": 0, \"ticks\": \"\"}}, \"type\": \"scatter\"}], \"scatter3d\": [{\"line\": {\"colorbar\": {\"outlinewidth\": 0, \"ticks\": \"\"}}, \"marker\": {\"colorbar\": {\"outlinewidth\": 0, \"ticks\": \"\"}}, \"type\": \"scatter3d\"}], \"scattercarpet\": [{\"marker\": {\"colorbar\": {\"outlinewidth\": 0, \"ticks\": \"\"}}, \"type\": \"scattercarpet\"}], \"scattergeo\": [{\"marker\": {\"colorbar\": {\"outlinewidth\": 0, \"ticks\": \"\"}}, \"type\": \"scattergeo\"}], \"scattergl\": [{\"marker\": {\"colorbar\": {\"outlinewidth\": 0, \"ticks\": \"\"}}, \"type\": \"scattergl\"}], \"scattermapbox\": [{\"marker\": {\"colorbar\": {\"outlinewidth\": 0, \"ticks\": \"\"}}, \"type\": \"scattermapbox\"}], \"scatterpolar\": [{\"marker\": {\"colorbar\": {\"outlinewidth\": 0, \"ticks\": \"\"}}, \"type\": \"scatterpolar\"}], \"scatterpolargl\": [{\"marker\": {\"colorbar\": {\"outlinewidth\": 0, \"ticks\": \"\"}}, \"type\": \"scatterpolargl\"}], \"scatterternary\": [{\"marker\": {\"colorbar\": {\"outlinewidth\": 0, \"ticks\": \"\"}}, \"type\": \"scatterternary\"}], \"surface\": [{\"colorbar\": {\"outlinewidth\": 0, \"ticks\": \"\"}, \"colorscale\": [[0.0, \"#0d0887\"], [0.1111111111111111, \"#46039f\"], [0.2222222222222222, \"#7201a8\"], [0.3333333333333333, \"#9c179e\"], [0.4444444444444444, \"#bd3786\"], [0.5555555555555556, \"#d8576b\"], [0.6666666666666666, \"#ed7953\"], [0.7777777777777778, \"#fb9f3a\"], [0.8888888888888888, \"#fdca26\"], [1.0, \"#f0f921\"]], \"type\": \"surface\"}], \"table\": [{\"cells\": {\"fill\": {\"color\": \"#EBF0F8\"}, \"line\": {\"color\": \"white\"}}, \"header\": {\"fill\": {\"color\": \"#C8D4E3\"}, \"line\": {\"color\": \"white\"}}, \"type\": \"table\"}]}, \"layout\": {\"annotationdefaults\": {\"arrowcolor\": \"#2a3f5f\", \"arrowhead\": 0, \"arrowwidth\": 1}, \"coloraxis\": {\"colorbar\": {\"outlinewidth\": 0, \"ticks\": \"\"}}, \"colorscale\": {\"diverging\": [[0, \"#8e0152\"], [0.1, \"#c51b7d\"], [0.2, \"#de77ae\"], [0.3, \"#f1b6da\"], [0.4, \"#fde0ef\"], [0.5, \"#f7f7f7\"], [0.6, \"#e6f5d0\"], [0.7, \"#b8e186\"], [0.8, \"#7fbc41\"], [0.9, \"#4d9221\"], [1, \"#276419\"]], \"sequential\": [[0.0, \"#0d0887\"], [0.1111111111111111, \"#46039f\"], [0.2222222222222222, \"#7201a8\"], [0.3333333333333333, \"#9c179e\"], [0.4444444444444444, \"#bd3786\"], [0.5555555555555556, \"#d8576b\"], [0.6666666666666666, \"#ed7953\"], [0.7777777777777778, \"#fb9f3a\"], [0.8888888888888888, \"#fdca26\"], [1.0, \"#f0f921\"]], \"sequentialminus\": [[0.0, \"#0d0887\"], [0.1111111111111111, \"#46039f\"], [0.2222222222222222, \"#7201a8\"], [0.3333333333333333, \"#9c179e\"], [0.4444444444444444, \"#bd3786\"], [0.5555555555555556, \"#d8576b\"], [0.6666666666666666, \"#ed7953\"], [0.7777777777777778, \"#fb9f3a\"], [0.8888888888888888, \"#fdca26\"], [1.0, \"#f0f921\"]]}, \"colorway\": [\"#636efa\", \"#EF553B\", \"#00cc96\", \"#ab63fa\", \"#FFA15A\", \"#19d3f3\", \"#FF6692\", \"#B6E880\", \"#FF97FF\", \"#FECB52\"], \"font\": {\"color\": \"#2a3f5f\"}, \"geo\": {\"bgcolor\": \"white\", \"lakecolor\": \"white\", \"landcolor\": \"#E5ECF6\", \"showlakes\": true, \"showland\": true, \"subunitcolor\": \"white\"}, \"hoverlabel\": {\"align\": \"left\"}, \"hovermode\": \"closest\", \"mapbox\": {\"style\": \"light\"}, \"paper_bgcolor\": \"white\", \"plot_bgcolor\": \"#E5ECF6\", \"polar\": {\"angularaxis\": {\"gridcolor\": \"white\", \"linecolor\": \"white\", \"ticks\": \"\"}, \"bgcolor\": \"#E5ECF6\", \"radialaxis\": {\"gridcolor\": \"white\", \"linecolor\": \"white\", \"ticks\": \"\"}}, \"scene\": {\"xaxis\": {\"backgroundcolor\": \"#E5ECF6\", \"gridcolor\": \"white\", \"gridwidth\": 2, \"linecolor\": \"white\", \"showbackground\": true, \"ticks\": \"\", \"zerolinecolor\": \"white\"}, \"yaxis\": {\"backgroundcolor\": \"#E5ECF6\", \"gridcolor\": \"white\", \"gridwidth\": 2, \"linecolor\": \"white\", \"showbackground\": true, \"ticks\": \"\", \"zerolinecolor\": \"white\"}, \"zaxis\": {\"backgroundcolor\": \"#E5ECF6\", \"gridcolor\": \"white\", \"gridwidth\": 2, \"linecolor\": \"white\", \"showbackground\": true, \"ticks\": \"\", \"zerolinecolor\": \"white\"}}, \"shapedefaults\": {\"line\": {\"color\": \"#2a3f5f\"}}, \"ternary\": {\"aaxis\": {\"gridcolor\": \"white\", \"linecolor\": \"white\", \"ticks\": \"\"}, \"baxis\": {\"gridcolor\": \"white\", \"linecolor\": \"white\", \"ticks\": \"\"}, \"bgcolor\": \"#E5ECF6\", \"caxis\": {\"gridcolor\": \"white\", \"linecolor\": \"white\", \"ticks\": \"\"}}, \"title\": {\"x\": 0.05}, \"xaxis\": {\"automargin\": true, \"gridcolor\": \"white\", \"linecolor\": \"white\", \"ticks\": \"\", \"title\": {\"standoff\": 15}, \"zerolinecolor\": \"white\", \"zerolinewidth\": 2}, \"yaxis\": {\"automargin\": true, \"gridcolor\": \"white\", \"linecolor\": \"white\", \"ticks\": \"\", \"title\": {\"standoff\": 15}, \"zerolinecolor\": \"white\", \"zerolinewidth\": 2}}}, \"title\": {\"text\": \"COVID 19 cases of World\"}, \"width\": 800, \"xaxis\": {\"title\": {\"text\": \"Date\"}}, \"yaxis\": {\"title\": {\"text\": \"No. of Confirmed Cases\"}, \"type\": \"linear\"}},\n                        {\"responsive\": true}\n                    ).then(function(){\n                            \nvar gd = document.getElementById('9b599862-aef2-4d11-9692-f30584ee0f17');\nvar x = new MutationObserver(function (mutations, observer) {{\n        var display = window.getComputedStyle(gd).display;\n        if (!display || display === 'none') {{\n            console.log([gd, 'removed!']);\n            Plotly.purge(gd);\n            observer.disconnect();\n        }}\n}});\n\n// Listen for the removal of the full notebook cells\nvar notebookContainer = gd.closest('#notebook-container');\nif (notebookContainer) {{\n    x.observe(notebookContainer, {childList: true});\n}}\n\n// Listen for the clearing of the current output cell\nvar outputEl = gd.closest('.output');\nif (outputEl) {{\n    x.observe(outputEl, {childList: true});\n}}\n\n                        })\n                };\n                \n            </script>\n        </div>\n</body>\n</html>"
       }
      ]
     }
    },
    "79884e2be9a84c7b87ab2483f20a421b": {
     "model_module": "@jupyter-widgets/base",
     "model_name": "LayoutModel",
     "state": {
      "_model_module": "@jupyter-widgets/base",
      "_model_module_version": "1.2.0",
      "_model_name": "LayoutModel",
      "_view_count": null,
      "_view_module": "@jupyter-widgets/base",
      "_view_module_version": "1.2.0",
      "_view_name": "LayoutView",
      "align_content": null,
      "align_items": null,
      "align_self": null,
      "border": null,
      "bottom": null,
      "display": null,
      "flex": null,
      "flex_flow": null,
      "grid_area": null,
      "grid_auto_columns": null,
      "grid_auto_flow": null,
      "grid_auto_rows": null,
      "grid_column": null,
      "grid_gap": null,
      "grid_row": null,
      "grid_template_areas": null,
      "grid_template_columns": null,
      "grid_template_rows": null,
      "height": null,
      "justify_content": null,
      "justify_items": null,
      "left": null,
      "margin": null,
      "max_height": null,
      "max_width": null,
      "min_height": null,
      "min_width": null,
      "object_fit": null,
      "object_position": null,
      "order": null,
      "overflow": null,
      "overflow_x": null,
      "overflow_y": null,
      "padding": null,
      "right": null,
      "top": null,
      "visibility": null,
      "width": null
     }
    },
    "83fb3f1b05554bd4bf823e9db231f4df": {
     "model_module": "@jupyter-widgets/controls",
     "model_name": "VBoxModel",
     "state": {
      "_dom_classes": [
       "widget-interact"
      ],
      "_model_module": "@jupyter-widgets/controls",
      "_model_module_version": "1.5.0",
      "_model_name": "VBoxModel",
      "_view_count": null,
      "_view_module": "@jupyter-widgets/controls",
      "_view_module_version": "1.5.0",
      "_view_name": "VBoxView",
      "box_style": "",
      "children": [
       "IPY_MODEL_508e974fdc684963b0a2e3f5bbe79750",
       "IPY_MODEL_76636939f2834dd9ab335aed7b0733e8"
      ],
      "layout": "IPY_MODEL_b8966c5a98d54c53aca325fd566f5e20"
     }
    },
    "861ad3fe96fa4205bd4d77a598290010": {
     "model_module": "@jupyter-widgets/controls",
     "model_name": "SliderStyleModel",
     "state": {
      "_model_module": "@jupyter-widgets/controls",
      "_model_module_version": "1.5.0",
      "_model_name": "SliderStyleModel",
      "_view_count": null,
      "_view_module": "@jupyter-widgets/base",
      "_view_module_version": "1.2.0",
      "_view_name": "StyleView",
      "description_width": "",
      "handle_color": null
     }
    },
    "8e8e6851e7f4415d899b59489d81bed7": {
     "model_module": "@jupyter-widgets/controls",
     "model_name": "VBoxModel",
     "state": {
      "_dom_classes": [],
      "_model_module": "@jupyter-widgets/controls",
      "_model_module_version": "1.5.0",
      "_model_name": "VBoxModel",
      "_view_count": null,
      "_view_module": "@jupyter-widgets/controls",
      "_view_module_version": "1.5.0",
      "_view_name": "VBoxView",
      "box_style": "",
      "children": [
       "IPY_MODEL_b068b728fa97418090c014f1c16aa083"
      ],
      "layout": "IPY_MODEL_155e0bf398394e08a819a927b989854b"
     }
    },
    "a1dbdb3daa0941d08ce19be7ae5b3632": {
     "model_module": "@jupyter-widgets/base",
     "model_name": "LayoutModel",
     "state": {
      "_model_module": "@jupyter-widgets/base",
      "_model_module_version": "1.2.0",
      "_model_name": "LayoutModel",
      "_view_count": null,
      "_view_module": "@jupyter-widgets/base",
      "_view_module_version": "1.2.0",
      "_view_name": "LayoutView",
      "align_content": null,
      "align_items": null,
      "align_self": null,
      "border": "solid 2px green",
      "bottom": null,
      "display": "none",
      "flex": null,
      "flex_flow": null,
      "grid_area": null,
      "grid_auto_columns": null,
      "grid_auto_flow": null,
      "grid_auto_rows": null,
      "grid_column": null,
      "grid_gap": null,
      "grid_row": null,
      "grid_template_areas": null,
      "grid_template_columns": null,
      "grid_template_rows": null,
      "height": null,
      "justify_content": null,
      "justify_items": null,
      "left": null,
      "margin": null,
      "max_height": null,
      "max_width": null,
      "min_height": null,
      "min_width": null,
      "object_fit": null,
      "object_position": null,
      "order": null,
      "overflow": null,
      "overflow_x": null,
      "overflow_y": null,
      "padding": null,
      "right": null,
      "top": null,
      "visibility": null,
      "width": null
     }
    },
    "a4f51b5ec6f641c7af4b9f03d65a1662": {
     "model_module": "@jupyter-widgets/controls",
     "model_name": "DescriptionStyleModel",
     "state": {
      "_model_module": "@jupyter-widgets/controls",
      "_model_module_version": "1.5.0",
      "_model_name": "DescriptionStyleModel",
      "_view_count": null,
      "_view_module": "@jupyter-widgets/base",
      "_view_module_version": "1.2.0",
      "_view_name": "StyleView",
      "description_width": ""
     }
    },
    "a6a0e941e8124e05a8e11bd66a725206": {
     "model_module": "@jupyter-widgets/base",
     "model_name": "LayoutModel",
     "state": {
      "_model_module": "@jupyter-widgets/base",
      "_model_module_version": "1.2.0",
      "_model_name": "LayoutModel",
      "_view_count": null,
      "_view_module": "@jupyter-widgets/base",
      "_view_module_version": "1.2.0",
      "_view_name": "LayoutView",
      "align_content": null,
      "align_items": null,
      "align_self": null,
      "border": null,
      "bottom": null,
      "display": null,
      "flex": null,
      "flex_flow": null,
      "grid_area": null,
      "grid_auto_columns": null,
      "grid_auto_flow": null,
      "grid_auto_rows": null,
      "grid_column": null,
      "grid_gap": null,
      "grid_row": null,
      "grid_template_areas": null,
      "grid_template_columns": null,
      "grid_template_rows": null,
      "height": null,
      "justify_content": null,
      "justify_items": null,
      "left": null,
      "margin": null,
      "max_height": null,
      "max_width": null,
      "min_height": null,
      "min_width": null,
      "object_fit": null,
      "object_position": null,
      "order": null,
      "overflow": null,
      "overflow_x": null,
      "overflow_y": null,
      "padding": null,
      "right": null,
      "top": null,
      "visibility": null,
      "width": null
     }
    },
    "b068b728fa97418090c014f1c16aa083": {
     "model_module": "plotlywidget",
     "model_name": "FigureModel",
     "state": {
      "_config": {
       "plotlyServerURL": "https://plot.ly"
      },
      "_data": [],
      "_dom_classes": [],
      "_js2py_layoutDelta": {},
      "_js2py_pointsCallback": {},
      "_js2py_relayout": {},
      "_js2py_restyle": {},
      "_js2py_traceDeltas": {},
      "_js2py_update": {},
      "_last_layout_edit_id": 0,
      "_last_trace_edit_id": 0,
      "_layout": {},
      "_model_module": "plotlywidget",
      "_model_module_version": "^1.4.0",
      "_model_name": "FigureModel",
      "_py2js_addTraces": {},
      "_py2js_animate": {},
      "_py2js_deleteTraces": {},
      "_py2js_moveTraces": {},
      "_py2js_relayout": null,
      "_py2js_removeLayoutProps": {},
      "_py2js_removeTraceProps": {},
      "_py2js_restyle": {},
      "_py2js_update": {},
      "_view_count": 0,
      "_view_module": "plotlywidget",
      "_view_module_version": "^1.4.0",
      "_view_name": "FigureView"
     }
    },
    "b881b4231781412eb3163bf42ac82f4f": {
     "model_module": "@jupyter-widgets/controls",
     "model_name": "VBoxModel",
     "state": {
      "_dom_classes": [],
      "_model_module": "@jupyter-widgets/controls",
      "_model_module_version": "1.5.0",
      "_model_name": "VBoxModel",
      "_view_count": null,
      "_view_module": "@jupyter-widgets/controls",
      "_view_module_version": "1.5.0",
      "_view_name": "VBoxView",
      "box_style": "",
      "children": [
       "IPY_MODEL_b068b728fa97418090c014f1c16aa083"
      ],
      "layout": "IPY_MODEL_a1dbdb3daa0941d08ce19be7ae5b3632"
     }
    },
    "b8966c5a98d54c53aca325fd566f5e20": {
     "model_module": "@jupyter-widgets/base",
     "model_name": "LayoutModel",
     "state": {
      "_model_module": "@jupyter-widgets/base",
      "_model_module_version": "1.2.0",
      "_model_name": "LayoutModel",
      "_view_count": null,
      "_view_module": "@jupyter-widgets/base",
      "_view_module_version": "1.2.0",
      "_view_name": "LayoutView",
      "align_content": null,
      "align_items": null,
      "align_self": null,
      "border": null,
      "bottom": null,
      "display": null,
      "flex": null,
      "flex_flow": null,
      "grid_area": null,
      "grid_auto_columns": null,
      "grid_auto_flow": null,
      "grid_auto_rows": null,
      "grid_column": null,
      "grid_gap": null,
      "grid_row": null,
      "grid_template_areas": null,
      "grid_template_columns": null,
      "grid_template_rows": null,
      "height": null,
      "justify_content": null,
      "justify_items": null,
      "left": null,
      "margin": null,
      "max_height": null,
      "max_width": null,
      "min_height": null,
      "min_width": null,
      "object_fit": null,
      "object_position": null,
      "order": null,
      "overflow": null,
      "overflow_x": null,
      "overflow_y": null,
      "padding": null,
      "right": null,
      "top": null,
      "visibility": null,
      "width": null
     }
    },
    "b95be6051b9146fea099e1a3eb335eaf": {
     "model_module": "@jupyter-widgets/controls",
     "model_name": "IntSliderModel",
     "state": {
      "_dom_classes": [],
      "_model_module": "@jupyter-widgets/controls",
      "_model_module_version": "1.5.0",
      "_model_name": "IntSliderModel",
      "_view_count": null,
      "_view_module": "@jupyter-widgets/controls",
      "_view_module_version": "1.5.0",
      "_view_name": "IntSliderView",
      "continuous_update": true,
      "description": "n",
      "description_tooltip": null,
      "disabled": false,
      "layout": "IPY_MODEL_c8458bfc1e7645c0a6e965a43881aba0",
      "max": 30,
      "min": -10,
      "orientation": "horizontal",
      "readout": true,
      "readout_format": "d",
      "step": 1,
      "style": "IPY_MODEL_861ad3fe96fa4205bd4d77a598290010",
      "value": 10
     }
    },
    "c6bf324fd1514ce4a38f3424419e4bce": {
     "model_module": "@jupyter-widgets/base",
     "model_name": "LayoutModel",
     "state": {
      "_model_module": "@jupyter-widgets/base",
      "_model_module_version": "1.2.0",
      "_model_name": "LayoutModel",
      "_view_count": null,
      "_view_module": "@jupyter-widgets/base",
      "_view_module_version": "1.2.0",
      "_view_name": "LayoutView",
      "align_content": null,
      "align_items": null,
      "align_self": null,
      "border": null,
      "bottom": null,
      "display": null,
      "flex": null,
      "flex_flow": null,
      "grid_area": null,
      "grid_auto_columns": null,
      "grid_auto_flow": null,
      "grid_auto_rows": null,
      "grid_column": null,
      "grid_gap": null,
      "grid_row": null,
      "grid_template_areas": null,
      "grid_template_columns": null,
      "grid_template_rows": null,
      "height": null,
      "justify_content": null,
      "justify_items": null,
      "left": null,
      "margin": null,
      "max_height": null,
      "max_width": null,
      "min_height": null,
      "min_width": null,
      "object_fit": null,
      "object_position": null,
      "order": null,
      "overflow": null,
      "overflow_x": null,
      "overflow_y": null,
      "padding": null,
      "right": null,
      "top": null,
      "visibility": null,
      "width": null
     }
    },
    "c8458bfc1e7645c0a6e965a43881aba0": {
     "model_module": "@jupyter-widgets/base",
     "model_name": "LayoutModel",
     "state": {
      "_model_module": "@jupyter-widgets/base",
      "_model_module_version": "1.2.0",
      "_model_name": "LayoutModel",
      "_view_count": null,
      "_view_module": "@jupyter-widgets/base",
      "_view_module_version": "1.2.0",
      "_view_name": "LayoutView",
      "align_content": null,
      "align_items": null,
      "align_self": null,
      "border": null,
      "bottom": null,
      "display": null,
      "flex": null,
      "flex_flow": null,
      "grid_area": null,
      "grid_auto_columns": null,
      "grid_auto_flow": null,
      "grid_auto_rows": null,
      "grid_column": null,
      "grid_gap": null,
      "grid_row": null,
      "grid_template_areas": null,
      "grid_template_columns": null,
      "grid_template_rows": null,
      "height": null,
      "justify_content": null,
      "justify_items": null,
      "left": null,
      "margin": null,
      "max_height": null,
      "max_width": null,
      "min_height": null,
      "min_width": null,
      "object_fit": null,
      "object_position": null,
      "order": null,
      "overflow": null,
      "overflow_x": null,
      "overflow_y": null,
      "padding": null,
      "right": null,
      "top": null,
      "visibility": null,
      "width": null
     }
    },
    "d05eb3a6c979454a959886ee8d5d4916": {
     "model_module": "@jupyter-widgets/output",
     "model_name": "OutputModel",
     "state": {
      "_dom_classes": [],
      "_model_module": "@jupyter-widgets/output",
      "_model_module_version": "1.0.0",
      "_model_name": "OutputModel",
      "_view_count": null,
      "_view_module": "@jupyter-widgets/output",
      "_view_module_version": "1.0.0",
      "_view_name": "OutputView",
      "layout": "IPY_MODEL_c6bf324fd1514ce4a38f3424419e4bce",
      "msg_id": "",
      "outputs": [
       {
        "metadata": {
         "tags": []
        },
        "output_type": "display_data",
        "text/html": "<style  type=\"text/css\" >\n#T_e8c0ee5c_2f12_11eb_a8b8_0242ac1c0002row0_col4,#T_e8c0ee5c_2f12_11eb_a8b8_0242ac1c0002row1_col4,#T_e8c0ee5c_2f12_11eb_a8b8_0242ac1c0002row2_col4,#T_e8c0ee5c_2f12_11eb_a8b8_0242ac1c0002row3_col4,#T_e8c0ee5c_2f12_11eb_a8b8_0242ac1c0002row4_col4,#T_e8c0ee5c_2f12_11eb_a8b8_0242ac1c0002row5_col4,#T_e8c0ee5c_2f12_11eb_a8b8_0242ac1c0002row6_col4,#T_e8c0ee5c_2f12_11eb_a8b8_0242ac1c0002row7_col4,#T_e8c0ee5c_2f12_11eb_a8b8_0242ac1c0002row8_col4,#T_e8c0ee5c_2f12_11eb_a8b8_0242ac1c0002row9_col4{\n            background-color:  purple;\n        }#T_e8c0ee5c_2f12_11eb_a8b8_0242ac1c0002row0_col5,#T_e8c0ee5c_2f12_11eb_a8b8_0242ac1c0002row1_col5,#T_e8c0ee5c_2f12_11eb_a8b8_0242ac1c0002row2_col5,#T_e8c0ee5c_2f12_11eb_a8b8_0242ac1c0002row3_col5,#T_e8c0ee5c_2f12_11eb_a8b8_0242ac1c0002row4_col5,#T_e8c0ee5c_2f12_11eb_a8b8_0242ac1c0002row5_col5,#T_e8c0ee5c_2f12_11eb_a8b8_0242ac1c0002row6_col5,#T_e8c0ee5c_2f12_11eb_a8b8_0242ac1c0002row7_col5,#T_e8c0ee5c_2f12_11eb_a8b8_0242ac1c0002row8_col5,#T_e8c0ee5c_2f12_11eb_a8b8_0242ac1c0002row9_col5{\n            background-color:  red;\n        }#T_e8c0ee5c_2f12_11eb_a8b8_0242ac1c0002row0_col6,#T_e8c0ee5c_2f12_11eb_a8b8_0242ac1c0002row1_col6,#T_e8c0ee5c_2f12_11eb_a8b8_0242ac1c0002row2_col6,#T_e8c0ee5c_2f12_11eb_a8b8_0242ac1c0002row3_col6,#T_e8c0ee5c_2f12_11eb_a8b8_0242ac1c0002row4_col6,#T_e8c0ee5c_2f12_11eb_a8b8_0242ac1c0002row5_col6,#T_e8c0ee5c_2f12_11eb_a8b8_0242ac1c0002row6_col6,#T_e8c0ee5c_2f12_11eb_a8b8_0242ac1c0002row7_col6,#T_e8c0ee5c_2f12_11eb_a8b8_0242ac1c0002row8_col6,#T_e8c0ee5c_2f12_11eb_a8b8_0242ac1c0002row9_col6{\n            background-color:  grey;\n        }</style><table id=\"T_e8c0ee5c_2f12_11eb_a8b8_0242ac1c0002\" ><thead>    <tr>        <th class=\"blank level0\" ></th>        <th class=\"col_heading level0 col0\" >country</th>        <th class=\"col_heading level0 col1\" >last_update</th>        <th class=\"col_heading level0 col2\" >lat</th>        <th class=\"col_heading level0 col3\" >long_</th>        <th class=\"col_heading level0 col4\" >confirmed</th>        <th class=\"col_heading level0 col5\" >deaths</th>        <th class=\"col_heading level0 col6\" >recovered</th>        <th class=\"col_heading level0 col7\" >active</th>        <th class=\"col_heading level0 col8\" >incident_rate</th>        <th class=\"col_heading level0 col9\" >people_tested</th>        <th class=\"col_heading level0 col10\" >people_hospitalized</th>        <th class=\"col_heading level0 col11\" >mortality_rate</th>        <th class=\"col_heading level0 col12\" >uid</th>        <th class=\"col_heading level0 col13\" >iso3</th>    </tr></thead><tbody>\n                <tr>\n                        <th id=\"T_e8c0ee5c_2f12_11eb_a8b8_0242ac1c0002level0_row0\" class=\"row_heading level0 row0\" >176</th>\n                        <td id=\"T_e8c0ee5c_2f12_11eb_a8b8_0242ac1c0002row0_col0\" class=\"data row0 col0\" >US</td>\n                        <td id=\"T_e8c0ee5c_2f12_11eb_a8b8_0242ac1c0002row0_col1\" class=\"data row0 col1\" >2020-11-25 11:26:07</td>\n                        <td id=\"T_e8c0ee5c_2f12_11eb_a8b8_0242ac1c0002row0_col2\" class=\"data row0 col2\" >40.000000</td>\n                        <td id=\"T_e8c0ee5c_2f12_11eb_a8b8_0242ac1c0002row0_col3\" class=\"data row0 col3\" >-100.000000</td>\n                        <td id=\"T_e8c0ee5c_2f12_11eb_a8b8_0242ac1c0002row0_col4\" class=\"data row0 col4\" >12597510.000000</td>\n                        <td id=\"T_e8c0ee5c_2f12_11eb_a8b8_0242ac1c0002row0_col5\" class=\"data row0 col5\" >259976.000000</td>\n                        <td id=\"T_e8c0ee5c_2f12_11eb_a8b8_0242ac1c0002row0_col6\" class=\"data row0 col6\" >4696664.000000</td>\n                        <td id=\"T_e8c0ee5c_2f12_11eb_a8b8_0242ac1c0002row0_col7\" class=\"data row0 col7\" >7640855.000000</td>\n                        <td id=\"T_e8c0ee5c_2f12_11eb_a8b8_0242ac1c0002row0_col8\" class=\"data row0 col8\" >3823.611292</td>\n                        <td id=\"T_e8c0ee5c_2f12_11eb_a8b8_0242ac1c0002row0_col9\" class=\"data row0 col9\" >nan</td>\n                        <td id=\"T_e8c0ee5c_2f12_11eb_a8b8_0242ac1c0002row0_col10\" class=\"data row0 col10\" >nan</td>\n                        <td id=\"T_e8c0ee5c_2f12_11eb_a8b8_0242ac1c0002row0_col11\" class=\"data row0 col11\" >2.063709</td>\n                        <td id=\"T_e8c0ee5c_2f12_11eb_a8b8_0242ac1c0002row0_col12\" class=\"data row0 col12\" >840</td>\n                        <td id=\"T_e8c0ee5c_2f12_11eb_a8b8_0242ac1c0002row0_col13\" class=\"data row0 col13\" >USA</td>\n            </tr>\n            <tr>\n                        <th id=\"T_e8c0ee5c_2f12_11eb_a8b8_0242ac1c0002level0_row1\" class=\"row_heading level0 row1\" >79</th>\n                        <td id=\"T_e8c0ee5c_2f12_11eb_a8b8_0242ac1c0002row1_col0\" class=\"data row1 col0\" >India</td>\n                        <td id=\"T_e8c0ee5c_2f12_11eb_a8b8_0242ac1c0002row1_col1\" class=\"data row1 col1\" >2020-11-25 11:26:07</td>\n                        <td id=\"T_e8c0ee5c_2f12_11eb_a8b8_0242ac1c0002row1_col2\" class=\"data row1 col2\" >20.593684</td>\n                        <td id=\"T_e8c0ee5c_2f12_11eb_a8b8_0242ac1c0002row1_col3\" class=\"data row1 col3\" >78.962880</td>\n                        <td id=\"T_e8c0ee5c_2f12_11eb_a8b8_0242ac1c0002row1_col4\" class=\"data row1 col4\" >9222216.000000</td>\n                        <td id=\"T_e8c0ee5c_2f12_11eb_a8b8_0242ac1c0002row1_col5\" class=\"data row1 col5\" >134699.000000</td>\n                        <td id=\"T_e8c0ee5c_2f12_11eb_a8b8_0242ac1c0002row1_col6\" class=\"data row1 col6\" >8642771.000000</td>\n                        <td id=\"T_e8c0ee5c_2f12_11eb_a8b8_0242ac1c0002row1_col7\" class=\"data row1 col7\" >444746.000000</td>\n                        <td id=\"T_e8c0ee5c_2f12_11eb_a8b8_0242ac1c0002row1_col8\" class=\"data row1 col8\" >668.274398</td>\n                        <td id=\"T_e8c0ee5c_2f12_11eb_a8b8_0242ac1c0002row1_col9\" class=\"data row1 col9\" >nan</td>\n                        <td id=\"T_e8c0ee5c_2f12_11eb_a8b8_0242ac1c0002row1_col10\" class=\"data row1 col10\" >nan</td>\n                        <td id=\"T_e8c0ee5c_2f12_11eb_a8b8_0242ac1c0002row1_col11\" class=\"data row1 col11\" >1.460593</td>\n                        <td id=\"T_e8c0ee5c_2f12_11eb_a8b8_0242ac1c0002row1_col12\" class=\"data row1 col12\" >356</td>\n                        <td id=\"T_e8c0ee5c_2f12_11eb_a8b8_0242ac1c0002row1_col13\" class=\"data row1 col13\" >IND</td>\n            </tr>\n            <tr>\n                        <th id=\"T_e8c0ee5c_2f12_11eb_a8b8_0242ac1c0002level0_row2\" class=\"row_heading level0 row2\" >23</th>\n                        <td id=\"T_e8c0ee5c_2f12_11eb_a8b8_0242ac1c0002row2_col0\" class=\"data row2 col0\" >Brazil</td>\n                        <td id=\"T_e8c0ee5c_2f12_11eb_a8b8_0242ac1c0002row2_col1\" class=\"data row2 col1\" >2020-11-25 11:26:07</td>\n                        <td id=\"T_e8c0ee5c_2f12_11eb_a8b8_0242ac1c0002row2_col2\" class=\"data row2 col2\" >-14.235000</td>\n                        <td id=\"T_e8c0ee5c_2f12_11eb_a8b8_0242ac1c0002row2_col3\" class=\"data row2 col3\" >-51.925300</td>\n                        <td id=\"T_e8c0ee5c_2f12_11eb_a8b8_0242ac1c0002row2_col4\" class=\"data row2 col4\" >6118708.000000</td>\n                        <td id=\"T_e8c0ee5c_2f12_11eb_a8b8_0242ac1c0002row2_col5\" class=\"data row2 col5\" >170115.000000</td>\n                        <td id=\"T_e8c0ee5c_2f12_11eb_a8b8_0242ac1c0002row2_col6\" class=\"data row2 col6\" >5509645.000000</td>\n                        <td id=\"T_e8c0ee5c_2f12_11eb_a8b8_0242ac1c0002row2_col7\" class=\"data row2 col7\" >438948.000000</td>\n                        <td id=\"T_e8c0ee5c_2f12_11eb_a8b8_0242ac1c0002row2_col8\" class=\"data row2 col8\" >2878.587228</td>\n                        <td id=\"T_e8c0ee5c_2f12_11eb_a8b8_0242ac1c0002row2_col9\" class=\"data row2 col9\" >nan</td>\n                        <td id=\"T_e8c0ee5c_2f12_11eb_a8b8_0242ac1c0002row2_col10\" class=\"data row2 col10\" >nan</td>\n                        <td id=\"T_e8c0ee5c_2f12_11eb_a8b8_0242ac1c0002row2_col11\" class=\"data row2 col11\" >2.780244</td>\n                        <td id=\"T_e8c0ee5c_2f12_11eb_a8b8_0242ac1c0002row2_col12\" class=\"data row2 col12\" >76</td>\n                        <td id=\"T_e8c0ee5c_2f12_11eb_a8b8_0242ac1c0002row2_col13\" class=\"data row2 col13\" >BRA</td>\n            </tr>\n            <tr>\n                        <th id=\"T_e8c0ee5c_2f12_11eb_a8b8_0242ac1c0002level0_row3\" class=\"row_heading level0 row3\" >62</th>\n                        <td id=\"T_e8c0ee5c_2f12_11eb_a8b8_0242ac1c0002row3_col0\" class=\"data row3 col0\" >France</td>\n                        <td id=\"T_e8c0ee5c_2f12_11eb_a8b8_0242ac1c0002row3_col1\" class=\"data row3 col1\" >2020-11-25 11:26:07</td>\n                        <td id=\"T_e8c0ee5c_2f12_11eb_a8b8_0242ac1c0002row3_col2\" class=\"data row3 col2\" >46.227600</td>\n                        <td id=\"T_e8c0ee5c_2f12_11eb_a8b8_0242ac1c0002row3_col3\" class=\"data row3 col3\" >2.213700</td>\n                        <td id=\"T_e8c0ee5c_2f12_11eb_a8b8_0242ac1c0002row3_col4\" class=\"data row3 col4\" >2206126.000000</td>\n                        <td id=\"T_e8c0ee5c_2f12_11eb_a8b8_0242ac1c0002row3_col5\" class=\"data row3 col5\" >50327.000000</td>\n                        <td id=\"T_e8c0ee5c_2f12_11eb_a8b8_0242ac1c0002row3_col6\" class=\"data row3 col6\" >160257.000000</td>\n                        <td id=\"T_e8c0ee5c_2f12_11eb_a8b8_0242ac1c0002row3_col7\" class=\"data row3 col7\" >1994750.000000</td>\n                        <td id=\"T_e8c0ee5c_2f12_11eb_a8b8_0242ac1c0002row3_col8\" class=\"data row3 col8\" >3379.818141</td>\n                        <td id=\"T_e8c0ee5c_2f12_11eb_a8b8_0242ac1c0002row3_col9\" class=\"data row3 col9\" >nan</td>\n                        <td id=\"T_e8c0ee5c_2f12_11eb_a8b8_0242ac1c0002row3_col10\" class=\"data row3 col10\" >nan</td>\n                        <td id=\"T_e8c0ee5c_2f12_11eb_a8b8_0242ac1c0002row3_col11\" class=\"data row3 col11\" >2.281239</td>\n                        <td id=\"T_e8c0ee5c_2f12_11eb_a8b8_0242ac1c0002row3_col12\" class=\"data row3 col12\" >250</td>\n                        <td id=\"T_e8c0ee5c_2f12_11eb_a8b8_0242ac1c0002row3_col13\" class=\"data row3 col13\" >FRA</td>\n            </tr>\n            <tr>\n                        <th id=\"T_e8c0ee5c_2f12_11eb_a8b8_0242ac1c0002level0_row4\" class=\"row_heading level0 row4\" >141</th>\n                        <td id=\"T_e8c0ee5c_2f12_11eb_a8b8_0242ac1c0002row4_col0\" class=\"data row4 col0\" >Russia</td>\n                        <td id=\"T_e8c0ee5c_2f12_11eb_a8b8_0242ac1c0002row4_col1\" class=\"data row4 col1\" >2020-11-25 11:26:07</td>\n                        <td id=\"T_e8c0ee5c_2f12_11eb_a8b8_0242ac1c0002row4_col2\" class=\"data row4 col2\" >61.524000</td>\n                        <td id=\"T_e8c0ee5c_2f12_11eb_a8b8_0242ac1c0002row4_col3\" class=\"data row4 col3\" >105.318800</td>\n                        <td id=\"T_e8c0ee5c_2f12_11eb_a8b8_0242ac1c0002row4_col4\" class=\"data row4 col4\" >2144229.000000</td>\n                        <td id=\"T_e8c0ee5c_2f12_11eb_a8b8_0242ac1c0002row4_col5\" class=\"data row4 col5\" >37173.000000</td>\n                        <td id=\"T_e8c0ee5c_2f12_11eb_a8b8_0242ac1c0002row4_col6\" class=\"data row4 col6\" >1646737.000000</td>\n                        <td id=\"T_e8c0ee5c_2f12_11eb_a8b8_0242ac1c0002row4_col7\" class=\"data row4 col7\" >460319.000000</td>\n                        <td id=\"T_e8c0ee5c_2f12_11eb_a8b8_0242ac1c0002row4_col8\" class=\"data row4 col8\" >1469.309579</td>\n                        <td id=\"T_e8c0ee5c_2f12_11eb_a8b8_0242ac1c0002row4_col9\" class=\"data row4 col9\" >nan</td>\n                        <td id=\"T_e8c0ee5c_2f12_11eb_a8b8_0242ac1c0002row4_col10\" class=\"data row4 col10\" >nan</td>\n                        <td id=\"T_e8c0ee5c_2f12_11eb_a8b8_0242ac1c0002row4_col11\" class=\"data row4 col11\" >1.733630</td>\n                        <td id=\"T_e8c0ee5c_2f12_11eb_a8b8_0242ac1c0002row4_col12\" class=\"data row4 col12\" >643</td>\n                        <td id=\"T_e8c0ee5c_2f12_11eb_a8b8_0242ac1c0002row4_col13\" class=\"data row4 col13\" >RUS</td>\n            </tr>\n            <tr>\n                        <th id=\"T_e8c0ee5c_2f12_11eb_a8b8_0242ac1c0002level0_row5\" class=\"row_heading level0 row5\" >160</th>\n                        <td id=\"T_e8c0ee5c_2f12_11eb_a8b8_0242ac1c0002row5_col0\" class=\"data row5 col0\" >Spain</td>\n                        <td id=\"T_e8c0ee5c_2f12_11eb_a8b8_0242ac1c0002row5_col1\" class=\"data row5 col1\" >2020-11-25 11:26:07</td>\n                        <td id=\"T_e8c0ee5c_2f12_11eb_a8b8_0242ac1c0002row5_col2\" class=\"data row5 col2\" >40.463667</td>\n                        <td id=\"T_e8c0ee5c_2f12_11eb_a8b8_0242ac1c0002row5_col3\" class=\"data row5 col3\" >-3.749220</td>\n                        <td id=\"T_e8c0ee5c_2f12_11eb_a8b8_0242ac1c0002row5_col4\" class=\"data row5 col4\" >1594844.000000</td>\n                        <td id=\"T_e8c0ee5c_2f12_11eb_a8b8_0242ac1c0002row5_col5\" class=\"data row5 col5\" >43668.000000</td>\n                        <td id=\"T_e8c0ee5c_2f12_11eb_a8b8_0242ac1c0002row5_col6\" class=\"data row5 col6\" >150376.000000</td>\n                        <td id=\"T_e8c0ee5c_2f12_11eb_a8b8_0242ac1c0002row5_col7\" class=\"data row5 col7\" >1400800.000000</td>\n                        <td id=\"T_e8c0ee5c_2f12_11eb_a8b8_0242ac1c0002row5_col8\" class=\"data row5 col8\" >3411.082028</td>\n                        <td id=\"T_e8c0ee5c_2f12_11eb_a8b8_0242ac1c0002row5_col9\" class=\"data row5 col9\" >nan</td>\n                        <td id=\"T_e8c0ee5c_2f12_11eb_a8b8_0242ac1c0002row5_col10\" class=\"data row5 col10\" >nan</td>\n                        <td id=\"T_e8c0ee5c_2f12_11eb_a8b8_0242ac1c0002row5_col11\" class=\"data row5 col11\" >2.738073</td>\n                        <td id=\"T_e8c0ee5c_2f12_11eb_a8b8_0242ac1c0002row5_col12\" class=\"data row5 col12\" >724</td>\n                        <td id=\"T_e8c0ee5c_2f12_11eb_a8b8_0242ac1c0002row5_col13\" class=\"data row5 col13\" >ESP</td>\n            </tr>\n            <tr>\n                        <th id=\"T_e8c0ee5c_2f12_11eb_a8b8_0242ac1c0002level0_row6\" class=\"row_heading level0 row6\" >180</th>\n                        <td id=\"T_e8c0ee5c_2f12_11eb_a8b8_0242ac1c0002row6_col0\" class=\"data row6 col0\" >United Kingdom</td>\n                        <td id=\"T_e8c0ee5c_2f12_11eb_a8b8_0242ac1c0002row6_col1\" class=\"data row6 col1\" >2020-11-25 11:26:07</td>\n                        <td id=\"T_e8c0ee5c_2f12_11eb_a8b8_0242ac1c0002row6_col2\" class=\"data row6 col2\" >55.000000</td>\n                        <td id=\"T_e8c0ee5c_2f12_11eb_a8b8_0242ac1c0002row6_col3\" class=\"data row6 col3\" >-3.000000</td>\n                        <td id=\"T_e8c0ee5c_2f12_11eb_a8b8_0242ac1c0002row6_col4\" class=\"data row6 col4\" >1542623.000000</td>\n                        <td id=\"T_e8c0ee5c_2f12_11eb_a8b8_0242ac1c0002row6_col5\" class=\"data row6 col5\" >55935.000000</td>\n                        <td id=\"T_e8c0ee5c_2f12_11eb_a8b8_0242ac1c0002row6_col6\" class=\"data row6 col6\" >3410.000000</td>\n                        <td id=\"T_e8c0ee5c_2f12_11eb_a8b8_0242ac1c0002row6_col7\" class=\"data row6 col7\" >1483278.000000</td>\n                        <td id=\"T_e8c0ee5c_2f12_11eb_a8b8_0242ac1c0002row6_col8\" class=\"data row6 col8\" >2272.372668</td>\n                        <td id=\"T_e8c0ee5c_2f12_11eb_a8b8_0242ac1c0002row6_col9\" class=\"data row6 col9\" >nan</td>\n                        <td id=\"T_e8c0ee5c_2f12_11eb_a8b8_0242ac1c0002row6_col10\" class=\"data row6 col10\" >nan</td>\n                        <td id=\"T_e8c0ee5c_2f12_11eb_a8b8_0242ac1c0002row6_col11\" class=\"data row6 col11\" >3.625967</td>\n                        <td id=\"T_e8c0ee5c_2f12_11eb_a8b8_0242ac1c0002row6_col12\" class=\"data row6 col12\" >826</td>\n                        <td id=\"T_e8c0ee5c_2f12_11eb_a8b8_0242ac1c0002row6_col13\" class=\"data row6 col13\" >GBR</td>\n            </tr>\n            <tr>\n                        <th id=\"T_e8c0ee5c_2f12_11eb_a8b8_0242ac1c0002level0_row7\" class=\"row_heading level0 row7\" >85</th>\n                        <td id=\"T_e8c0ee5c_2f12_11eb_a8b8_0242ac1c0002row7_col0\" class=\"data row7 col0\" >Italy</td>\n                        <td id=\"T_e8c0ee5c_2f12_11eb_a8b8_0242ac1c0002row7_col1\" class=\"data row7 col1\" >2020-11-25 11:26:07</td>\n                        <td id=\"T_e8c0ee5c_2f12_11eb_a8b8_0242ac1c0002row7_col2\" class=\"data row7 col2\" >41.871900</td>\n                        <td id=\"T_e8c0ee5c_2f12_11eb_a8b8_0242ac1c0002row7_col3\" class=\"data row7 col3\" >12.567400</td>\n                        <td id=\"T_e8c0ee5c_2f12_11eb_a8b8_0242ac1c0002row7_col4\" class=\"data row7 col4\" >1455022.000000</td>\n                        <td id=\"T_e8c0ee5c_2f12_11eb_a8b8_0242ac1c0002row7_col5\" class=\"data row7 col5\" >51306.000000</td>\n                        <td id=\"T_e8c0ee5c_2f12_11eb_a8b8_0242ac1c0002row7_col6\" class=\"data row7 col6\" >605330.000000</td>\n                        <td id=\"T_e8c0ee5c_2f12_11eb_a8b8_0242ac1c0002row7_col7\" class=\"data row7 col7\" >798386.000000</td>\n                        <td id=\"T_e8c0ee5c_2f12_11eb_a8b8_0242ac1c0002row7_col8\" class=\"data row7 col8\" >2406.513412</td>\n                        <td id=\"T_e8c0ee5c_2f12_11eb_a8b8_0242ac1c0002row7_col9\" class=\"data row7 col9\" >nan</td>\n                        <td id=\"T_e8c0ee5c_2f12_11eb_a8b8_0242ac1c0002row7_col10\" class=\"data row7 col10\" >nan</td>\n                        <td id=\"T_e8c0ee5c_2f12_11eb_a8b8_0242ac1c0002row7_col11\" class=\"data row7 col11\" >3.526132</td>\n                        <td id=\"T_e8c0ee5c_2f12_11eb_a8b8_0242ac1c0002row7_col12\" class=\"data row7 col12\" >380</td>\n                        <td id=\"T_e8c0ee5c_2f12_11eb_a8b8_0242ac1c0002row7_col13\" class=\"data row7 col13\" >ITA</td>\n            </tr>\n            <tr>\n                        <th id=\"T_e8c0ee5c_2f12_11eb_a8b8_0242ac1c0002level0_row8\" class=\"row_heading level0 row8\" >6</th>\n                        <td id=\"T_e8c0ee5c_2f12_11eb_a8b8_0242ac1c0002row8_col0\" class=\"data row8 col0\" >Argentina</td>\n                        <td id=\"T_e8c0ee5c_2f12_11eb_a8b8_0242ac1c0002row8_col1\" class=\"data row8 col1\" >2020-11-25 11:26:07</td>\n                        <td id=\"T_e8c0ee5c_2f12_11eb_a8b8_0242ac1c0002row8_col2\" class=\"data row8 col2\" >-38.416100</td>\n                        <td id=\"T_e8c0ee5c_2f12_11eb_a8b8_0242ac1c0002row8_col3\" class=\"data row8 col3\" >-63.616700</td>\n                        <td id=\"T_e8c0ee5c_2f12_11eb_a8b8_0242ac1c0002row8_col4\" class=\"data row8 col4\" >1381795.000000</td>\n                        <td id=\"T_e8c0ee5c_2f12_11eb_a8b8_0242ac1c0002row8_col5\" class=\"data row8 col5\" >37432.000000</td>\n                        <td id=\"T_e8c0ee5c_2f12_11eb_a8b8_0242ac1c0002row8_col6\" class=\"data row8 col6\" >1210634.000000</td>\n                        <td id=\"T_e8c0ee5c_2f12_11eb_a8b8_0242ac1c0002row8_col7\" class=\"data row8 col7\" >133729.000000</td>\n                        <td id=\"T_e8c0ee5c_2f12_11eb_a8b8_0242ac1c0002row8_col8\" class=\"data row8 col8\" >3057.354230</td>\n                        <td id=\"T_e8c0ee5c_2f12_11eb_a8b8_0242ac1c0002row8_col9\" class=\"data row8 col9\" >nan</td>\n                        <td id=\"T_e8c0ee5c_2f12_11eb_a8b8_0242ac1c0002row8_col10\" class=\"data row8 col10\" >nan</td>\n                        <td id=\"T_e8c0ee5c_2f12_11eb_a8b8_0242ac1c0002row8_col11\" class=\"data row8 col11\" >2.708940</td>\n                        <td id=\"T_e8c0ee5c_2f12_11eb_a8b8_0242ac1c0002row8_col12\" class=\"data row8 col12\" >32</td>\n                        <td id=\"T_e8c0ee5c_2f12_11eb_a8b8_0242ac1c0002row8_col13\" class=\"data row8 col13\" >ARG</td>\n            </tr>\n            <tr>\n                        <th id=\"T_e8c0ee5c_2f12_11eb_a8b8_0242ac1c0002level0_row9\" class=\"row_heading level0 row9\" >37</th>\n                        <td id=\"T_e8c0ee5c_2f12_11eb_a8b8_0242ac1c0002row9_col0\" class=\"data row9 col0\" >Colombia</td>\n                        <td id=\"T_e8c0ee5c_2f12_11eb_a8b8_0242ac1c0002row9_col1\" class=\"data row9 col1\" >2020-11-25 11:26:07</td>\n                        <td id=\"T_e8c0ee5c_2f12_11eb_a8b8_0242ac1c0002row9_col2\" class=\"data row9 col2\" >4.570900</td>\n                        <td id=\"T_e8c0ee5c_2f12_11eb_a8b8_0242ac1c0002row9_col3\" class=\"data row9 col3\" >-74.297300</td>\n                        <td id=\"T_e8c0ee5c_2f12_11eb_a8b8_0242ac1c0002row9_col4\" class=\"data row9 col4\" >1262494.000000</td>\n                        <td id=\"T_e8c0ee5c_2f12_11eb_a8b8_0242ac1c0002row9_col5\" class=\"data row9 col5\" >35677.000000</td>\n                        <td id=\"T_e8c0ee5c_2f12_11eb_a8b8_0242ac1c0002row9_col6\" class=\"data row9 col6\" >1167857.000000</td>\n                        <td id=\"T_e8c0ee5c_2f12_11eb_a8b8_0242ac1c0002row9_col7\" class=\"data row9 col7\" >58960.000000</td>\n                        <td id=\"T_e8c0ee5c_2f12_11eb_a8b8_0242ac1c0002row9_col8\" class=\"data row9 col8\" >2481.176185</td>\n                        <td id=\"T_e8c0ee5c_2f12_11eb_a8b8_0242ac1c0002row9_col9\" class=\"data row9 col9\" >nan</td>\n                        <td id=\"T_e8c0ee5c_2f12_11eb_a8b8_0242ac1c0002row9_col10\" class=\"data row9 col10\" >nan</td>\n                        <td id=\"T_e8c0ee5c_2f12_11eb_a8b8_0242ac1c0002row9_col11\" class=\"data row9 col11\" >2.825914</td>\n                        <td id=\"T_e8c0ee5c_2f12_11eb_a8b8_0242ac1c0002row9_col12\" class=\"data row9 col12\" >170</td>\n                        <td id=\"T_e8c0ee5c_2f12_11eb_a8b8_0242ac1c0002row9_col13\" class=\"data row9 col13\" >COL</td>\n            </tr>\n    </tbody></table>",
        "text/plain": "<pandas.io.formats.style.Styler at 0x7fd2d243b978>"
       }
      ]
     }
    },
    "e5023dba823241eda00168718a7418de": {
     "model_module": "@jupyter-widgets/base",
     "model_name": "LayoutModel",
     "state": {
      "_model_module": "@jupyter-widgets/base",
      "_model_module_version": "1.2.0",
      "_model_name": "LayoutModel",
      "_view_count": null,
      "_view_module": "@jupyter-widgets/base",
      "_view_module_version": "1.2.0",
      "_view_name": "LayoutView",
      "align_content": null,
      "align_items": null,
      "align_self": null,
      "border": null,
      "bottom": null,
      "display": null,
      "flex": null,
      "flex_flow": null,
      "grid_area": null,
      "grid_auto_columns": null,
      "grid_auto_flow": null,
      "grid_auto_rows": null,
      "grid_column": null,
      "grid_gap": null,
      "grid_row": null,
      "grid_template_areas": null,
      "grid_template_columns": null,
      "grid_template_rows": null,
      "height": null,
      "justify_content": null,
      "justify_items": null,
      "left": null,
      "margin": null,
      "max_height": null,
      "max_width": null,
      "min_height": null,
      "min_width": null,
      "object_fit": null,
      "object_position": null,
      "order": null,
      "overflow": null,
      "overflow_x": null,
      "overflow_y": null,
      "padding": null,
      "right": null,
      "top": null,
      "visibility": null,
      "width": null
     }
    }
   }
  }
 },
 "nbformat": 4,
 "nbformat_minor": 1
}
